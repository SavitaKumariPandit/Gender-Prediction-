{
 "cells": [
  {
   "cell_type": "code",
   "execution_count": 124,
   "metadata": {},
   "outputs": [],
   "source": [
    "import pandas as pd\n",
    "scriptdata = pd.read_csv(\"C:/Users/Savita/Desktop/ml/prediction_gender/data/orig_data.csv\")\n"
   ]
  },
  {
   "cell_type": "code",
   "execution_count": 125,
   "metadata": {},
   "outputs": [
    {
     "data": {
      "text/html": [
       "<div>\n",
       "<style scoped>\n",
       "    .dataframe tbody tr th:only-of-type {\n",
       "        vertical-align: middle;\n",
       "    }\n",
       "\n",
       "    .dataframe tbody tr th {\n",
       "        vertical-align: top;\n",
       "    }\n",
       "\n",
       "    .dataframe thead th {\n",
       "        text-align: right;\n",
       "    }\n",
       "</style>\n",
       "<table border=\"1\" class=\"dataframe\">\n",
       "  <thead>\n",
       "    <tr style=\"text-align: right;\">\n",
       "      <th></th>\n",
       "      <th>_id</th>\n",
       "      <th>allbrowsercookies</th>\n",
       "      <th>bot</th>\n",
       "      <th>brand</th>\n",
       "      <th>browser</th>\n",
       "      <th>cookies.XSRF-TOKEN</th>\n",
       "      <th>cookies.__cfduid</th>\n",
       "      <th>cookies.cyber_astro_session</th>\n",
       "      <th>date</th>\n",
       "      <th>description</th>\n",
       "      <th>...</th>\n",
       "      <th>os</th>\n",
       "      <th>page_url</th>\n",
       "      <th>pc</th>\n",
       "      <th>referer</th>\n",
       "      <th>tablet</th>\n",
       "      <th>time</th>\n",
       "      <th>title</th>\n",
       "      <th>touch</th>\n",
       "      <th>user_id</th>\n",
       "      <th>visit_num</th>\n",
       "    </tr>\n",
       "  </thead>\n",
       "  <tbody>\n",
       "    <tr>\n",
       "      <th>0</th>\n",
       "      <td>5ddb4e1a90281a177983e57c</td>\n",
       "      <td>[\"__gads=ID=4ac600ce86bc98a5:T=1569838984:S=AL...</td>\n",
       "      <td>False</td>\n",
       "      <td>NaN</td>\n",
       "      <td>Chrome</td>\n",
       "      <td>NaN</td>\n",
       "      <td>d74390cf7ecf49d02be7084c106884ffd1574653464</td>\n",
       "      <td>NaN</td>\n",
       "      <td>26-11-19</td>\n",
       "      <td>description</td>\n",
       "      <td>...</td>\n",
       "      <td>Windows</td>\n",
       "      <td>https://www.facultyplus.com/</td>\n",
       "      <td>True</td>\n",
       "      <td>https://www.facultyplus.com/</td>\n",
       "      <td>False</td>\n",
       "      <td>9:14:23</td>\n",
       "      <td>FacultyPlus - Indian Faculty Jobs - Assistant ...</td>\n",
       "      <td>False</td>\n",
       "      <td>MjY3_117.240.189.2</td>\n",
       "      <td>25.0</td>\n",
       "    </tr>\n",
       "    <tr>\n",
       "      <th>1</th>\n",
       "      <td>5ddb4e2b90281a177983e598</td>\n",
       "      <td>[\"__gads=ID=4ac600ce86bc98a5:T=1569838984:S=AL...</td>\n",
       "      <td>False</td>\n",
       "      <td>NaN</td>\n",
       "      <td>Chrome</td>\n",
       "      <td>NaN</td>\n",
       "      <td>d0ce46f9b728fd9e5ef5ec2b36a0bffac1574653481</td>\n",
       "      <td>NaN</td>\n",
       "      <td>26-11-19</td>\n",
       "      <td>description</td>\n",
       "      <td>...</td>\n",
       "      <td>Windows</td>\n",
       "      <td>https://www.facultyplus.com/engineering</td>\n",
       "      <td>True</td>\n",
       "      <td>https://www.facultyplus.com/engineering</td>\n",
       "      <td>False</td>\n",
       "      <td>9:14:39</td>\n",
       "      <td>engineering Archives - FacultyPlus</td>\n",
       "      <td>False</td>\n",
       "      <td>MjY3_117.240.189.2</td>\n",
       "      <td>26.0</td>\n",
       "    </tr>\n",
       "  </tbody>\n",
       "</table>\n",
       "<p>2 rows × 42 columns</p>\n",
       "</div>"
      ],
      "text/plain": [
       "                        _id  \\\n",
       "0  5ddb4e1a90281a177983e57c   \n",
       "1  5ddb4e2b90281a177983e598   \n",
       "\n",
       "                                   allbrowsercookies    bot brand browser  \\\n",
       "0  [\"__gads=ID=4ac600ce86bc98a5:T=1569838984:S=AL...  False   NaN  Chrome   \n",
       "1  [\"__gads=ID=4ac600ce86bc98a5:T=1569838984:S=AL...  False   NaN  Chrome   \n",
       "\n",
       "   cookies.XSRF-TOKEN                             cookies.__cfduid  \\\n",
       "0                 NaN  d74390cf7ecf49d02be7084c106884ffd1574653464   \n",
       "1                 NaN  d0ce46f9b728fd9e5ef5ec2b36a0bffac1574653481   \n",
       "\n",
       "   cookies.cyber_astro_session      date  description  ...       os  \\\n",
       "0                          NaN  26-11-19  description  ...  Windows   \n",
       "1                          NaN  26-11-19  description  ...  Windows   \n",
       "\n",
       "                                  page_url    pc  \\\n",
       "0             https://www.facultyplus.com/  True   \n",
       "1  https://www.facultyplus.com/engineering  True   \n",
       "\n",
       "                                   referer tablet     time  \\\n",
       "0             https://www.facultyplus.com/  False  9:14:23   \n",
       "1  https://www.facultyplus.com/engineering  False  9:14:39   \n",
       "\n",
       "                                               title  touch  \\\n",
       "0  FacultyPlus - Indian Faculty Jobs - Assistant ...  False   \n",
       "1                 engineering Archives - FacultyPlus  False   \n",
       "\n",
       "              user_id visit_num  \n",
       "0  MjY3_117.240.189.2      25.0  \n",
       "1  MjY3_117.240.189.2      26.0  \n",
       "\n",
       "[2 rows x 42 columns]"
      ]
     },
     "execution_count": 125,
     "metadata": {},
     "output_type": "execute_result"
    }
   ],
   "source": [
    "scriptdata.head(2)"
   ]
  },
  {
   "cell_type": "code",
   "execution_count": 126,
   "metadata": {},
   "outputs": [
    {
     "name": "stdout",
     "output_type": "stream",
     "text": [
      "['_id' 'allbrowsercookies' 'bot' 'brand' 'browser' 'cookies.XSRF-TOKEN'\n",
      " 'cookies.__cfduid' 'cookies.cyber_astro_session' 'date' 'description'\n",
      " 'device' 'device_address' 'google_id' 'host_name' 'image_text'\n",
      " 'impression' 'ip' 'keywords' 'language' 'local_hostname' 'location.IPv4'\n",
      " 'location.city' 'location.country_code' 'location.country_name'\n",
      " 'location.latitude' 'location.longitude' 'location.postal'\n",
      " 'location.state' 'mobile' 'model' 'mylocalstorage' 'mysession' 'os'\n",
      " 'page_url' 'pc' 'referer' 'tablet' 'time' 'title' 'touch' 'user_id'\n",
      " 'visit_num']\n"
     ]
    }
   ],
   "source": [
    "print(scriptdata.columns.values)"
   ]
  },
  {
   "cell_type": "code",
   "execution_count": 127,
   "metadata": {},
   "outputs": [],
   "source": [
    "scriptdata = scriptdata.drop(['_id','allbrowsercookies','bot','brand','browser','cookies.XSRF-TOKEN','cookies.__cfduid','cookies.cyber_astro_session','date','description','device','device_address','google_id','host_name',\n",
    " 'image_text','impression','ip','language','local_hostname','location.IPv4','location.city','location.country_code','location.country_name','location.latitude','location.longitude','location.postal','location.state','mobile','model','mylocalstorage',\n",
    " 'mysession','os','page_url','pc','referer','tablet','time','title','touch','user_id','visit_num'], axis = 1)"
   ]
  },
  {
   "cell_type": "code",
   "execution_count": 128,
   "metadata": {},
   "outputs": [],
   "source": [
    "scriptdata = scriptdata.apply(lambda x: x.astype(str).str.lower())\n"
   ]
  },
  {
   "cell_type": "code",
   "execution_count": 129,
   "metadata": {},
   "outputs": [],
   "source": [
    "scriptdata['name'] = scriptdata[scriptdata.columns[0:]].apply(\n",
    "    lambda x: ','.join(x.dropna().astype(str)),\n",
    "    axis=1)\n"
   ]
  },
  {
   "cell_type": "code",
   "execution_count": 130,
   "metadata": {},
   "outputs": [],
   "source": [
    "scriptdata['name']=scriptdata.name.str.replace('\\d+', '')"
   ]
  },
  {
   "cell_type": "code",
   "execution_count": 131,
   "metadata": {},
   "outputs": [
    {
     "data": {
      "text/html": [
       "<div>\n",
       "<style scoped>\n",
       "    .dataframe tbody tr th:only-of-type {\n",
       "        vertical-align: middle;\n",
       "    }\n",
       "\n",
       "    .dataframe tbody tr th {\n",
       "        vertical-align: top;\n",
       "    }\n",
       "\n",
       "    .dataframe thead th {\n",
       "        text-align: right;\n",
       "    }\n",
       "</style>\n",
       "<table border=\"1\" class=\"dataframe\">\n",
       "  <thead>\n",
       "    <tr style=\"text-align: right;\">\n",
       "      <th></th>\n",
       "      <th>keywords</th>\n",
       "      <th>name</th>\n",
       "    </tr>\n",
       "  </thead>\n",
       "  <tbody>\n",
       "    <tr>\n",
       "      <th>0</th>\n",
       "      <td>facultyplus is an indian faculty jobs portal. ...</td>\n",
       "      <td>facultyplus is an indian faculty jobs portal  ...</td>\n",
       "    </tr>\n",
       "    <tr>\n",
       "      <th>1</th>\n",
       "      <td>engineering college teaching jobs 2018</td>\n",
       "      <td>engineering college teaching jobs</td>\n",
       "    </tr>\n",
       "  </tbody>\n",
       "</table>\n",
       "</div>"
      ],
      "text/plain": [
       "                                            keywords  \\\n",
       "0  facultyplus is an indian faculty jobs portal. ...   \n",
       "1             engineering college teaching jobs 2018   \n",
       "\n",
       "                                                name  \n",
       "0  facultyplus is an indian faculty jobs portal  ...  \n",
       "1                 engineering college teaching jobs   "
      ]
     },
     "execution_count": 131,
     "metadata": {},
     "output_type": "execute_result"
    }
   ],
   "source": [
    "import string\n",
    "scriptdata['name']= scriptdata['name'].str.replace('[!”#$%&’()*+,-./:;<=>?@[\\]^_`{}~]'.format(string.punctuation), \" \")\n",
    "\n",
    "scriptdata.head(2)"
   ]
  },
  {
   "cell_type": "code",
   "execution_count": 132,
   "metadata": {},
   "outputs": [],
   "source": [
    "scriptdata= scriptdata['name'].str.split()"
   ]
  },
  {
   "cell_type": "code",
   "execution_count": 133,
   "metadata": {},
   "outputs": [],
   "source": [
    "script= scriptdata.values.tolist()\n"
   ]
  },
  {
   "cell_type": "code",
   "execution_count": 134,
   "metadata": {},
   "outputs": [],
   "source": [
    "from functools import reduce\n",
    "flat_list = reduce(lambda x, y: x+y, script)\n"
   ]
  },
  {
   "cell_type": "code",
   "execution_count": 135,
   "metadata": {},
   "outputs": [],
   "source": [
    "script = list(dict.fromkeys(flat_list))\n"
   ]
  },
  {
   "cell_type": "code",
   "execution_count": 136,
   "metadata": {},
   "outputs": [],
   "source": [
    "str1 = ' '.join(script)\n"
   ]
  },
  {
   "cell_type": "code",
   "execution_count": 137,
   "metadata": {},
   "outputs": [],
   "source": [
    "import pandas as pd\n",
    "import spacy\n",
    "nlp = spacy.load(\"en\")\n",
    "doc = nlp(str1) \n",
    "mylist = []\n",
    "for token in doc: \n",
    "      mylist.append((token, token.pos_))\n"
   ]
  },
  {
   "cell_type": "code",
   "execution_count": 138,
   "metadata": {},
   "outputs": [],
   "source": [
    "m_increment = 0\n",
    "f_increment = 0\n",
    "o_increment = 0\n",
    "word_output1 = []\n",
    "word_output2 =  []\n",
    "word_output3 = []\n",
    "for word in mylist:\n",
    "    if word[-1] in ['INTJ','ADJ','ADV','DET','PRON']:\n",
    "        word_output2.append(word)\n",
    "        f_increment = f_increment + 1\n",
    "  \n",
    "    elif word[-1] in ['VERBS','NOUN','PROPN','ADP','AUXILARY','CCONJ','SCONJ','PART','prep']:\n",
    "        word_output1.append(word)\n",
    "        m_increment = m_increment + 1\n",
    "        \n",
    "    elif word[-1] in ['SYM','PUNCT','NUM','X']:\n",
    "        word_output3.append(word)\n",
    "        o_increment = o_increment + 1\n",
    "        \n",
    "        \n"
   ]
  },
  {
   "cell_type": "code",
   "execution_count": 139,
   "metadata": {},
   "outputs": [],
   "source": [
    "from operator import itemgetter\n",
    "res1 = list(map(itemgetter(0), word_output1)) \n",
    "res2 = list(map(itemgetter(0), word_output2)) \n"
   ]
  },
  {
   "cell_type": "code",
   "execution_count": 140,
   "metadata": {},
   "outputs": [],
   "source": [
    "m1_key = [str(x) for x in res1]\n",
    "f1_key = [str(y) for y in res2]\n"
   ]
  },
  {
   "cell_type": "code",
   "execution_count": 141,
   "metadata": {},
   "outputs": [],
   "source": [
    "unwanted_num = {'a', 'b','c','d','e','f','g','h','i','j','k','l','m','n','o','p','q','r','s','t','u','v','x','y','z','vel', 'aaa', 'rd', 'nd', 'th', 'kg', 'pg', 'sr', 'st', 'csi', 'avs', 'scad', 'psn', 'npr', 'srm', 'trp', 'dpc', 'san', 'ksg', 'psg', 'rev', 'gr', 'vnr', 'rtmbs', 'kle', 'avn', 'gvg', 'dgim', 'byst', 'skd', 'ysr', 'gsfc', 'pmr', 'psv', 'rimt', 'gmr', 'sdnb', 'jct', 'kvsr', 'drbccc', 'pvkk', 'idrbt', 'srv', 'kpr', 'djr', 'bhu', 'bpr', 'ajk', 'psf', 'kgt', 'bt', 'gls', 'avp', 'aps', 'sns','ck','hkbk', 'qis', 'mvsr','mcm','nan', 'rbvrr', 'ggn', 'fdp', 'ndrk', 'svkm', 'nmims', 'kles', 'dyp', 'gd'} \n",
    "remove_gram1 = [ele for ele in m1_key if ele not in unwanted_num] \n"
   ]
  },
  {
   "cell_type": "code",
   "execution_count": 142,
   "metadata": {},
   "outputs": [],
   "source": [
    "unwanted_num = {'a', 'b','c','d','e','f','g','h','i','j','k','l','m','n','o','p','q','r','s','t','u','v','x','y','z','vel', 'aaa', 'rd', 'nd', 'th', 'kg', 'pg', 'sr', 'st', 'csi', 'avs', 'scad', 'psn', 'npr', 'srm', 'trp', 'dpc', 'san', 'ksg', 'psg', 'rev', 'gr', 'vnr', 'rtmbs', 'kle', 'avn', 'gvg', 'dgim', 'byst', 'skd', 'ysr', 'gsfc', 'pmr', 'psv', 'rimt', 'gmr', 'sdnb', 'jct', 'kvsr', 'drbccc', 'pvkk', 'idrbt', 'srv', 'kpr', 'djr', 'bhu', 'bpr', 'ajk', 'psf', 'kgt', 'bt', 'gls', 'avp', 'aps', 'sns','ck', 'qis', 'mcm', 'rbvrr','nan', 'ggn', 'fdp', 'ndrk', 'svkm', 'nmims', 'kles', 'dyp', 'gd'} \n",
    "remove_gram2 = [ele for ele in f1_key if ele not in unwanted_num] \n"
   ]
  },
  {
   "cell_type": "code",
   "execution_count": 143,
   "metadata": {},
   "outputs": [],
   "source": [
    "v1 = 0\n",
    "c1 = 0\n",
    "v2 = 0\n",
    "c2 = 0\n",
    "c_f1 = []\n",
    "v_f1 =  []\n",
    "c_m2 = []\n",
    "v_m2 =  []\n",
    "\n",
    "for word in remove_gram2:\n",
    "    if word[-1] in ['a','e','i','o','u']:\n",
    "        v_f1.append(word)\n",
    "        v1 = v1 + 1\n",
    "  \n",
    "    else:\n",
    "        c_f1.append(word)\n",
    "        c1 = c1 + 1\n",
    "        \n",
    "for word in remove_gram1:\n",
    "    if word[-1] in ['a','e','i','o','u']:\n",
    "        v_m2.append(word)\n",
    "        v2 = v2 + 1\n",
    "  \n",
    "    else:\n",
    "        c_m2.append(word)\n",
    "        c2 = c2 + 1\n",
    "        \n"
   ]
  },
  {
   "cell_type": "code",
   "execution_count": 145,
   "metadata": {},
   "outputs": [],
   "source": [
    "word_cat1  =   c_m2 + c_f1\n",
    "word_cat2   =   v_m2 + v_f1\n"
   ]
  },
  {
   "cell_type": "code",
   "execution_count": 146,
   "metadata": {},
   "outputs": [],
   "source": [
    "import pandas as pd\n",
    "data_type1 = pd.DataFrame(word_cat2)\n",
    "data_type2 = pd.DataFrame(word_cat1)\n"
   ]
  },
  {
   "cell_type": "code",
   "execution_count": 147,
   "metadata": {},
   "outputs": [],
   "source": [
    "data_type1.rename(columns = {0:'name'}, inplace = True) \n",
    "data_type2.rename(columns = {0:'name'}, inplace = True) \n"
   ]
  },
  {
   "cell_type": "code",
   "execution_count": 148,
   "metadata": {},
   "outputs": [],
   "source": [
    "data_type1.to_csv(\"C:/Users/Savita/Desktop/ml/prediction_gender/data/key1f.csv\")\n",
    "data_type2.to_csv(\"C:/Users/Savita/Desktop/ml/prediction_gender/data/key1m.csv\")\n"
   ]
  },
  {
   "cell_type": "code",
   "execution_count": 149,
   "metadata": {},
   "outputs": [],
   "source": [
    "data_type1['Gender'] = 'F'\n",
    "data_type2['Gender'] = 'M'\n"
   ]
  },
  {
   "cell_type": "code",
   "execution_count": 150,
   "metadata": {},
   "outputs": [],
   "source": [
    "original = data_type2.append(data_type1) \n"
   ]
  },
  {
   "cell_type": "code",
   "execution_count": 151,
   "metadata": {},
   "outputs": [],
   "source": [
    "original.to_csv(\"C:/Users/Savita/Desktop/ml/prediction_gender/data/data_preprocess.csv\")\n"
   ]
  },
  {
   "cell_type": "code",
   "execution_count": 152,
   "metadata": {},
   "outputs": [],
   "source": [
    "import pandas as pd\n",
    "import numpy as np\n",
    "from nltk.tokenize import word_tokenize\n",
    "from nltk import pos_tag\n",
    "from nltk.corpus import stopwords\n",
    "from nltk.stem import WordNetLemmatizer\n",
    "from sklearn.preprocessing import LabelEncoder\n",
    "from collections import defaultdict\n",
    "from nltk.corpus import wordnet as wn\n",
    "from sklearn.feature_extraction.text import TfidfVectorizer\n",
    "from sklearn import model_selection, naive_bayes, svm\n",
    "from sklearn.metrics import accuracy_score\n",
    "np.random.seed(500)\n"
   ]
  },
  {
   "cell_type": "code",
   "execution_count": 153,
   "metadata": {},
   "outputs": [
    {
     "data": {
      "text/html": [
       "<div>\n",
       "<style scoped>\n",
       "    .dataframe tbody tr th:only-of-type {\n",
       "        vertical-align: middle;\n",
       "    }\n",
       "\n",
       "    .dataframe tbody tr th {\n",
       "        vertical-align: top;\n",
       "    }\n",
       "\n",
       "    .dataframe thead th {\n",
       "        text-align: right;\n",
       "    }\n",
       "</style>\n",
       "<table border=\"1\" class=\"dataframe\">\n",
       "  <thead>\n",
       "    <tr style=\"text-align: right;\">\n",
       "      <th></th>\n",
       "      <th>Unnamed: 0</th>\n",
       "      <th>name</th>\n",
       "      <th>Gender</th>\n",
       "    </tr>\n",
       "  </thead>\n",
       "  <tbody>\n",
       "    <tr>\n",
       "      <th>0</th>\n",
       "      <td>0</td>\n",
       "      <td>facultyplus</td>\n",
       "      <td>M</td>\n",
       "    </tr>\n",
       "    <tr>\n",
       "      <th>1</th>\n",
       "      <td>1</td>\n",
       "      <td>faculty</td>\n",
       "      <td>M</td>\n",
       "    </tr>\n",
       "  </tbody>\n",
       "</table>\n",
       "</div>"
      ],
      "text/plain": [
       "   Unnamed: 0         name Gender\n",
       "0           0  facultyplus      M\n",
       "1           1      faculty      M"
      ]
     },
     "execution_count": 153,
     "metadata": {},
     "output_type": "execute_result"
    }
   ],
   "source": [
    "original = pd.read_csv(\"C:/Users/Savita/Desktop/ml/prediction_gender/data/data_preprocess.csv\")\n",
    "original.head(2)\n"
   ]
  },
  {
   "cell_type": "code",
   "execution_count": 154,
   "metadata": {},
   "outputs": [],
   "source": [
    "original['name'] = original['name'].str.capitalize() \n"
   ]
  },
  {
   "cell_type": "code",
   "execution_count": 157,
   "metadata": {},
   "outputs": [],
   "source": [
    "#original.to_csv(\"C:/Users/Savita/Desktop/ml/prediction_gender/data/mf_c.csv\")"
   ]
  },
  {
   "cell_type": "code",
   "execution_count": 158,
   "metadata": {},
   "outputs": [],
   "source": [
    "Train_X, Test_X, Train_Y, Test_Y = model_selection.train_test_split(original['name'],original['Gender'],test_size=0.3)\n"
   ]
  },
  {
   "cell_type": "code",
   "execution_count": 159,
   "metadata": {},
   "outputs": [],
   "source": [
    "Encoder = LabelEncoder()\n",
    "Train_Y = Encoder.fit_transform(Train_Y)\n",
    "Test_Y = Encoder.fit_transform(Test_Y)\n"
   ]
  },
  {
   "cell_type": "code",
   "execution_count": 160,
   "metadata": {},
   "outputs": [],
   "source": [
    "v = TfidfVectorizer(decode_error='replace', encoding='utf-8')\n",
    "x = v.fit_transform(original['name'].values.astype('str'))  ## Even astype(str) would work\n"
   ]
  },
  {
   "cell_type": "code",
   "execution_count": 161,
   "metadata": {},
   "outputs": [],
   "source": [
    "Tfidf_vect = TfidfVectorizer(max_features=2836)\n",
    "Tfidf_vect.fit(original['name'])\n",
    "Train_X_Tfidf = Tfidf_vect.transform(Train_X)\n",
    "Test_X_Tfidf = Tfidf_vect.transform(Test_X)\n"
   ]
  },
  {
   "cell_type": "code",
   "execution_count": 162,
   "metadata": {},
   "outputs": [
    {
     "name": "stdout",
     "output_type": "stream",
     "text": [
      "Naive Bayes Accuracy Score ->  66.11842105263158\n"
     ]
    }
   ],
   "source": [
    "Naive = naive_bayes.MultinomialNB()\n",
    "Naive.fit(Train_X_Tfidf,Train_Y)\n",
    "predictions_NB = Naive.predict(Test_X_Tfidf)\n",
    "print(\"Naive Bayes Accuracy Score -> \",accuracy_score(predictions_NB, Test_Y)*100)"
   ]
  },
  {
   "cell_type": "code",
   "execution_count": 163,
   "metadata": {},
   "outputs": [
    {
     "name": "stdout",
     "output_type": "stream",
     "text": [
      "SVM Accuracy Score ->  66.11842105263158\n"
     ]
    }
   ],
   "source": [
    "SVM = svm.SVC(C=1.0, kernel='linear', degree=3, gamma='auto')\n",
    "SVM.fit(Train_X_Tfidf,Train_Y)\n",
    "predictions_SVM = SVM.predict(Test_X_Tfidf)\n",
    "print(\"SVM Accuracy Score -> \",accuracy_score(predictions_SVM, Test_Y)*100)"
   ]
  },
  {
   "cell_type": "code",
   "execution_count": 164,
   "metadata": {},
   "outputs": [
    {
     "data": {
      "text/plain": [
       "RandomForestClassifier(bootstrap=True, class_weight=None, criterion='gini',\n",
       "                       max_depth=None, max_features='auto', max_leaf_nodes=None,\n",
       "                       min_impurity_decrease=0.0, min_impurity_split=None,\n",
       "                       min_samples_leaf=1, min_samples_split=2,\n",
       "                       min_weight_fraction_leaf=0.0, n_estimators=1000,\n",
       "                       n_jobs=None, oob_score=False, random_state=0, verbose=0,\n",
       "                       warm_start=False)"
      ]
     },
     "execution_count": 164,
     "metadata": {},
     "output_type": "execute_result"
    }
   ],
   "source": [
    "from sklearn.linear_model import LogisticRegression\n",
    "from sklearn.ensemble import RandomForestClassifier\n",
    "from sklearn.tree import DecisionTreeClassifier, export_graphviz\n",
    "from sklearn import metrics\n",
    "classifier = RandomForestClassifier(n_estimators=1000, random_state=0)\n",
    "classifier.fit(Train_X_Tfidf,Train_Y) \n"
   ]
  },
  {
   "cell_type": "code",
   "execution_count": 165,
   "metadata": {},
   "outputs": [],
   "source": [
    "y_pred = classifier.predict(Test_X_Tfidf)\n"
   ]
  },
  {
   "cell_type": "code",
   "execution_count": 7,
   "metadata": {},
   "outputs": [],
   "source": [
    "def gender_features(word):\n",
    "     return {'last_letter': word[-1]}\n"
   ]
  },
  {
   "cell_type": "code",
   "execution_count": 8,
   "metadata": {},
   "outputs": [],
   "source": [
    "from nltk.corpus import names\n",
    "labeled_names = ([(name, 'Male') for name in names.words('C:/Users/Savita/Desktop/PYTHON/ml/key1m.csv')] +\n",
    "     [(name, 'Female') for name in names.words('C:/Users/Savita/Desktop/PYTHON/ml/key1f.csv')])\n",
    "import random\n",
    "random.shuffle(labeled_names)\n"
   ]
  },
  {
   "cell_type": "code",
   "execution_count": 9,
   "metadata": {},
   "outputs": [],
   "source": [
    "import nltk\n",
    "featuresets = [(gender_features(n), gender) for (n, gender) in labeled_names]\n",
    "train_set, test_set = featuresets[700:], featuresets[:300]\n",
    "classifier = nltk.NaiveBayesClassifier.train(train_set)\n"
   ]
  },
  {
   "cell_type": "code",
   "execution_count": 12,
   "metadata": {},
   "outputs": [
    {
     "data": {
      "text/plain": [
       "'Male'"
      ]
     },
     "execution_count": 12,
     "metadata": {},
     "output_type": "execute_result"
    }
   ],
   "source": [
    "classifier.classify(gender_features('RAHUL'))\n"
   ]
  },
  {
   "cell_type": "code",
   "execution_count": 170,
   "metadata": {},
   "outputs": [
    {
     "name": "stdout",
     "output_type": "stream",
     "text": [
      "1.0\n"
     ]
    }
   ],
   "source": [
    "print(nltk.classify.accuracy(classifier, test_set))\n"
   ]
  },
  {
   "cell_type": "code",
   "execution_count": 171,
   "metadata": {},
   "outputs": [
    {
     "name": "stdout",
     "output_type": "stream",
     "text": [
      "Most Informative Features\n"
     ]
    }
   ],
   "source": [
    "classifier.show_most_informative_features(10)"
   ]
  },
  {
   "cell_type": "code",
   "execution_count": 172,
   "metadata": {},
   "outputs": [],
   "source": [
    "from nltk.classify import apply_features\n",
    "train_set = apply_features(gender_features, labeled_names[700:])\n",
    "test_set = apply_features(gender_features, labeled_names[:309])\n"
   ]
  },
  {
   "cell_type": "code",
   "execution_count": 173,
   "metadata": {},
   "outputs": [],
   "source": [
    "def gender_features2(name):\n",
    "    features = {}\n",
    "    features[\"first_letter\"] = name[0].lower()\n",
    "    features[\"last_letter\"] = name[-1].lower()\n",
    "    for letter in 'abcdefghijklmnopqrstuvwxyz':\n",
    "        features[\"count({})\".format(letter)] = name.lower().count(letter)\n",
    "        features[\"has({})\".format(letter)] = (letter in name.lower())\n",
    "    return features\n",
    " "
   ]
  },
  {
   "cell_type": "code",
   "execution_count": 174,
   "metadata": {},
   "outputs": [
    {
     "name": "stdout",
     "output_type": "stream",
     "text": [
      "0.9805825242718447\n"
     ]
    }
   ],
   "source": [
    "featuresets = [(gender_features2(n), gender) for (n, gender) in labeled_names]\n",
    "train_set, test_set = featuresets[700:], featuresets[:309]\n",
    "classifier = nltk.NaiveBayesClassifier.train(train_set)\n",
    "print(nltk.classify.accuracy(classifier, test_set))\n"
   ]
  },
  {
   "cell_type": "code",
   "execution_count": 175,
   "metadata": {},
   "outputs": [],
   "source": [
    "train_names = labeled_names[700:]\n",
    "devtest_names = labeled_names[309:700]\n",
    "test_names = labeled_names[:309]\n"
   ]
  },
  {
   "cell_type": "code",
   "execution_count": 176,
   "metadata": {},
   "outputs": [
    {
     "name": "stdout",
     "output_type": "stream",
     "text": [
      "0.9974424552429667\n"
     ]
    }
   ],
   "source": [
    "train_set = [(gender_features(n), gender) for (n, gender) in train_names]\n",
    "devtest_set = [(gender_features(n), gender) for (n, gender) in devtest_names]\n",
    "test_set = [(gender_features(n), gender) for (n, gender) in test_names]\n",
    "classifier = nltk.NaiveBayesClassifier.train(train_set) \n",
    "print(nltk.classify.accuracy(classifier, devtest_set))\n"
   ]
  },
  {
   "cell_type": "code",
   "execution_count": 177,
   "metadata": {},
   "outputs": [],
   "source": [
    "errors = []\n",
    "for (name, tag) in devtest_names:\n",
    "    guess = classifier.classify(gender_features(name))\n",
    "if guess != tag:\n",
    "    errors.append( (tag, guess, name) )\n"
   ]
  },
  {
   "cell_type": "code",
   "execution_count": 178,
   "metadata": {},
   "outputs": [],
   "source": [
    "for (tag, guess, name) in sorted(errors):\n",
    "    print('correct={:<8} guess={:<8s} name={:<30}'.format(tag, guess, name))"
   ]
  },
  {
   "cell_type": "code",
   "execution_count": 179,
   "metadata": {},
   "outputs": [],
   "source": [
    "def gender_features(word):\n",
    "    return {'suffix1': word[-1:],\n",
    "            'suffix2': word[-2:]}"
   ]
  },
  {
   "cell_type": "code",
   "execution_count": 180,
   "metadata": {},
   "outputs": [
    {
     "name": "stdout",
     "output_type": "stream",
     "text": [
      "0.9974424552429667\n"
     ]
    }
   ],
   "source": [
    "train_set = [(gender_features(n), gender) for (n, gender) in train_names]\n",
    "devtest_set = [(gender_features(n), gender) for (n, gender) in devtest_names]\n",
    "classifier = nltk.NaiveBayesClassifier.train(train_set)\n",
    "print(nltk.classify.accuracy(classifier, devtest_set))\n"
   ]
  },
  {
   "cell_type": "code",
   "execution_count": 181,
   "metadata": {},
   "outputs": [],
   "source": [
    "import pandas as pd\n",
    "import numpy as np\n",
    "from nltk.tokenize import word_tokenize\n",
    "from nltk import pos_tag\n",
    "from nltk.corpus import stopwords\n",
    "from nltk.stem import WordNetLemmatizer\n",
    "from sklearn.preprocessing import LabelEncoder\n",
    "from collections import defaultdict\n",
    "from nltk.corpus import wordnet as wn\n",
    "from sklearn.feature_extraction.text import TfidfVectorizer\n",
    "from sklearn import model_selection, naive_bayes, svm\n",
    "from sklearn.metrics import accuracy_score\n",
    "np.random.seed(500)\n"
   ]
  },
  {
   "cell_type": "code",
   "execution_count": 182,
   "metadata": {
    "scrolled": true
   },
   "outputs": [
    {
     "data": {
      "text/html": [
       "<div>\n",
       "<style scoped>\n",
       "    .dataframe tbody tr th:only-of-type {\n",
       "        vertical-align: middle;\n",
       "    }\n",
       "\n",
       "    .dataframe tbody tr th {\n",
       "        vertical-align: top;\n",
       "    }\n",
       "\n",
       "    .dataframe thead th {\n",
       "        text-align: right;\n",
       "    }\n",
       "</style>\n",
       "<table border=\"1\" class=\"dataframe\">\n",
       "  <thead>\n",
       "    <tr style=\"text-align: right;\">\n",
       "      <th></th>\n",
       "      <th>Unnamed: 0</th>\n",
       "      <th>name</th>\n",
       "      <th>Gender</th>\n",
       "    </tr>\n",
       "  </thead>\n",
       "  <tbody>\n",
       "    <tr>\n",
       "      <th>0</th>\n",
       "      <td>0</td>\n",
       "      <td>facultyplus</td>\n",
       "      <td>M</td>\n",
       "    </tr>\n",
       "    <tr>\n",
       "      <th>1</th>\n",
       "      <td>1</td>\n",
       "      <td>faculty</td>\n",
       "      <td>M</td>\n",
       "    </tr>\n",
       "  </tbody>\n",
       "</table>\n",
       "</div>"
      ],
      "text/plain": [
       "   Unnamed: 0         name Gender\n",
       "0           0  facultyplus      M\n",
       "1           1      faculty      M"
      ]
     },
     "execution_count": 182,
     "metadata": {},
     "output_type": "execute_result"
    }
   ],
   "source": [
    "original = pd.read_csv(\"C:/Users/Savita/Desktop/ml/prediction_gender/data/data_preprocess.csv\")\n",
    "original.head(2)\n"
   ]
  },
  {
   "cell_type": "code",
   "execution_count": 183,
   "metadata": {},
   "outputs": [
    {
     "data": {
      "text/plain": [
       "3033"
      ]
     },
     "execution_count": 183,
     "metadata": {},
     "output_type": "execute_result"
    }
   ],
   "source": [
    "original.size"
   ]
  },
  {
   "cell_type": "code",
   "execution_count": 184,
   "metadata": {},
   "outputs": [
    {
     "data": {
      "text/plain": [
       "Index(['Unnamed: 0', 'name', 'Gender'], dtype='object')"
      ]
     },
     "execution_count": 184,
     "metadata": {},
     "output_type": "execute_result"
    }
   ],
   "source": [
    "original.columns"
   ]
  },
  {
   "cell_type": "code",
   "execution_count": 185,
   "metadata": {},
   "outputs": [
    {
     "data": {
      "text/plain": [
       "Unnamed: 0     int64\n",
       "name          object\n",
       "Gender        object\n",
       "dtype: object"
      ]
     },
     "execution_count": 185,
     "metadata": {},
     "output_type": "execute_result"
    }
   ],
   "source": [
    "original.dtypes"
   ]
  },
  {
   "cell_type": "code",
   "execution_count": 186,
   "metadata": {},
   "outputs": [
    {
     "data": {
      "text/plain": [
       "Unnamed: 0    0\n",
       "name          0\n",
       "Gender        0\n",
       "dtype: int64"
      ]
     },
     "execution_count": 186,
     "metadata": {},
     "output_type": "execute_result"
    }
   ],
   "source": [
    "original.isnull().isnull().sum()"
   ]
  },
  {
   "cell_type": "code",
   "execution_count": 187,
   "metadata": {},
   "outputs": [
    {
     "data": {
      "text/plain": [
       "1122"
      ]
     },
     "execution_count": 187,
     "metadata": {},
     "output_type": "execute_result"
    }
   ],
   "source": [
    "original[original.Gender == 'F'].size"
   ]
  },
  {
   "cell_type": "code",
   "execution_count": 188,
   "metadata": {},
   "outputs": [
    {
     "data": {
      "text/plain": [
       "1911"
      ]
     },
     "execution_count": 188,
     "metadata": {},
     "output_type": "execute_result"
    }
   ],
   "source": [
    "original[original.Gender == 'M'].size"
   ]
  },
  {
   "cell_type": "code",
   "execution_count": 189,
   "metadata": {},
   "outputs": [],
   "source": [
    "df_names = original"
   ]
  },
  {
   "cell_type": "code",
   "execution_count": 190,
   "metadata": {},
   "outputs": [],
   "source": [
    "df_names.Gender.replace({'F':0,'M':1},inplace=True)"
   ]
  },
  {
   "cell_type": "code",
   "execution_count": 191,
   "metadata": {},
   "outputs": [
    {
     "data": {
      "text/plain": [
       "array([1, 0], dtype=int64)"
      ]
     },
     "execution_count": 191,
     "metadata": {},
     "output_type": "execute_result"
    }
   ],
   "source": [
    "df_names.Gender.unique()"
   ]
  },
  {
   "cell_type": "code",
   "execution_count": 192,
   "metadata": {},
   "outputs": [
    {
     "data": {
      "text/plain": [
       "Unnamed: 0     int64\n",
       "name          object\n",
       "Gender         int64\n",
       "dtype: object"
      ]
     },
     "execution_count": 192,
     "metadata": {},
     "output_type": "execute_result"
    }
   ],
   "source": [
    "df_names.dtypes"
   ]
  },
  {
   "cell_type": "code",
   "execution_count": 193,
   "metadata": {},
   "outputs": [],
   "source": [
    "Xfeatures =df_names['name']"
   ]
  },
  {
   "cell_type": "code",
   "execution_count": 194,
   "metadata": {},
   "outputs": [],
   "source": [
    "from sklearn.feature_extraction.text import CountVectorizer\n",
    "cv = CountVectorizer()\n",
    "X = cv.fit_transform(Xfeatures)"
   ]
  },
  {
   "cell_type": "code",
   "execution_count": 195,
   "metadata": {},
   "outputs": [],
   "source": [
    "from sklearn.externals import joblib"
   ]
  },
  {
   "cell_type": "code",
   "execution_count": 196,
   "metadata": {},
   "outputs": [],
   "source": [
    "gender_vectorizer = open(\"gender_vectorizer.pkl\",\"wb\")\n",
    "joblib.dump(cv,gender_vectorizer)"
   ]
  },
  {
   "cell_type": "code",
   "execution_count": 197,
   "metadata": {},
   "outputs": [],
   "source": [
    "gender_vectorizer.close()"
   ]
  },
  {
   "cell_type": "code",
   "execution_count": 198,
   "metadata": {
    "scrolled": true
   },
   "outputs": [
    {
     "data": {
      "text/plain": [
       "['abdul',\n",
       " 'about',\n",
       " 'abs',\n",
       " 'academic',\n",
       " 'academy',\n",
       " 'accountant',\n",
       " 'across',\n",
       " 'adamas',\n",
       " 'adani',\n",
       " 'address',\n",
       " 'adi',\n",
       " 'adikavi',\n",
       " 'aditya',\n",
       " 'admin',\n",
       " 'admission',\n",
       " 'advertisement',\n",
       " 'aeronautical',\n",
       " 'agartala',\n",
       " 'agra',\n",
       " 'agricultural',\n",
       " 'agriculture',\n",
       " 'ahmed',\n",
       " 'ahmedabad',\n",
       " 'ajkim',\n",
       " 'ajmer',\n",
       " 'akal',\n",
       " 'alagar',\n",
       " 'alagesan',\n",
       " 'aligarh',\n",
       " 'allahabad',\n",
       " 'aloysius',\n",
       " 'alwin',\n",
       " 'am',\n",
       " 'ambal',\n",
       " 'ambassador',\n",
       " 'ambedkar',\n",
       " 'ambiga',\n",
       " 'amity',\n",
       " 'ammal',\n",
       " 'amman',\n",
       " 'amravati',\n",
       " 'amrita',\n",
       " 'amritsar',\n",
       " 'an',\n",
       " 'anand',\n",
       " 'ananthapuramu',\n",
       " 'anchor',\n",
       " 'and',\n",
       " 'andal',\n",
       " 'andhra',\n",
       " 'angappa',\n",
       " 'animal',\n",
       " 'anna',\n",
       " 'annamacharya',\n",
       " 'annamalai',\n",
       " 'announcement',\n",
       " 'anurag',\n",
       " 'anusandhan',\n",
       " 'apeejay',\n",
       " 'apollo',\n",
       " 'application',\n",
       " 'applications',\n",
       " 'aravindar',\n",
       " 'architecture',\n",
       " 'arjun',\n",
       " 'art',\n",
       " 'article',\n",
       " 'arts',\n",
       " 'arulmurugan',\n",
       " 'aruppukottai',\n",
       " 'aryan',\n",
       " 'as',\n",
       " 'asansol',\n",
       " 'assam',\n",
       " 'assistant',\n",
       " 'associate',\n",
       " 'associated',\n",
       " 'association',\n",
       " 'at',\n",
       " 'atria',\n",
       " 'august',\n",
       " 'aurangabad',\n",
       " 'aurora',\n",
       " 'auto',\n",
       " 'autonomous',\n",
       " 'avadh',\n",
       " 'avanthi',\n",
       " 'avinashilingam',\n",
       " 'ayira',\n",
       " 'ayodhya',\n",
       " 'baba',\n",
       " 'babasaheb',\n",
       " 'background',\n",
       " 'baddi',\n",
       " 'badruka',\n",
       " 'bahubali',\n",
       " 'balakrishna',\n",
       " 'balasore',\n",
       " 'bali',\n",
       " 'bandari',\n",
       " 'banga',\n",
       " 'bangalore',\n",
       " 'banking',\n",
       " 'bannari',\n",
       " 'bapatla',\n",
       " 'bapuji',\n",
       " 'bargarh',\n",
       " 'bathinda',\n",
       " 'bearys',\n",
       " 'beevi',\n",
       " 'before',\n",
       " 'behar',\n",
       " 'belagavi',\n",
       " 'below',\n",
       " 'bengal',\n",
       " 'bengaluru',\n",
       " 'bennett',\n",
       " 'best',\n",
       " 'bhag',\n",
       " 'bharat',\n",
       " 'bharath',\n",
       " 'bharathi',\n",
       " 'bharathidasan',\n",
       " 'bharuch',\n",
       " 'bhaskarrao',\n",
       " 'bhavan',\n",
       " 'bhavani',\n",
       " 'bhopal',\n",
       " 'bhubaneswar',\n",
       " 'bihar',\n",
       " 'biotechnology',\n",
       " 'birbhum',\n",
       " 'birla',\n",
       " 'bits',\n",
       " 'body',\n",
       " 'boghar',\n",
       " 'bosco',\n",
       " 'brainware',\n",
       " 'branches',\n",
       " 'brilliant',\n",
       " 'brindavan',\n",
       " 'buddha',\n",
       " 'buldana',\n",
       " 'business',\n",
       " 'bvc',\n",
       " 'by',\n",
       " 'bydhanekula',\n",
       " 'bythakur',\n",
       " 'calendar',\n",
       " 'calicut',\n",
       " 'calorx',\n",
       " 'campus',\n",
       " 'candidate',\n",
       " 'candidates',\n",
       " 'care',\n",
       " 'career',\n",
       " 'careers',\n",
       " 'catholic',\n",
       " 'cbse',\n",
       " 'centenary',\n",
       " 'central',\n",
       " 'centre',\n",
       " 'centurion',\n",
       " 'chaitanya',\n",
       " 'chalapathi',\n",
       " 'chalisgaon',\n",
       " 'challenges',\n",
       " 'chandigarh',\n",
       " 'chandrapur',\n",
       " 'charitable',\n",
       " 'charusat',\n",
       " 'chemical',\n",
       " 'chendhuran',\n",
       " 'chenduran',\n",
       " 'chengalpattu',\n",
       " 'chennai',\n",
       " 'cheran',\n",
       " 'chettinad',\n",
       " 'chhattisgarh',\n",
       " 'chhindwara',\n",
       " 'chief',\n",
       " 'chinchwad',\n",
       " 'chinmaya',\n",
       " 'chitkara',\n",
       " 'chittoor',\n",
       " 'christian',\n",
       " 'christu',\n",
       " 'chronicle',\n",
       " 'classifieds',\n",
       " 'cochin',\n",
       " 'coimbatore',\n",
       " 'college',\n",
       " 'colleges',\n",
       " 'commerce',\n",
       " 'commission',\n",
       " 'commitment',\n",
       " 'contact',\n",
       " 'cooch',\n",
       " 'coordinators',\n",
       " 'corporate',\n",
       " 'counsellor',\n",
       " 'courses',\n",
       " 'cse',\n",
       " 'cuddalore',\n",
       " 'cuttack',\n",
       " 'dadra',\n",
       " 'daily',\n",
       " 'dattha',\n",
       " 'dav',\n",
       " 'davangere',\n",
       " 'dayananda',\n",
       " 'days',\n",
       " 'dean',\n",
       " 'deccan',\n",
       " 'december',\n",
       " 'dedicated',\n",
       " 'deendayal',\n",
       " 'deep',\n",
       " 'defence',\n",
       " 'defense',\n",
       " 'degree',\n",
       " 'dehradun',\n",
       " 'delhi',\n",
       " 'delhifor',\n",
       " 'dental',\n",
       " 'department',\n",
       " 'departments',\n",
       " 'des',\n",
       " 'design',\n",
       " 'detail',\n",
       " 'details',\n",
       " 'dev',\n",
       " 'development',\n",
       " 'devi',\n",
       " 'dhaanish',\n",
       " 'dhanalakshmi',\n",
       " 'dhanapalan',\n",
       " 'dhanekula',\n",
       " 'dharwad',\n",
       " 'dhenkanal',\n",
       " 'dhole',\n",
       " 'dibrugarh',\n",
       " 'dinamalar',\n",
       " 'dinathanthi',\n",
       " 'dindigul',\n",
       " 'director',\n",
       " 'directorate',\n",
       " 'dit',\n",
       " 'divine',\n",
       " 'diwan',\n",
       " 'doak',\n",
       " 'doctoral',\n",
       " 'don',\n",
       " 'dr',\n",
       " 'driver',\n",
       " 'dubai',\n",
       " 'durgapur',\n",
       " 'earliest',\n",
       " 'easa',\n",
       " 'east',\n",
       " 'eastern',\n",
       " 'ece',\n",
       " 'edition',\n",
       " 'education',\n",
       " 'educational',\n",
       " 'eenadu',\n",
       " 'einstein',\n",
       " 'electronics',\n",
       " 'elements',\n",
       " 'eligible',\n",
       " 'elumalai',\n",
       " 'email',\n",
       " 'empowerment',\n",
       " 'engineers',\n",
       " 'epaper',\n",
       " 'ernakulam',\n",
       " 'eshwar',\n",
       " 'eswar',\n",
       " 'evening',\n",
       " 'excel',\n",
       " 'excellence',\n",
       " 'excellent',\n",
       " 'faculty',\n",
       " 'facultyplus',\n",
       " 'faridabad',\n",
       " 'fatima',\n",
       " 'fdtp',\n",
       " 'fellow',\n",
       " 'fellowship',\n",
       " 'field',\n",
       " 'firebird',\n",
       " 'fisheries',\n",
       " 'flower',\n",
       " 'for',\n",
       " 'form',\n",
       " 'freshers',\n",
       " 'from',\n",
       " 'full',\n",
       " 'gadge',\n",
       " 'gandhi',\n",
       " 'gandhinagar',\n",
       " 'ganesan',\n",
       " 'gangtok',\n",
       " 'gautam',\n",
       " 'gayatri',\n",
       " 'geeta',\n",
       " 'geethanjali',\n",
       " 'generation',\n",
       " 'george',\n",
       " 'ghanashyam',\n",
       " 'ghasiram',\n",
       " 'ghaziabad',\n",
       " 'girl',\n",
       " 'global',\n",
       " 'gobindgarh',\n",
       " 'godavari',\n",
       " 'goel',\n",
       " 'goenka',\n",
       " 'gondia',\n",
       " 'gopikishan',\n",
       " 'gorakhpur',\n",
       " 'government',\n",
       " 'govind',\n",
       " 'grade',\n",
       " 'gramin',\n",
       " 'greater',\n",
       " 'group',\n",
       " 'guest',\n",
       " 'gujarat',\n",
       " 'guntur',\n",
       " 'guria',\n",
       " 'guru',\n",
       " 'gurugram',\n",
       " 'guwahati',\n",
       " 'haldia',\n",
       " 'hamdard',\n",
       " 'harvest',\n",
       " 'haryana',\n",
       " 'hassan',\n",
       " 'haveli',\n",
       " 'hdfc',\n",
       " 'head',\n",
       " 'health',\n",
       " 'hemalata',\n",
       " 'herald',\n",
       " 'higginbottom',\n",
       " 'high',\n",
       " 'higher',\n",
       " 'hill',\n",
       " 'himachal',\n",
       " 'hindu',\n",
       " 'hitwada',\n",
       " 'hod',\n",
       " 'home',\n",
       " 'horizon',\n",
       " 'hotel',\n",
       " 'how',\n",
       " 'howrah',\n",
       " 'hr',\n",
       " 'humanities',\n",
       " 'hyderabad',\n",
       " 'icfai',\n",
       " 'icse',\n",
       " 'if',\n",
       " 'iiit',\n",
       " 'iit',\n",
       " 'ilahia',\n",
       " 'imayam',\n",
       " 'immediately',\n",
       " 'in',\n",
       " 'independent',\n",
       " 'india',\n",
       " 'indian',\n",
       " 'indira',\n",
       " 'individuals',\n",
       " 'indore',\n",
       " 'indra',\n",
       " 'indraprastha',\n",
       " 'information',\n",
       " 'infrastructure',\n",
       " 'institute',\n",
       " 'institutions',\n",
       " 'instructor',\n",
       " 'international',\n",
       " 'interview',\n",
       " 'inth',\n",
       " 'islam',\n",
       " 'it',\n",
       " 'jacob',\n",
       " 'jadavpur',\n",
       " 'jai',\n",
       " 'jain',\n",
       " 'jaipur',\n",
       " 'jalandhar',\n",
       " 'jalgaon',\n",
       " 'jamia',\n",
       " 'janaki',\n",
       " 'janki',\n",
       " 'january',\n",
       " 'jawaharlal',\n",
       " 'jayalalithaa',\n",
       " 'jayanthi',\n",
       " 'jaypee',\n",
       " 'jaysingpur',\n",
       " 'jb',\n",
       " 'jharkhand',\n",
       " 'ji',\n",
       " 'jindal',\n",
       " 'jis',\n",
       " 'jnanavikas',\n",
       " 'job',\n",
       " 'jobs',\n",
       " 'joseph',\n",
       " 'jrf',\n",
       " 'july',\n",
       " 'june',\n",
       " 'junior',\n",
       " 'jyothi',\n",
       " 'kadapa',\n",
       " 'kader',\n",
       " 'kaithal',\n",
       " 'kakatiya',\n",
       " 'kakinada',\n",
       " 'kakkanad',\n",
       " 'kalaignar',\n",
       " 'kalamboli',\n",
       " 'kalasalingam',\n",
       " 'kaliabor',\n",
       " 'kaliswari',\n",
       " 'kalyani',\n",
       " 'kamdhenu',\n",
       " 'kancheepuram',\n",
       " 'kanchipuram',\n",
       " 'kangra',\n",
       " 'kannur',\n",
       " 'kanyakumari',\n",
       " 'kapurthala',\n",
       " 'karnatak',\n",
       " 'karnataka',\n",
       " 'karpagam',\n",
       " 'karunanidhi',\n",
       " 'karunya',\n",
       " 'karur',\n",
       " 'kasaragod',\n",
       " 'kashipur',\n",
       " 'kattankulathur',\n",
       " 'kayamkulam',\n",
       " 'kaypeeyes',\n",
       " 'kerala',\n",
       " 'khalsa',\n",
       " 'kingston',\n",
       " 'kipm',\n",
       " 'kochi',\n",
       " 'kolhapur',\n",
       " 'kolkata',\n",
       " 'kollam',\n",
       " 'komarapalayam',\n",
       " 'kongu',\n",
       " 'koraput',\n",
       " 'kottayam',\n",
       " 'krishi',\n",
       " 'krishna',\n",
       " 'krishnaswamy',\n",
       " 'kufos',\n",
       " 'kumar',\n",
       " 'kumaraguru',\n",
       " 'kumarasamy',\n",
       " 'kumaraswamy',\n",
       " 'kumulur',\n",
       " 'kurnool',\n",
       " 'kurukshetra',\n",
       " 'kutchhi',\n",
       " 'lab',\n",
       " 'lady',\n",
       " 'lajpat',\n",
       " 'lakireddy',\n",
       " 'lakshmaiah',\n",
       " 'lal',\n",
       " 'lala',\n",
       " 'latha',\n",
       " 'law',\n",
       " 'lead',\n",
       " 'lecturer',\n",
       " 'legal',\n",
       " 'leo',\n",
       " 'level',\n",
       " 'liberal',\n",
       " 'librarian',\n",
       " 'link',\n",
       " 'little',\n",
       " 'lohia',\n",
       " 'lokmat',\n",
       " 'loksatta',\n",
       " 'lourdes',\n",
       " 'lovely',\n",
       " 'loyola',\n",
       " 'lucknow',\n",
       " 'ludhiana',\n",
       " 'machine',\n",
       " 'madan',\n",
       " 'madanapalle',\n",
       " 'madha',\n",
       " 'madhya',\n",
       " 'madhyamgram',\n",
       " 'madras',\n",
       " 'madura',\n",
       " 'madurai',\n",
       " 'maharashtra',\n",
       " 'maharshi',\n",
       " 'mahaveer',\n",
       " 'mahavidyalaya',\n",
       " 'mahavir',\n",
       " 'malabar',\n",
       " 'malaviya',\n",
       " 'malayala',\n",
       " 'malineni',\n",
       " 'malla',\n",
       " 'mamandur',\n",
       " 'management',\n",
       " 'manav',\n",
       " 'mandi',\n",
       " 'mangalore',\n",
       " 'mangaluru',\n",
       " 'maniammai',\n",
       " 'manipal',\n",
       " 'manipur',\n",
       " 'mann',\n",
       " 'manorama',\n",
       " 'manufacturing',\n",
       " 'maratha',\n",
       " 'marathwada',\n",
       " 'march',\n",
       " 'marian',\n",
       " 'marigold',\n",
       " 'marine',\n",
       " 'mary',\n",
       " 'mata',\n",
       " 'materials',\n",
       " 'matha',\n",
       " 'mathavan',\n",
       " 'matriculation',\n",
       " 'matrusri',\n",
       " 'me',\n",
       " 'medchal',\n",
       " 'medical',\n",
       " 'medinipur',\n",
       " 'meenakshi',\n",
       " 'meerut',\n",
       " 'meghalaya',\n",
       " 'mehta',\n",
       " 'members',\n",
       " 'memorial',\n",
       " 'mems',\n",
       " 'mepco',\n",
       " 'meri',\n",
       " 'mission',\n",
       " 'mistress',\n",
       " 'modern',\n",
       " 'moga',\n",
       " 'moghe',\n",
       " 'mohali',\n",
       " 'mohan',\n",
       " 'montessori',\n",
       " 'month',\n",
       " 'moodabidri',\n",
       " 'more',\n",
       " 'mother',\n",
       " 'mumbai',\n",
       " 'musaliar',\n",
       " 'muslim',\n",
       " 'mvj',\n",
       " 'mysore',\n",
       " 'nadar',\n",
       " 'nadu',\n",
       " 'nagaon',\n",
       " 'nagapattinam',\n",
       " 'nagar',\n",
       " 'nagercoil',\n",
       " 'nagpur',\n",
       " 'naidu',\n",
       " 'nainital',\n",
       " 'nalla',\n",
       " 'nallammai',\n",
       " 'namakkal',\n",
       " 'nanak',\n",
       " 'nandhanam',\n",
       " 'nannaya',\n",
       " 'narasaraopeta',\n",
       " 'narasimha',\n",
       " 'narayana',\n",
       " 'narayanguda',\n",
       " 'narsimha',\n",
       " 'nashik',\n",
       " 'national',\n",
       " 'nationals',\n",
       " 'nav',\n",
       " 'nava',\n",
       " 'navi',\n",
       " 'nehru',\n",
       " 'nellore',\n",
       " 'new',\n",
       " 'newspaper',\n",
       " 'newton',\n",
       " 'next',\n",
       " 'nijalingappa',\n",
       " 'niketan',\n",
       " 'nilgiri',\n",
       " 'nilgiris',\n",
       " 'nirma',\n",
       " 'nise',\n",
       " 'nit',\n",
       " 'nitte',\n",
       " 'noida',\n",
       " 'non',\n",
       " 'noorul',\n",
       " 'north',\n",
       " 'notification',\n",
       " 'november',\n",
       " 'now',\n",
       " 'nursing',\n",
       " 'ocean',\n",
       " 'october',\n",
       " 'oddanchathram',\n",
       " 'odisha',\n",
       " 'of',\n",
       " 'off',\n",
       " 'office',\n",
       " 'official',\n",
       " 'officially',\n",
       " 'officiallyfor',\n",
       " 'omdayal',\n",
       " 'on',\n",
       " 'ongole',\n",
       " 'online',\n",
       " 'open',\n",
       " 'operative',\n",
       " 'opportunities',\n",
       " 'or',\n",
       " 'orchid',\n",
       " 'organization',\n",
       " 'oxford',\n",
       " 'paavai',\n",
       " 'padmavathi',\n",
       " 'padmavathy',\n",
       " 'page',\n",
       " 'pailan',\n",
       " 'palai',\n",
       " 'palakkad',\n",
       " 'palani',\n",
       " 'panchmahal',\n",
       " 'pandian',\n",
       " 'pandit',\n",
       " 'panipat',\n",
       " 'paper',\n",
       " 'papge',\n",
       " 'paramakudi',\n",
       " 'parishad',\n",
       " 'park',\n",
       " 'parul',\n",
       " 'passion',\n",
       " 'patel',\n",
       " 'pathanamthtta',\n",
       " 'patil',\n",
       " 'patna',\n",
       " 'pattammal',\n",
       " 'pay',\n",
       " 'pdf',\n",
       " 'per',\n",
       " 'perambalur',\n",
       " 'peri',\n",
       " 'periyar',\n",
       " 'persons',\n",
       " 'peter',\n",
       " 'petroleum',\n",
       " 'pgt',\n",
       " 'phagwara',\n",
       " 'pharmaceutical',\n",
       " 'pharmacy',\n",
       " 'phule',\n",
       " 'pilani',\n",
       " 'pimpri',\n",
       " 'pioneer',\n",
       " 'plus',\n",
       " 'poddar',\n",
       " 'point',\n",
       " 'pollachi',\n",
       " 'polytechnic',\n",
       " 'pondicherry',\n",
       " 'portal',\n",
       " 'position',\n",
       " 'positions',\n",
       " 'post',\n",
       " 'posts',\n",
       " 'potluri',\n",
       " 'pradesh',\n",
       " 'prakasam',\n",
       " 'prasad',\n",
       " 'prasarak',\n",
       " 'pratap',\n",
       " 'prathyusha',\n",
       " 'praveenya',\n",
       " 'prayagraj',\n",
       " 'prerna',\n",
       " 'presidency',\n",
       " 'primary',\n",
       " 'prince',\n",
       " 'princeton',\n",
       " 'principal',\n",
       " 'prist',\n",
       " 'priyadarshini',\n",
       " 'prof',\n",
       " 'professional',\n",
       " 'professor',\n",
       " 'professors',\n",
       " 'programme',\n",
       " 'provider',\n",
       " 'prt',\n",
       " 'public',\n",
       " 'pune',\n",
       " 'punjab',\n",
       " 'puri',\n",
       " 'quality',\n",
       " 'quantum',\n",
       " 'raak',\n",
       " 'rachna',\n",
       " 'raghu',\n",
       " 'rai',\n",
       " 'raipur',\n",
       " 'raisoni',\n",
       " 'raj',\n",
       " 'rajagiri',\n",
       " 'rajahmundry',\n",
       " 'rajamahendravaram',\n",
       " 'rajasthan',\n",
       " 'rajdhani',\n",
       " 'rajkot',\n",
       " 'rajpura',\n",
       " 'ram',\n",
       " 'ramadevi',\n",
       " 'ramakrishna',\n",
       " 'raman',\n",
       " 'ramanas',\n",
       " 'ramanathapuram',\n",
       " 'ramasamy',\n",
       " 'rameshwaram',\n",
       " 'rammanohar',\n",
       " 'ramnarayan',\n",
       " 'ramu',\n",
       " 'ranchi',\n",
       " 'ranga',\n",
       " 'rathinam',\n",
       " 'rayat',\n",
       " 'reasearch',\n",
       " 'record',\n",
       " 'recruiement',\n",
       " 'reddy',\n",
       " 'reena',\n",
       " 'reference',\n",
       " 'res',\n",
       " 'research',\n",
       " 'resume',\n",
       " 'reva',\n",
       " 'rishi',\n",
       " 'roever',\n",
       " 'rohini',\n",
       " 'roorkee',\n",
       " 'ropar',\n",
       " 'rotary',\n",
       " 'royal',\n",
       " 'sagar',\n",
       " 'sage',\n",
       " 'sagunthala',\n",
       " 'sahakar',\n",
       " 'sahrdaya',\n",
       " 'sai',\n",
       " 'sakunthala',\n",
       " 'sam',\n",
       " 'samaj',\n",
       " 'sampoorna',\n",
       " 'samskruti',\n",
       " 'sanda',\n",
       " 'sandip',\n",
       " 'sankalchand',\n",
       " 'sankara',\n",
       " 'sanskar',\n",
       " 'sanstha',\n",
       " 'sant',\n",
       " 'saradha',\n",
       " 'sarala',\n",
       " 'saraswathi',\n",
       " 'sardar',\n",
       " 'sastha',\n",
       " 'sastra',\n",
       " 'sasurie',\n",
       " 'satara',\n",
       " 'sathyabama',\n",
       " 'sathyam',\n",
       " 'saurashtra',\n",
       " 'saveetha',\n",
       " 'savitribai',\n",
       " 'sc',\n",
       " 'schlenk',\n",
       " 'school',\n",
       " 'schools',\n",
       " 'science',\n",
       " 'sciences',\n",
       " 'scms',\n",
       " 'seacom',\n",
       " 'sec',\n",
       " 'secondary',\n",
       " 'secunderabad',\n",
       " 'selvam',\n",
       " 'sembodai',\n",
       " 'senior',\n",
       " 'september',\n",
       " 'service',\n",
       " 'services',\n",
       " 'seshadripuram',\n",
       " 'seth',\n",
       " 'shah',\n",
       " 'shakthi',\n",
       " 'shankara',\n",
       " 'sharjah',\n",
       " 'shikshan',\n",
       " 'shillong',\n",
       " 'shimla',\n",
       " 'shingne',\n",
       " 'shirdi',\n",
       " 'shiv',\n",
       " 'shivramji',\n",
       " 'shree',\n",
       " 'shri',\n",
       " 'shridevi',\n",
       " 'shrine',\n",
       " 'shriram',\n",
       " 'shroff',\n",
       " 'shyam',\n",
       " 'siddhar',\n",
       " 'siddharth',\n",
       " 'siddhartha',\n",
       " 'sikar',\n",
       " 'sikkim',\n",
       " 'siksha',\n",
       " 'siliguri',\n",
       " 'singh',\n",
       " 'sir',\n",
       " 'sirmaur',\n",
       " 'site',\n",
       " 'sivagangai',\n",
       " 'sivagnaani',\n",
       " 'sivakasi',\n",
       " 'skills',\n",
       " 'sms',\n",
       " 'social',\n",
       " 'society',\n",
       " 'solan',\n",
       " 'sonipat',\n",
       " 'sree',\n",
       " 'sreenidhi',\n",
       " 'sreyas',\n",
       " 'srf',\n",
       " 'sri',\n",
       " 'srikulam',\n",
       " 'srinivas',\n",
       " 'srinivasa',\n",
       " 'srinivasan',\n",
       " 'ssb',\n",
       " 'staff',\n",
       " 'staffs',\n",
       " 'standalone',\n",
       " 'starex',\n",
       " 'studies',\n",
       " 'subharti',\n",
       " 'subramanya',\n",
       " 'sugar',\n",
       " 'sundri',\n",
       " 'surat',\n",
       " 'surathkal',\n",
       " 'surendra',\n",
       " 'suryapet',\n",
       " 'symbiosis',\n",
       " 'tamil',\n",
       " 'tamilnadu',\n",
       " 'tarsadia',\n",
       " 'tata',\n",
       " 'teacher',\n",
       " 'teachers',\n",
       " 'teaching',\n",
       " 'tech',\n",
       " 'technical',\n",
       " 'technology',\n",
       " 'tekkali',\n",
       " 'telangana',\n",
       " 'telugu',\n",
       " 'tgt',\n",
       " 'thakur',\n",
       " 'thane',\n",
       " 'thanjavur',\n",
       " 'thanthi',\n",
       " 'thassim',\n",
       " 'the',\n",
       " 'their',\n",
       " 'theivanai',\n",
       " 'then',\n",
       " 'theni',\n",
       " 'theresa',\n",
       " 'thiravium',\n",
       " 'thiru',\n",
       " 'thiruvallur',\n",
       " 'thiruvananthapuram',\n",
       " 'thiruvarur',\n",
       " 'thomas',\n",
       " 'thrissur',\n",
       " 'through',\n",
       " 'thyagaraja',\n",
       " 'tilak',\n",
       " 'times',\n",
       " 'tirunelveli',\n",
       " 'tirupati',\n",
       " 'tirupur',\n",
       " 'to',\n",
       " 'toc',\n",
       " 'toi',\n",
       " 'tourism',\n",
       " 'trainer',\n",
       " 'training',\n",
       " 'trends',\n",
       " 'tribune',\n",
       " 'trichy',\n",
       " 'tripura',\n",
       " 'trivandrum',\n",
       " 'trust',\n",
       " 'tumakuru',\n",
       " 'tumsar',\n",
       " 'udumalpet',\n",
       " 'uka',\n",
       " 'universal',\n",
       " 'university',\n",
       " 'us',\n",
       " 'uttar',\n",
       " 'uttarakhand',\n",
       " 'uttaranchal',\n",
       " 'vacancies',\n",
       " 'vacancy',\n",
       " 'vadodara',\n",
       " 'vailankanni',\n",
       " 'vaishnav',\n",
       " 'vaisya',\n",
       " 'vanur',\n",
       " 'varanasi',\n",
       " 'vardhaman',\n",
       " 'various',\n",
       " 'vasavi',\n",
       " 'vellaichamy',\n",
       " 'vellore',\n",
       " 'vemana',\n",
       " 'venkatachalapathy',\n",
       " 'venkateshwara',\n",
       " 'venkateshwaraa',\n",
       " 'venkateswara',\n",
       " 'vidya',\n",
       " 'vidyalaya',\n",
       " 'vidyalayam',\n",
       " 'vidyamandir',\n",
       " 'vidyapeeth',\n",
       " 'vidyapeetham',\n",
       " 'vidyavardhaka',\n",
       " 'vignan',\n",
       " 'vignana',\n",
       " 'vijayawada',\n",
       " 'vikas',\n",
       " 'villianur',\n",
       " 'villupuram',\n",
       " 'virudhunagar',\n",
       " 'visakhapatnam',\n",
       " 'visalakshi',\n",
       " 'vishal',\n",
       " 'vishwakarma',\n",
       " 'vishwavidyalaya',\n",
       " 'visnagar',\n",
       " 'visvesvaraya',\n",
       " 'viswavidyalaya',\n",
       " 'vit',\n",
       " 'vivekanandha',\n",
       " 'vizianagaram',\n",
       " 'wagh',\n",
       " 'walk',\n",
       " 'walkin',\n",
       " 'warangal',\n",
       " 'wardha',\n",
       " 'website',\n",
       " 'week',\n",
       " 'weeks',\n",
       " 'welham',\n",
       " 'west',\n",
       " 'who',\n",
       " 'with',\n",
       " 'within',\n",
       " 'women',\n",
       " 'work',\n",
       " ...]"
      ]
     },
     "execution_count": 198,
     "metadata": {},
     "output_type": "execute_result"
    }
   ],
   "source": [
    "cv.get_feature_names()"
   ]
  },
  {
   "cell_type": "code",
   "execution_count": 199,
   "metadata": {},
   "outputs": [],
   "source": [
    "from sklearn.model_selection import train_test_split"
   ]
  },
  {
   "cell_type": "code",
   "execution_count": 200,
   "metadata": {},
   "outputs": [],
   "source": [
    "X\n",
    "y = df_names.name"
   ]
  },
  {
   "cell_type": "code",
   "execution_count": 210,
   "metadata": {},
   "outputs": [],
   "source": [
    "X_train, X_test, y_train, y_test = train_test_split(X, y, test_size=0.50, random_state=42)"
   ]
  },
  {
   "cell_type": "code",
   "execution_count": 211,
   "metadata": {},
   "outputs": [
    {
     "data": {
      "text/plain": [
       "0.0"
      ]
     },
     "execution_count": 211,
     "metadata": {},
     "output_type": "execute_result"
    }
   ],
   "source": [
    "from sklearn.naive_bayes import MultinomialNB\n",
    "clf = MultinomialNB()\n",
    "clf.fit(X_train,y_train)\n",
    "clf.score(X_test,y_test)\n"
   ]
  },
  {
   "cell_type": "code",
   "execution_count": 212,
   "metadata": {},
   "outputs": [
    {
     "name": "stdout",
     "output_type": "stream",
     "text": [
      "Accuracy of Model 0.0 %\n",
      "Accuracy of Model 100.0 %\n"
     ]
    }
   ],
   "source": [
    "print(\"Accuracy of Model\",clf.score(X_test,y_test)*100,\"%\")\n",
    "print(\"Accuracy of Model\",clf.score(X_train,y_train)*100,\"%\")"
   ]
  },
  {
   "cell_type": "code",
   "execution_count": 213,
   "metadata": {},
   "outputs": [
    {
     "data": {
      "text/plain": [
       "array([[0, 0, 0, ..., 0, 0, 0]], dtype=int64)"
      ]
     },
     "execution_count": 213,
     "metadata": {},
     "output_type": "execute_result"
    }
   ],
   "source": [
    "sample_name = [\"savita\"]\n",
    "vect = cv.transform(sample_name).toarray()\n",
    "vect"
   ]
  },
  {
   "cell_type": "code",
   "execution_count": 214,
   "metadata": {},
   "outputs": [
    {
     "data": {
      "text/plain": [
       "array(['abdul'], dtype='<U18')"
      ]
     },
     "execution_count": 214,
     "metadata": {},
     "output_type": "execute_result"
    }
   ],
   "source": [
    "clf.predict(vect)"
   ]
  },
  {
   "cell_type": "code",
   "execution_count": 215,
   "metadata": {},
   "outputs": [],
   "source": [
    "def genderpredictor(a):\n",
    "    test_name = [a]\n",
    "    vector = cv.transform(test_name).toarray()\n",
    "    if clf.predict(vector) == 0:\n",
    "        print(\"Female\")\n",
    "    else:\n",
    "        print(\"Male\")\n"
   ]
  },
  {
   "cell_type": "code",
   "execution_count": 216,
   "metadata": {},
   "outputs": [],
   "source": [
    "def features(name):\n",
    "    name = name.lower()\n",
    "    return {\n",
    "        'first-letter': name[0], # First letter\n",
    "        'first2-letters': name[0:2], # First 2 letters\n",
    "        'first3-letters': name[0:3], # First 3 letters\n",
    "        'last-letter': name[-1],\n",
    "        'last2-letters': name[-2:],\n",
    "        'last3-letters': name[-3:],\n",
    "    }"
   ]
  },
  {
   "cell_type": "code",
   "execution_count": 217,
   "metadata": {},
   "outputs": [
    {
     "name": "stdout",
     "output_type": "stream",
     "text": [
      "[{'first-letter': 'a', 'first2-letters': 'an', 'first3-letters': 'ann', 'last-letter': 'a', 'last2-letters': 'na', 'last3-letters': 'nna'}\n",
      " {'first-letter': 'h', 'first2-letters': 'he', 'first3-letters': 'hen', 'last-letter': 'a', 'last2-letters': 'na', 'last3-letters': 'nna'}\n",
      " {'first-letter': 'p', 'first2-letters': 'pa', 'first3-letters': 'par', 'last-letter': 's', 'last2-letters': 'as', 'last3-letters': 'ras'}\n",
      " {'first-letter': 'r', 'first2-letters': 'ra', 'first3-letters': 'rah', 'last-letter': 'l', 'last2-letters': 'ul', 'last3-letters': 'hul'}\n",
      " {'first-letter': 's', 'first2-letters': 'sh', 'first3-letters': 'shi', 'last-letter': 'i', 'last2-letters': 'ni', 'last3-letters': 'ani'}\n",
      " {'first-letter': 'm', 'first2-letters': 'mo', 'first3-letters': 'moh', 'last-letter': 'd', 'last2-letters': 'ed', 'last3-letters': 'med'}]\n"
     ]
    }
   ],
   "source": [
    "features = np.vectorize(features)\n",
    "print(features([\"Anna\", \"Henna\", \"Paras\",\"rahul\",\"shivani\",\"Mohammed\"]))"
   ]
  },
  {
   "cell_type": "code",
   "execution_count": 218,
   "metadata": {},
   "outputs": [],
   "source": [
    "df_X = features(df_names['name'])"
   ]
  },
  {
   "cell_type": "code",
   "execution_count": 219,
   "metadata": {},
   "outputs": [],
   "source": [
    "df_y = df_names['Gender']"
   ]
  },
  {
   "cell_type": "code",
   "execution_count": 220,
   "metadata": {},
   "outputs": [
    {
     "name": "stdout",
     "output_type": "stream",
     "text": [
      "  (0, 1)\t1.0\n",
      "  (0, 3)\t1.0\n",
      "  (0, 5)\t1.0\n",
      "  (0, 7)\t1.0\n",
      "  (0, 9)\t1.0\n",
      "  (0, 10)\t1.0\n",
      "  (1, 0)\t1.0\n",
      "  (1, 2)\t1.0\n",
      "  (1, 4)\t1.0\n",
      "  (1, 6)\t1.0\n",
      "  (1, 8)\t1.0\n",
      "  (1, 11)\t1.0\n"
     ]
    }
   ],
   "source": [
    "from sklearn.feature_extraction import DictVectorizer\n",
    "corpus = features([\"Mike\", \"Julia\"])\n",
    "dv = DictVectorizer()\n",
    "dv.fit(corpus)\n",
    "transformed = dv.transform(corpus)\n",
    "print(transformed)\n",
    " "
   ]
  },
  {
   "cell_type": "code",
   "execution_count": 221,
   "metadata": {},
   "outputs": [
    {
     "data": {
      "text/plain": [
       "['first-letter=j',\n",
       " 'first-letter=m',\n",
       " 'first2-letters=ju',\n",
       " 'first2-letters=mi',\n",
       " 'first3-letters=jul',\n",
       " 'first3-letters=mik',\n",
       " 'last-letter=a',\n",
       " 'last-letter=e',\n",
       " 'last2-letters=ia',\n",
       " 'last2-letters=ke',\n",
       " 'last3-letters=ike',\n",
       " 'last3-letters=lia']"
      ]
     },
     "execution_count": 221,
     "metadata": {},
     "output_type": "execute_result"
    }
   ],
   "source": [
    "dv.get_feature_names()"
   ]
  },
  {
   "cell_type": "code",
   "execution_count": 222,
   "metadata": {},
   "outputs": [],
   "source": [
    "dfX_train, dfX_test, dfy_train, dfy_test = train_test_split(df_X, df_y, test_size=0.33, random_state=42)"
   ]
  },
  {
   "cell_type": "code",
   "execution_count": 223,
   "metadata": {},
   "outputs": [
    {
     "data": {
      "text/plain": [
       "array([{'first-letter': 'c', 'first2-letters': 'co', 'first3-letters': 'com', 'last-letter': 'e', 'last2-letters': 'ce', 'last3-letters': 'rce'},\n",
       "       {'first-letter': 'a', 'first2-letters': 'ad', 'first3-letters': 'adm', 'last-letter': 'n', 'last2-letters': 'in', 'last3-letters': 'min'},\n",
       "       {'first-letter': 'i', 'first2-letters': 'im', 'first3-letters': 'imm', 'last-letter': 'y', 'last2-letters': 'ly', 'last3-letters': 'ely'},\n",
       "       {'first-letter': 's', 'first2-letters': 'sc', 'first3-letters': 'sc', 'last-letter': 'c', 'last2-letters': 'sc', 'last3-letters': 'sc'},\n",
       "       {'first-letter': 'f', 'first2-letters': 'fa', 'first3-letters': 'fac', 'last-letter': 's', 'last2-letters': 'us', 'last3-letters': 'lus'},\n",
       "       {'first-letter': 's', 'first2-letters': 'si', 'first3-letters': 'sin', 'last-letter': 'h', 'last2-letters': 'gh', 'last3-letters': 'ngh'},\n",
       "       {'first-letter': 'r', 'first2-letters': 'ra', 'first3-letters': 'ram', 'last-letter': 'a', 'last2-letters': 'na', 'last3-letters': 'hna'},\n",
       "       {'first-letter': 'b', 'first2-letters': 'ba', 'first3-letters': 'bab', 'last-letter': 'b', 'last2-letters': 'eb', 'last3-letters': 'heb'},\n",
       "       {'first-letter': 's', 'first2-letters': 'sh', 'first3-letters': 'shi', 'last-letter': 'i', 'last2-letters': 'ji', 'last3-letters': 'mji'},\n",
       "       {'first-letter': 'r', 'first2-letters': 'ra', 'first3-letters': 'ray', 'last-letter': 't', 'last2-letters': 'at', 'last3-letters': 'yat'},\n",
       "       {'first-letter': 'p', 'first2-letters': 'pe', 'first3-letters': 'per', 'last-letter': 'r', 'last2-letters': 'ar', 'last3-letters': 'yar'},\n",
       "       {'first-letter': 'p', 'first2-letters': 'pa', 'first3-letters': 'par', 'last-letter': 'k', 'last2-letters': 'rk', 'last3-letters': 'ark'},\n",
       "       {'first-letter': 'w', 'first2-letters': 'wo', 'first3-letters': 'wom', 'last-letter': 'n', 'last2-letters': 'en', 'last3-letters': 'men'},\n",
       "       {'first-letter': 'p', 'first2-letters': 'po', 'first3-letters': 'pos', 'last-letter': 'n', 'last2-letters': 'on', 'last3-letters': 'ion'},\n",
       "       {'first-letter': 'z', 'first2-letters': 'zi', 'first3-letters': 'zio', 'last-letter': 'n', 'last2-letters': 'on', 'last3-letters': 'ion'},\n",
       "       {'first-letter': 'i', 'first2-letters': 'im', 'first3-letters': 'ima', 'last-letter': 'm', 'last2-letters': 'am', 'last3-letters': 'yam'},\n",
       "       {'first-letter': 'd', 'first2-letters': 'do', 'first3-letters': 'doa', 'last-letter': 'k', 'last2-letters': 'ak', 'last3-letters': 'oak'},\n",
       "       {'first-letter': 'p', 'first2-letters': 'po', 'first3-letters': 'pot', 'last-letter': 'i', 'last2-letters': 'ri', 'last3-letters': 'uri'},\n",
       "       {'first-letter': 'a', 'first2-letters': 'at', 'first3-letters': 'at', 'last-letter': 't', 'last2-letters': 'at', 'last3-letters': 'at'},\n",
       "       {'first-letter': 'v', 'first2-letters': 've', 'first3-letters': 'vem', 'last-letter': 'a', 'last2-letters': 'na', 'last3-letters': 'ana'},\n",
       "       {'first-letter': 'p', 'first2-letters': 'pa', 'first3-letters': 'pap', 'last-letter': 'r', 'last2-letters': 'er', 'last3-letters': 'per'},\n",
       "       {'first-letter': 'i', 'first2-letters': 'ii', 'first3-letters': 'iii', 'last-letter': 't', 'last2-letters': 'it', 'last3-letters': 'iit'},\n",
       "       {'first-letter': 'd', 'first2-letters': 'de', 'first3-letters': 'dev', 'last-letter': 'i', 'last2-letters': 'vi', 'last3-letters': 'evi'},\n",
       "       {'first-letter': 's', 'first2-letters': 'st', 'first3-letters': 'stu', 'last-letter': 's', 'last2-letters': 'es', 'last3-letters': 'ies'},\n",
       "       {'first-letter': 'p', 'first2-letters': 'po', 'first3-letters': 'pon', 'last-letter': 'y', 'last2-letters': 'ry', 'last3-letters': 'rry'},\n",
       "       {'first-letter': 'c', 'first2-letters': 'ch', 'first3-letters': 'cha', 'last-letter': 'h', 'last2-letters': 'rh', 'last3-letters': 'arh'},\n",
       "       {'first-letter': 'e', 'first2-letters': 'es', 'first3-letters': 'esh', 'last-letter': 'r', 'last2-letters': 'ar', 'last3-letters': 'war'},\n",
       "       {'first-letter': 'a', 'first2-letters': 'am', 'first3-letters': 'am', 'last-letter': 'm', 'last2-letters': 'am', 'last3-letters': 'am'},\n",
       "       {'first-letter': 'c', 'first2-letters': 'cl', 'first3-letters': 'cla', 'last-letter': 's', 'last2-letters': 'ds', 'last3-letters': 'eds'},\n",
       "       {'first-letter': 'n', 'first2-letters': 'no', 'first3-letters': 'nor', 'last-letter': 'h', 'last2-letters': 'th', 'last3-letters': 'rth'},\n",
       "       {'first-letter': 'g', 'first2-letters': 'gu', 'first3-letters': 'gue', 'last-letter': 't', 'last2-letters': 'st', 'last3-letters': 'est'},\n",
       "       {'first-letter': 'h', 'first2-letters': 'hi', 'first3-letters': 'hig', 'last-letter': 'm', 'last2-letters': 'om', 'last3-letters': 'tom'},\n",
       "       {'first-letter': 'm', 'first2-letters': 'mo', 'first3-letters': 'moo', 'last-letter': 'i', 'last2-letters': 'ri', 'last3-letters': 'dri'},\n",
       "       {'first-letter': 's', 'first2-letters': 'se', 'first3-letters': 'ses', 'last-letter': 'm', 'last2-letters': 'am', 'last3-letters': 'ram'},\n",
       "       {'first-letter': 'c', 'first2-letters': 'co', 'first3-letters': 'coo', 'last-letter': 'h', 'last2-letters': 'ch', 'last3-letters': 'och'},\n",
       "       {'first-letter': 'p', 'first2-letters': 'pr', 'first3-letters': 'pra', 'last-letter': 'p', 'last2-letters': 'ap', 'last3-letters': 'tap'},\n",
       "       {'first-letter': 's', 'first2-letters': 'sy', 'first3-letters': 'sym', 'last-letter': 's', 'last2-letters': 'is', 'last3-letters': 'sis'},\n",
       "       {'first-letter': 'r', 'first2-letters': 'ra', 'first3-letters': 'ram', 'last-letter': 'n', 'last2-letters': 'an', 'last3-letters': 'man'},\n",
       "       {'first-letter': 'a', 'first2-letters': 'an', 'first3-letters': 'ann', 'last-letter': 't', 'last2-letters': 'nt', 'last3-letters': 'ent'},\n",
       "       {'first-letter': 'y', 'first2-letters': 'yo', 'first3-letters': 'you', 'last-letter': 'u', 'last2-letters': 'ou', 'last3-letters': 'you'},\n",
       "       {'first-letter': 'm', 'first2-letters': 'ma', 'first3-letters': 'mah', 'last-letter': 'a', 'last2-letters': 'ra', 'last3-letters': 'tra'},\n",
       "       {'first-letter': 'n', 'first2-letters': 'na', 'first3-letters': 'nag', 'last-letter': 'r', 'last2-letters': 'ar', 'last3-letters': 'gar'},\n",
       "       {'first-letter': 'n', 'first2-letters': 'na', 'first3-letters': 'nag', 'last-letter': 'l', 'last2-letters': 'il', 'last3-letters': 'oil'},\n",
       "       {'first-letter': 'a', 'first2-letters': 'am', 'first3-letters': 'amb', 'last-letter': 'r', 'last2-letters': 'or', 'last3-letters': 'dor'},\n",
       "       {'first-letter': 'l', 'first2-letters': 'la', 'first3-letters': 'lak', 'last-letter': 'h', 'last2-letters': 'ah', 'last3-letters': 'iah'},\n",
       "       {'first-letter': 'i', 'first2-letters': 'in', 'first3-letters': 'in', 'last-letter': 'n', 'last2-letters': 'in', 'last3-letters': 'in'},\n",
       "       {'first-letter': 's', 'first2-letters': 'sh', 'first3-letters': 'shr', 'last-letter': 'e', 'last2-letters': 'ee', 'last3-letters': 'ree'},\n",
       "       {'first-letter': 'p', 'first2-letters': 'po', 'first3-letters': 'pol', 'last-letter': 'i', 'last2-letters': 'hi', 'last3-letters': 'chi'},\n",
       "       {'first-letter': 'p', 'first2-letters': 'pa', 'first3-letters': 'par', 'last-letter': 'l', 'last2-letters': 'ul', 'last3-letters': 'rul'},\n",
       "       {'first-letter': 'm', 'first2-letters': 'me', 'first3-letters': 'meh', 'last-letter': 'a', 'last2-letters': 'ta', 'last3-letters': 'hta'},\n",
       "       {'first-letter': 's', 'first2-letters': 'sa', 'first3-letters': 'sas', 'last-letter': 'e', 'last2-letters': 'ie', 'last3-letters': 'rie'},\n",
       "       {'first-letter': 'r', 'first2-letters': 're', 'first3-letters': 'rec', 'last-letter': 'd', 'last2-letters': 'rd', 'last3-letters': 'ord'},\n",
       "       {'first-letter': 'e', 'first2-letters': 'ea', 'first3-letters': 'eas', 'last-letter': 'n', 'last2-letters': 'rn', 'last3-letters': 'ern'},\n",
       "       {'first-letter': 'e', 'first2-letters': 'el', 'first3-letters': 'elu', 'last-letter': 'i', 'last2-letters': 'ai', 'last3-letters': 'lai'},\n",
       "       {'first-letter': 'm', 'first2-letters': 'ma', 'first3-letters': 'mar', 'last-letter': 'h', 'last2-letters': 'ch', 'last3-letters': 'rch'},\n",
       "       {'first-letter': 'p', 'first2-letters': 'ph', 'first3-letters': 'pha', 'last-letter': 'y', 'last2-letters': 'cy', 'last3-letters': 'acy'},\n",
       "       {'first-letter': 'd', 'first2-letters': 'do', 'first3-letters': 'don', 'last-letter': 'n', 'last2-letters': 'on', 'last3-letters': 'don'},\n",
       "       {'first-letter': 'i', 'first2-letters': 'in', 'first3-letters': 'int', 'last-letter': 'w', 'last2-letters': 'ew', 'last3-letters': 'iew'},\n",
       "       {'first-letter': 'l', 'first2-letters': 'lo', 'first3-letters': 'lov', 'last-letter': 'y', 'last2-letters': 'ly', 'last3-letters': 'ely'},\n",
       "       {'first-letter': 'p', 'first2-letters': 'pu', 'first3-letters': 'pun', 'last-letter': 'e', 'last2-letters': 'ne', 'last3-letters': 'une'},\n",
       "       {'first-letter': 'h', 'first2-letters': 'ha', 'first3-letters': 'har', 'last-letter': 'a', 'last2-letters': 'na', 'last3-letters': 'ana'},\n",
       "       {'first-letter': 'n', 'first2-letters': 'na', 'first3-letters': 'nav', 'last-letter': 'v', 'last2-letters': 'av', 'last3-letters': 'nav'},\n",
       "       {'first-letter': 'd', 'first2-letters': 'de', 'first3-letters': 'dea', 'last-letter': 'n', 'last2-letters': 'an', 'last3-letters': 'ean'},\n",
       "       {'first-letter': 'h', 'first2-letters': 'ho', 'first3-letters': 'how', 'last-letter': 'w', 'last2-letters': 'ow', 'last3-letters': 'how'},\n",
       "       {'first-letter': 'd', 'first2-letters': 'dh', 'first3-letters': 'dhe', 'last-letter': 'l', 'last2-letters': 'al', 'last3-letters': 'nal'},\n",
       "       {'first-letter': 'o', 'first2-letters': 'of', 'first3-letters': 'off', 'last-letter': 'f', 'last2-letters': 'ff', 'last3-letters': 'off'},\n",
       "       {'first-letter': 'n', 'first2-letters': 'no', 'first3-letters': 'nov', 'last-letter': 'r', 'last2-letters': 'er', 'last3-letters': 'ber'},\n",
       "       {'first-letter': 'r', 'first2-letters': 'ro', 'first3-letters': 'roh', 'last-letter': 'i', 'last2-letters': 'ni', 'last3-letters': 'ini'},\n",
       "       {'first-letter': 'b', 'first2-letters': 'bi', 'first3-letters': 'bih', 'last-letter': 'r', 'last2-letters': 'ar', 'last3-letters': 'har'},\n",
       "       {'first-letter': 'a', 'first2-letters': 'an', 'first3-letters': 'ani', 'last-letter': 'l', 'last2-letters': 'al', 'last3-letters': 'mal'},\n",
       "       {'first-letter': 's', 'first2-letters': 'su', 'first3-letters': 'sub', 'last-letter': 'a', 'last2-letters': 'ya', 'last3-letters': 'nya'},\n",
       "       {'first-letter': 'd', 'first2-letters': 'dh', 'first3-letters': 'dha', 'last-letter': 'h', 'last2-letters': 'sh', 'last3-letters': 'ish'},\n",
       "       {'first-letter': 's', 'first2-letters': 'so', 'first3-letters': 'soc', 'last-letter': 'y', 'last2-letters': 'ty', 'last3-letters': 'ety'},\n",
       "       {'first-letter': 'h', 'first2-letters': 'ha', 'first3-letters': 'ham', 'last-letter': 'd', 'last2-letters': 'rd', 'last3-letters': 'ard'},\n",
       "       {'first-letter': 'g', 'first2-letters': 'gr', 'first3-letters': 'gra', 'last-letter': 'n', 'last2-letters': 'in', 'last3-letters': 'min'},\n",
       "       {'first-letter': 'b', 'first2-letters': 'br', 'first3-letters': 'bri', 'last-letter': 't', 'last2-letters': 'nt', 'last3-letters': 'ant'},\n",
       "       {'first-letter': 'j', 'first2-letters': 'ja', 'first3-letters': 'jan', 'last-letter': 'i', 'last2-letters': 'ki', 'last3-letters': 'aki'},\n",
       "       {'first-letter': 'b', 'first2-letters': 'bo', 'first3-letters': 'bos', 'last-letter': 'o', 'last2-letters': 'co', 'last3-letters': 'sco'},\n",
       "       {'first-letter': 'm', 'first2-letters': 'mo', 'first3-letters': 'mon', 'last-letter': 'h', 'last2-letters': 'th', 'last3-letters': 'nth'},\n",
       "       {'first-letter': 'p', 'first2-letters': 'pa', 'first3-letters': 'pat', 'last-letter': 'l', 'last2-letters': 'il', 'last3-letters': 'til'},\n",
       "       {'first-letter': 'v', 'first2-letters': 'vi', 'first3-letters': 'vis', 'last-letter': 'm', 'last2-letters': 'am', 'last3-letters': 'nam'},\n",
       "       {'first-letter': 'm', 'first2-letters': 'me', 'first3-letters': 'mep', 'last-letter': 'o', 'last2-letters': 'co', 'last3-letters': 'pco'},\n",
       "       {'first-letter': 's', 'first2-letters': 'su', 'first3-letters': 'sur', 'last-letter': 'a', 'last2-letters': 'ra', 'last3-letters': 'dra'},\n",
       "       {'first-letter': 'l', 'first2-letters': 'la', 'first3-letters': 'lat', 'last-letter': 'a', 'last2-letters': 'ha', 'last3-letters': 'tha'},\n",
       "       {'first-letter': 'a', 'first2-letters': 'ab', 'first3-letters': 'abs', 'last-letter': 's', 'last2-letters': 'bs', 'last3-letters': 'abs'},\n",
       "       {'first-letter': 'p', 'first2-letters': 'pa', 'first3-letters': 'pan', 'last-letter': 'l', 'last2-letters': 'al', 'last3-letters': 'hal'},\n",
       "       {'first-letter': 'w', 'first2-letters': 'we', 'first3-letters': 'web', 'last-letter': 'e', 'last2-letters': 'te', 'last3-letters': 'ite'},\n",
       "       {'first-letter': 's', 'first2-letters': 'sr', 'first3-letters': 'sre', 'last-letter': 'e', 'last2-letters': 'ee', 'last3-letters': 'ree'},\n",
       "       {'first-letter': 'r', 'first2-letters': 'ra', 'first3-letters': 'ran', 'last-letter': 'i', 'last2-letters': 'hi', 'last3-letters': 'chi'},\n",
       "       {'first-letter': 'c', 'first2-letters': 'ce', 'first3-letters': 'cen', 'last-letter': 'n', 'last2-letters': 'on', 'last3-letters': 'ion'},\n",
       "       {'first-letter': 'p', 'first2-letters': 'pg', 'first3-letters': 'pgt', 'last-letter': 't', 'last2-letters': 'gt', 'last3-letters': 'pgt'},\n",
       "       {'first-letter': 'r', 'first2-letters': 're', 'first3-letters': 'res', 'last-letter': 'h', 'last2-letters': 'ch', 'last3-letters': 'rch'},\n",
       "       {'first-letter': 's', 'first2-letters': 'sa', 'first3-letters': 'sai', 'last-letter': 'i', 'last2-letters': 'ai', 'last3-letters': 'sai'},\n",
       "       {'first-letter': 'a', 'first2-letters': 'ac', 'first3-letters': 'aca', 'last-letter': 'c', 'last2-letters': 'ic', 'last3-letters': 'mic'},\n",
       "       {'first-letter': 'b', 'first2-letters': 'ba', 'first3-letters': 'bab', 'last-letter': 'a', 'last2-letters': 'ba', 'last3-letters': 'aba'},\n",
       "       {'first-letter': 'j', 'first2-letters': 'ja', 'first3-letters': 'jai', 'last-letter': 'i', 'last2-letters': 'ai', 'last3-letters': 'jai'},\n",
       "       {'first-letter': 'k', 'first2-letters': 'ka', 'first3-letters': 'kar', 'last-letter': 'r', 'last2-letters': 'ur', 'last3-letters': 'rur'},\n",
       "       {'first-letter': 'a', 'first2-letters': 'ap', 'first3-letters': 'app', 'last-letter': 's', 'last2-letters': 'ns', 'last3-letters': 'ons'},\n",
       "       {'first-letter': 'c', 'first2-letters': 'co', 'first3-letters': 'col', 'last-letter': 's', 'last2-letters': 'es', 'last3-letters': 'ges'},\n",
       "       {'first-letter': 'v', 'first2-letters': 'vi', 'first3-letters': 'vig', 'last-letter': 'n', 'last2-letters': 'an', 'last3-letters': 'nan'},\n",
       "       {'first-letter': 'g', 'first2-letters': 'go', 'first3-letters': 'gov', 'last-letter': 't', 'last2-letters': 'nt', 'last3-letters': 'ent'},\n",
       "       {'first-letter': 'r', 'first2-letters': 'ra', 'first3-letters': 'ram', 'last-letter': 'm', 'last2-letters': 'am', 'last3-letters': 'ram'},\n",
       "       {'first-letter': 'n', 'first2-letters': 'ni', 'first3-letters': 'nik', 'last-letter': 'n', 'last2-letters': 'an', 'last3-letters': 'tan'},\n",
       "       {'first-letter': 'v', 'first2-letters': 'va', 'first3-letters': 'van', 'last-letter': 'r', 'last2-letters': 'ur', 'last3-letters': 'nur'},\n",
       "       {'first-letter': 'd', 'first2-letters': 'do', 'first3-letters': 'doc', 'last-letter': 'l', 'last2-letters': 'al', 'last3-letters': 'ral'},\n",
       "       {'first-letter': 'l', 'first2-letters': 'lu', 'first3-letters': 'luc', 'last-letter': 'w', 'last2-letters': 'ow', 'last3-letters': 'now'},\n",
       "       {'first-letter': 'b', 'first2-letters': 'by', 'first3-letters': 'by', 'last-letter': 'y', 'last2-letters': 'by', 'last3-letters': 'by'},\n",
       "       {'first-letter': 'h', 'first2-letters': 'hi', 'first3-letters': 'him', 'last-letter': 'l', 'last2-letters': 'al', 'last3-letters': 'hal'},\n",
       "       {'first-letter': 'k', 'first2-letters': 'ka', 'first3-letters': 'kal', 'last-letter': 'r', 'last2-letters': 'ar', 'last3-letters': 'nar'},\n",
       "       {'first-letter': 'k', 'first2-letters': 'ko', 'first3-letters': 'kon', 'last-letter': 'u', 'last2-letters': 'gu', 'last3-letters': 'ngu'},\n",
       "       {'first-letter': 'a', 'first2-letters': 'am', 'first3-letters': 'amm', 'last-letter': 'l', 'last2-letters': 'al', 'last3-letters': 'mal'},\n",
       "       {'first-letter': 'c', 'first2-letters': 'co', 'first3-letters': 'com', 'last-letter': 'n', 'last2-letters': 'on', 'last3-letters': 'ion'},\n",
       "       {'first-letter': 'm', 'first2-letters': 'me', 'first3-letters': 'med', 'last-letter': 'r', 'last2-letters': 'ur', 'last3-letters': 'pur'},\n",
       "       {'first-letter': 's', 'first2-letters': 'sr', 'first3-letters': 'sre', 'last-letter': 'i', 'last2-letters': 'hi', 'last3-letters': 'dhi'},\n",
       "       {'first-letter': 'v', 'first2-letters': 'va', 'first3-letters': 'vad', 'last-letter': 'a', 'last2-letters': 'ra', 'last3-letters': 'ara'},\n",
       "       {'first-letter': 't', 'first2-letters': 'th', 'first3-letters': 'thi', 'last-letter': 'u', 'last2-letters': 'ru', 'last3-letters': 'iru'},\n",
       "       {'first-letter': 'k', 'first2-letters': 'ko', 'first3-letters': 'kol', 'last-letter': 'r', 'last2-letters': 'ur', 'last3-letters': 'pur'},\n",
       "       {'first-letter': 'h', 'first2-letters': 'hi', 'first3-letters': 'hig', 'last-letter': 'r', 'last2-letters': 'er', 'last3-letters': 'her'},\n",
       "       {'first-letter': 'b', 'first2-letters': 'bh', 'first3-letters': 'bha', 'last-letter': 'h', 'last2-letters': 'th', 'last3-letters': 'ath'},\n",
       "       {'first-letter': 'c', 'first2-letters': 'ch', 'first3-letters': 'chi', 'last-letter': 'a', 'last2-letters': 'ra', 'last3-letters': 'ara'},\n",
       "       {'first-letter': 'n', 'first2-letters': 'ne', 'first3-letters': 'nex', 'last-letter': 't', 'last2-letters': 'xt', 'last3-letters': 'ext'},\n",
       "       {'first-letter': 'r', 'first2-letters': 'ra', 'first3-letters': 'rag', 'last-letter': 'u', 'last2-letters': 'hu', 'last3-letters': 'ghu'},\n",
       "       {'first-letter': 'p', 'first2-letters': 'pa', 'first3-letters': 'par', 'last-letter': 'd', 'last2-letters': 'ad', 'last3-letters': 'had'},\n",
       "       {'first-letter': 'k', 'first2-letters': 'ki', 'first3-letters': 'kin', 'last-letter': 'n', 'last2-letters': 'on', 'last3-letters': 'ton'},\n",
       "       {'first-letter': 'k', 'first2-letters': 'ku', 'first3-letters': 'kum', 'last-letter': 'r', 'last2-letters': 'ur', 'last3-letters': 'lur'},\n",
       "       {'first-letter': 'b', 'first2-letters': 'ba', 'first3-letters': 'bar', 'last-letter': 'h', 'last2-letters': 'rh', 'last3-letters': 'arh'},\n",
       "       {'first-letter': 'o', 'first2-letters': 'oc', 'first3-letters': 'oce', 'last-letter': 'n', 'last2-letters': 'an', 'last3-letters': 'ean'},\n",
       "       {'first-letter': 'k', 'first2-letters': 'ka', 'first3-letters': 'kan', 'last-letter': 'i', 'last2-letters': 'ri', 'last3-letters': 'ari'},\n",
       "       {'first-letter': 's', 'first2-letters': 'sa', 'first3-letters': 'sag', 'last-letter': 'e', 'last2-letters': 'ge', 'last3-letters': 'age'},\n",
       "       {'first-letter': 'a', 'first2-letters': 'as', 'first3-letters': 'ass', 'last-letter': 'e', 'last2-letters': 'te', 'last3-letters': 'ate'},\n",
       "       {'first-letter': 'r', 'first2-letters': 'ro', 'first3-letters': 'rop', 'last-letter': 'r', 'last2-letters': 'ar', 'last3-letters': 'par'},\n",
       "       {'first-letter': 'k', 'first2-letters': 'ko', 'first3-letters': 'kot', 'last-letter': 'm', 'last2-letters': 'am', 'last3-letters': 'yam'},\n",
       "       {'first-letter': 'g', 'first2-letters': 'gu', 'first3-letters': 'guj', 'last-letter': 't', 'last2-letters': 'at', 'last3-letters': 'rat'},\n",
       "       {'first-letter': 's', 'first2-letters': 'se', 'first3-letters': 'sec', 'last-letter': 'd', 'last2-letters': 'ad', 'last3-letters': 'bad'},\n",
       "       {'first-letter': 'c', 'first2-letters': 'ch', 'first3-letters': 'cha', 'last-letter': 'n', 'last2-letters': 'on', 'last3-letters': 'aon'},\n",
       "       {'first-letter': 'p', 'first2-letters': 'pr', 'first3-letters': 'pro', 'last-letter': 'l', 'last2-letters': 'al', 'last3-letters': 'nal'},\n",
       "       {'first-letter': 'e', 'first2-letters': 'em', 'first3-letters': 'emp', 'last-letter': 't', 'last2-letters': 'nt', 'last3-letters': 'ent'},\n",
       "       {'first-letter': 'j', 'first2-letters': 'jo', 'first3-letters': 'jos', 'last-letter': 'h', 'last2-letters': 'ph', 'last3-letters': 'eph'},\n",
       "       {'first-letter': 's', 'first2-letters': 'sr', 'first3-letters': 'sri', 'last-letter': 's', 'last2-letters': 'as', 'last3-letters': 'vas'},\n",
       "       {'first-letter': 'p', 'first2-letters': 'pr', 'first3-letters': 'prt', 'last-letter': 't', 'last2-letters': 'rt', 'last3-letters': 'prt'},\n",
       "       {'first-letter': 'j', 'first2-letters': 'ja', 'first3-letters': 'jai', 'last-letter': 'n', 'last2-letters': 'in', 'last3-letters': 'ain'},\n",
       "       {'first-letter': 'c', 'first2-letters': 'co', 'first3-letters': 'cou', 'last-letter': 's', 'last2-letters': 'es', 'last3-letters': 'ses'},\n",
       "       {'first-letter': 'b', 'first2-letters': 'bi', 'first3-letters': 'bir', 'last-letter': 'm', 'last2-letters': 'um', 'last3-letters': 'hum'},\n",
       "       {'first-letter': 't', 'first2-letters': 'tr', 'first3-letters': 'tri', 'last-letter': 'y', 'last2-letters': 'hy', 'last3-letters': 'chy'},\n",
       "       {'first-letter': 'b', 'first2-letters': 'bi', 'first3-letters': 'bir', 'last-letter': 'a', 'last2-letters': 'la', 'last3-letters': 'rla'},\n",
       "       {'first-letter': 'q', 'first2-letters': 'qu', 'first3-letters': 'qua', 'last-letter': 'y', 'last2-letters': 'ty', 'last3-letters': 'ity'},\n",
       "       {'first-letter': 'g', 'first2-letters': 'ga', 'first3-letters': 'gan', 'last-letter': 'r', 'last2-letters': 'ar', 'last3-letters': 'gar'},\n",
       "       {'first-letter': 'e', 'first2-letters': 'el', 'first3-letters': 'eli', 'last-letter': 'e', 'last2-letters': 'le', 'last3-letters': 'ble'},\n",
       "       {'first-letter': 's', 'first2-letters': 'si', 'first3-letters': 'sil', 'last-letter': 'i', 'last2-letters': 'ri', 'last3-letters': 'uri'},\n",
       "       {'first-letter': 'i', 'first2-letters': 'il', 'first3-letters': 'ila', 'last-letter': 'a', 'last2-letters': 'ia', 'last3-letters': 'hia'},\n",
       "       {'first-letter': 'v', 'first2-letters': 've', 'first3-letters': 'ven', 'last-letter': 'a', 'last2-letters': 'aa', 'last3-letters': 'raa'},\n",
       "       {'first-letter': 'm', 'first2-letters': 'ma', 'first3-letters': 'mal', 'last-letter': 'a', 'last2-letters': 'ya', 'last3-letters': 'iya'},\n",
       "       {'first-letter': 'r', 'first2-letters': 're', 'first3-letters': 'rec', 'last-letter': 't', 'last2-letters': 'nt', 'last3-letters': 'ent'},\n",
       "       {'first-letter': 'n', 'first2-letters': 'na', 'first3-letters': 'nam', 'last-letter': 'l', 'last2-letters': 'al', 'last3-letters': 'kal'},\n",
       "       {'first-letter': 'n', 'first2-letters': 'no', 'first3-letters': 'not', 'last-letter': 'n', 'last2-letters': 'on', 'last3-letters': 'ion'},\n",
       "       {'first-letter': 'w', 'first2-letters': 'wa', 'first3-letters': 'war', 'last-letter': 'l', 'last2-letters': 'al', 'last3-letters': 'gal'},\n",
       "       {'first-letter': 'p', 'first2-letters': 'pa', 'first3-letters': 'pan', 'last-letter': 't', 'last2-letters': 'at', 'last3-letters': 'pat'},\n",
       "       {'first-letter': 'p', 'first2-letters': 'pr', 'first3-letters': 'pro', 'last-letter': 's', 'last2-letters': 'rs', 'last3-letters': 'ors'},\n",
       "       {'first-letter': 'h', 'first2-letters': 'ho', 'first3-letters': 'hod', 'last-letter': 'd', 'last2-letters': 'od', 'last3-letters': 'hod'},\n",
       "       {'first-letter': 'r', 'first2-letters': 'ra', 'first3-letters': 'ram', 'last-letter': 'n', 'last2-letters': 'an', 'last3-letters': 'yan'},\n",
       "       {'first-letter': 'd', 'first2-letters': 'de', 'first3-letters': 'dep', 'last-letter': 't', 'last2-letters': 'nt', 'last3-letters': 'ent'},\n",
       "       {'first-letter': 'r', 'first2-letters': 're', 'first3-letters': 'res', 'last-letter': 'e', 'last2-letters': 'me', 'last3-letters': 'ume'},\n",
       "       {'first-letter': 'd', 'first2-letters': 'da', 'first3-letters': 'dav', 'last-letter': 'e', 'last2-letters': 're', 'last3-letters': 'ere'},\n",
       "       {'first-letter': 'o', 'first2-letters': 'op', 'first3-letters': 'ope', 'last-letter': 'n', 'last2-letters': 'en', 'last3-letters': 'pen'},\n",
       "       {'first-letter': 'j', 'first2-letters': 'ju', 'first3-letters': 'jun', 'last-letter': 'e', 'last2-letters': 'ne', 'last3-letters': 'une'},\n",
       "       {'first-letter': 's', 'first2-letters': 'so', 'first3-letters': 'soc', 'last-letter': 'l', 'last2-letters': 'al', 'last3-letters': 'ial'},\n",
       "       {'first-letter': 'n', 'first2-letters': 'ni', 'first3-letters': 'nit', 'last-letter': 't', 'last2-letters': 'it', 'last3-letters': 'nit'},\n",
       "       {'first-letter': 'm', 'first2-letters': 'ma', 'first3-letters': 'man', 'last-letter': 'v', 'last2-letters': 'av', 'last3-letters': 'nav'},\n",
       "       {'first-letter': 'k', 'first2-letters': 'ka', 'first3-letters': 'kas', 'last-letter': 'd', 'last2-letters': 'od', 'last3-letters': 'god'},\n",
       "       {'first-letter': 'p', 'first2-letters': 'pg', 'first3-letters': 'pgt', 'last-letter': 't', 'last2-letters': 'gt', 'last3-letters': 'pgt'},\n",
       "       {'first-letter': 'd', 'first2-letters': 'de', 'first3-letters': 'def', 'last-letter': 'e', 'last2-letters': 'ce', 'last3-letters': 'nce'},\n",
       "       {'first-letter': 'm', 'first2-letters': 'ma', 'first3-letters': 'mad', 'last-letter': 'a', 'last2-letters': 'ra', 'last3-letters': 'ura'},\n",
       "       {'first-letter': 'n', 'first2-letters': 'na', 'first3-letters': 'nav', 'last-letter': 'a', 'last2-letters': 'va', 'last3-letters': 'ava'},\n",
       "       {'first-letter': 'e', 'first2-letters': 'er', 'first3-letters': 'ern', 'last-letter': 'm', 'last2-letters': 'am', 'last3-letters': 'lam'},\n",
       "       {'first-letter': 'p', 'first2-letters': 'po', 'first3-letters': 'pos', 'last-letter': 's', 'last2-letters': 'ts', 'last3-letters': 'sts'},\n",
       "       {'first-letter': 'k', 'first2-letters': 'ka', 'first3-letters': 'kap', 'last-letter': 'a', 'last2-letters': 'la', 'last3-letters': 'ala'},\n",
       "       {'first-letter': 'm', 'first2-letters': 'mo', 'first3-letters': 'mog', 'last-letter': 'e', 'last2-letters': 'he', 'last3-letters': 'ghe'},\n",
       "       {'first-letter': 'm', 'first2-letters': 'ma', 'first3-letters': 'mar', 'last-letter': 'a', 'last2-letters': 'da', 'last3-letters': 'ada'},\n",
       "       {'first-letter': 'r', 'first2-letters': 're', 'first3-letters': 'rev', 'last-letter': 'a', 'last2-letters': 'va', 'last3-letters': 'eva'},\n",
       "       {'first-letter': 'm', 'first2-letters': 'mo', 'first3-letters': 'mog', 'last-letter': 'a', 'last2-letters': 'ga', 'last3-letters': 'oga'},\n",
       "       {'first-letter': 'c', 'first2-letters': 'ch', 'first3-letters': 'chi', 'last-letter': 'r', 'last2-letters': 'or', 'last3-letters': 'oor'},\n",
       "       {'first-letter': 'b', 'first2-letters': 'by', 'first3-letters': 'byt', 'last-letter': 'r', 'last2-letters': 'ur', 'last3-letters': 'kur'},\n",
       "       {'first-letter': 'c', 'first2-letters': 'ca', 'first3-letters': 'cal', 'last-letter': 'r', 'last2-letters': 'ar', 'last3-letters': 'dar'},\n",
       "       {'first-letter': 's', 'first2-letters': 'se', 'first3-letters': 'sen', 'last-letter': 'r', 'last2-letters': 'or', 'last3-letters': 'ior'},\n",
       "       {'first-letter': 'n', 'first2-letters': 'na', 'first3-letters': 'nad', 'last-letter': 'r', 'last2-letters': 'ar', 'last3-letters': 'dar'},\n",
       "       {'first-letter': 'n', 'first2-letters': 'ni', 'first3-letters': 'nir', 'last-letter': 'a', 'last2-letters': 'ma', 'last3-letters': 'rma'},\n",
       "       {'first-letter': 'o', 'first2-letters': 'ox', 'first3-letters': 'oxf', 'last-letter': 'd', 'last2-letters': 'rd', 'last3-letters': 'ord'},\n",
       "       {'first-letter': 'e', 'first2-letters': 'ed', 'first3-letters': 'edu', 'last-letter': 'l', 'last2-letters': 'al', 'last3-letters': 'nal'},\n",
       "       {'first-letter': 's', 'first2-letters': 'sa', 'first3-letters': 'san', 'last-letter': 'a', 'last2-letters': 'ha', 'last3-letters': 'tha'},\n",
       "       {'first-letter': 'h', 'first2-letters': 'ha', 'first3-letters': 'has', 'last-letter': 'n', 'last2-letters': 'an', 'last3-letters': 'san'},\n",
       "       {'first-letter': 'a', 'first2-letters': 'an', 'first3-letters': 'and', 'last-letter': 'd', 'last2-letters': 'nd', 'last3-letters': 'and'},\n",
       "       {'first-letter': 'g', 'first2-letters': 'ga', 'first3-letters': 'gan', 'last-letter': 'k', 'last2-letters': 'ok', 'last3-letters': 'tok'},\n",
       "       {'first-letter': 't', 'first2-letters': 'ti', 'first3-letters': 'tir', 'last-letter': 'i', 'last2-letters': 'li', 'last3-letters': 'eli'},\n",
       "       {'first-letter': 'p', 'first2-letters': 'pa', 'first3-letters': 'pal', 'last-letter': 'i', 'last2-letters': 'ni', 'last3-letters': 'ani'},\n",
       "       {'first-letter': 's', 'first2-letters': 'su', 'first3-letters': 'sur', 'last-letter': 'l', 'last2-letters': 'al', 'last3-letters': 'kal'},\n",
       "       {'first-letter': 'g', 'first2-letters': 'gu', 'first3-letters': 'gur', 'last-letter': 'm', 'last2-letters': 'am', 'last3-letters': 'ram'},\n",
       "       {'first-letter': 'a', 'first2-letters': 'am', 'first3-letters': 'amr', 'last-letter': 'i', 'last2-letters': 'ti', 'last3-letters': 'ati'},\n",
       "       {'first-letter': 't', 'first2-letters': 'th', 'first3-letters': 'the', 'last-letter': 'i', 'last2-letters': 'ni', 'last3-letters': 'eni'},\n",
       "       {'first-letter': 'n', 'first2-letters': 'no', 'first3-letters': 'noo', 'last-letter': 'l', 'last2-letters': 'ul', 'last3-letters': 'rul'},\n",
       "       {'first-letter': 'r', 'first2-letters': 'ra', 'first3-letters': 'raj', 'last-letter': 'i', 'last2-letters': 'ri', 'last3-letters': 'iri'},\n",
       "       {'first-letter': 's', 'first2-letters': 'se', 'first3-letters': 'sel', 'last-letter': 'm', 'last2-letters': 'am', 'last3-letters': 'vam'},\n",
       "       {'first-letter': 's', 'first2-letters': 'se', 'first3-letters': 'ser', 'last-letter': 'e', 'last2-letters': 'ce', 'last3-letters': 'ice'},\n",
       "       {'first-letter': 'p', 'first2-letters': 'pa', 'first3-letters': 'pai', 'last-letter': 'n', 'last2-letters': 'an', 'last3-letters': 'lan'},\n",
       "       {'first-letter': 'o', 'first2-letters': 'of', 'first3-letters': 'off', 'last-letter': 'l', 'last2-letters': 'al', 'last3-letters': 'ial'},\n",
       "       {'first-letter': 'c', 'first2-letters': 'co', 'first3-letters': 'coo', 'last-letter': 's', 'last2-letters': 'rs', 'last3-letters': 'ors'},\n",
       "       {'first-letter': 'b', 'first2-letters': 'bh', 'first3-letters': 'bha', 'last-letter': 'o', 'last2-letters': 'ao', 'last3-letters': 'rao'},\n",
       "       {'first-letter': 'c', 'first2-letters': 'ch', 'first3-letters': 'chi', 'last-letter': 'd', 'last2-letters': 'ad', 'last3-letters': 'wad'},\n",
       "       {'first-letter': 'r', 'first2-letters': 'ra', 'first3-letters': 'rat', 'last-letter': 'm', 'last2-letters': 'am', 'last3-letters': 'nam'},\n",
       "       {'first-letter': 'j', 'first2-letters': 'ja', 'first3-letters': 'jai', 'last-letter': 'r', 'last2-letters': 'ur', 'last3-letters': 'pur'},\n",
       "       {'first-letter': 'a', 'first2-letters': 'ag', 'first3-letters': 'aga', 'last-letter': 'a', 'last2-letters': 'la', 'last3-letters': 'ala'},\n",
       "       {'first-letter': 's', 'first2-letters': 'su', 'first3-letters': 'sug', 'last-letter': 'r', 'last2-letters': 'ar', 'last3-letters': 'gar'},\n",
       "       {'first-letter': 'r', 'first2-letters': 'ro', 'first3-letters': 'rot', 'last-letter': 'y', 'last2-letters': 'ry', 'last3-letters': 'ary'},\n",
       "       {'first-letter': 'm', 'first2-letters': 'ma', 'first3-letters': 'mah', 'last-letter': 'r', 'last2-letters': 'er', 'last3-letters': 'eer'},\n",
       "       {'first-letter': 'i', 'first2-letters': 'ii', 'first3-letters': 'iit', 'last-letter': 't', 'last2-letters': 'it', 'last3-letters': 'iit'},\n",
       "       {'first-letter': 'b', 'first2-letters': 'br', 'first3-letters': 'bra', 'last-letter': 's', 'last2-letters': 'es', 'last3-letters': 'hes'},\n",
       "       {'first-letter': 'p', 'first2-letters': 'pl', 'first3-letters': 'plu', 'last-letter': 's', 'last2-letters': 'us', 'last3-letters': 'lus'},\n",
       "       {'first-letter': 'v', 'first2-letters': 'vi', 'first3-letters': 'vis', 'last-letter': 'i', 'last2-letters': 'hi', 'last3-letters': 'shi'},\n",
       "       {'first-letter': 'c', 'first2-letters': 'ch', 'first3-letters': 'cha', 'last-letter': 's', 'last2-letters': 'es', 'last3-letters': 'ges'},\n",
       "       {'first-letter': 'b', 'first2-letters': 'br', 'first3-letters': 'bri', 'last-letter': 'n', 'last2-letters': 'an', 'last3-letters': 'van'},\n",
       "       {'first-letter': 'p', 'first2-letters': 'po', 'first3-letters': 'por', 'last-letter': 'l', 'last2-letters': 'al', 'last3-letters': 'tal'},\n",
       "       {'first-letter': 'k', 'first2-letters': 'ka', 'first3-letters': 'kar', 'last-letter': 'm', 'last2-letters': 'am', 'last3-letters': 'gam'},\n",
       "       {'first-letter': 'c', 'first2-letters': 'ch', 'first3-letters': 'che', 'last-letter': 'n', 'last2-letters': 'an', 'last3-letters': 'ran'},\n",
       "       {'first-letter': 's', 'first2-letters': 'sh', 'first3-letters': 'shr', 'last-letter': 'm', 'last2-letters': 'am', 'last3-letters': 'ram'},\n",
       "       {'first-letter': 'm', 'first2-letters': 'me', 'first3-letters': 'me', 'last-letter': 'e', 'last2-letters': 'me', 'last3-letters': 'me'},\n",
       "       {'first-letter': 'm', 'first2-letters': 'ma', 'first3-letters': 'mat', 'last-letter': 'n', 'last2-letters': 'an', 'last3-letters': 'van'},\n",
       "       {'first-letter': 'n', 'first2-letters': 'ni', 'first3-letters': 'nit', 'last-letter': 'e', 'last2-letters': 'te', 'last3-letters': 'tte'},\n",
       "       {'first-letter': 'v', 'first2-letters': 'va', 'first3-letters': 'var', 'last-letter': 'i', 'last2-letters': 'si', 'last3-letters': 'asi'},\n",
       "       {'first-letter': 'e', 'first2-letters': 'ex', 'first3-letters': 'exc', 'last-letter': 'l', 'last2-letters': 'el', 'last3-letters': 'cel'},\n",
       "       {'first-letter': 'v', 'first2-letters': 'vi', 'first3-letters': 'viz', 'last-letter': 'm', 'last2-letters': 'am', 'last3-letters': 'ram'},\n",
       "       {'first-letter': 'k', 'first2-letters': 'ka', 'first3-letters': 'kal', 'last-letter': 'r', 'last2-letters': 'or', 'last3-letters': 'bor'},\n",
       "       {'first-letter': 'm', 'first2-letters': 'mu', 'first3-letters': 'mus', 'last-letter': 'r', 'last2-letters': 'ar', 'last3-letters': 'iar'},\n",
       "       {'first-letter': 'p', 'first2-letters': 'pu', 'first3-letters': 'pub', 'last-letter': 'c', 'last2-letters': 'ic', 'last3-letters': 'lic'},\n",
       "       {'first-letter': 'l', 'first2-letters': 'li', 'first3-letters': 'lit', 'last-letter': 'e', 'last2-letters': 'le', 'last3-letters': 'tle'},\n",
       "       {'first-letter': 'n', 'first2-letters': 'na', 'first3-letters': 'nar', 'last-letter': 'a', 'last2-letters': 'na', 'last3-letters': 'ana'},\n",
       "       {'first-letter': 'l', 'first2-letters': 'lo', 'first3-letters': 'loh', 'last-letter': 'a', 'last2-letters': 'ia', 'last3-letters': 'hia'},\n",
       "       {'first-letter': 'r', 'first2-letters': 'ra', 'first3-letters': 'raj', 'last-letter': 't', 'last2-letters': 'ot', 'last3-letters': 'kot'},\n",
       "       {'first-letter': 'r', 'first2-letters': 'ra', 'first3-letters': 'ram', 'last-letter': 's', 'last2-letters': 'as', 'last3-letters': 'nas'},\n",
       "       {'first-letter': 'i', 'first2-letters': 'in', 'first3-letters': 'inf', 'last-letter': 'e', 'last2-letters': 're', 'last3-letters': 'ure'},\n",
       "       {'first-letter': 'd', 'first2-letters': 'di', 'first3-letters': 'dib', 'last-letter': 'h', 'last2-letters': 'rh', 'last3-letters': 'arh'},\n",
       "       {'first-letter': 's', 'first2-letters': 'sr', 'first3-letters': 'sri', 'last-letter': 'm', 'last2-letters': 'am', 'last3-letters': 'lam'},\n",
       "       {'first-letter': 'v', 'first2-letters': 'va', 'first3-letters': 'var', 'last-letter': 's', 'last2-letters': 'us', 'last3-letters': 'ous'},\n",
       "       {'first-letter': 'p', 'first2-letters': 'pa', 'first3-letters': 'pal', 'last-letter': 'i', 'last2-letters': 'ai', 'last3-letters': 'lai'},\n",
       "       {'first-letter': 'c', 'first2-letters': 'ca', 'first3-letters': 'cam', 'last-letter': 's', 'last2-letters': 'us', 'last3-letters': 'pus'},\n",
       "       {'first-letter': 'g', 'first2-letters': 'gu', 'first3-letters': 'gun', 'last-letter': 'r', 'last2-letters': 'ur', 'last3-letters': 'tur'},\n",
       "       {'first-letter': 'r', 'first2-letters': 'ri', 'first3-letters': 'ris', 'last-letter': 'i', 'last2-letters': 'hi', 'last3-letters': 'shi'},\n",
       "       {'first-letter': 's', 'first2-letters': 'st', 'first3-letters': 'sta', 'last-letter': 'e', 'last2-letters': 'ne', 'last3-letters': 'one'},\n",
       "       {'first-letter': 's', 'first2-letters': 'se', 'first3-letters': 'sep', 'last-letter': 'r', 'last2-letters': 'er', 'last3-letters': 'ber'},\n",
       "       {'first-letter': 'a', 'first2-letters': 'ar', 'first3-letters': 'ara', 'last-letter': 'r', 'last2-letters': 'ar', 'last3-letters': 'dar'},\n",
       "       {'first-letter': 'm', 'first2-letters': 'ma', 'first3-letters': 'man', 'last-letter': 'i', 'last2-letters': 'ai', 'last3-letters': 'mai'},\n",
       "       {'first-letter': 's', 'first2-letters': 'sh', 'first3-letters': 'sha', 'last-letter': 'h', 'last2-letters': 'ah', 'last3-letters': 'jah'},\n",
       "       {'first-letter': 'a', 'first2-letters': 'ac', 'first3-letters': 'acc', 'last-letter': 't', 'last2-letters': 'nt', 'last3-letters': 'ant'},\n",
       "       {'first-letter': 'a', 'first2-letters': 'ar', 'first3-letters': 'aru', 'last-letter': 'n', 'last2-letters': 'an', 'last3-letters': 'gan'},\n",
       "       {'first-letter': 'a', 'first2-letters': 'ad', 'first3-letters': 'adi', 'last-letter': 'a', 'last2-letters': 'ya', 'last3-letters': 'tya'},\n",
       "       {'first-letter': 't', 'first2-letters': 'th', 'first3-letters': 'thi', 'last-letter': 'r', 'last2-letters': 'ur', 'last3-letters': 'lur'},\n",
       "       {'first-letter': 't', 'first2-letters': 'te', 'first3-letters': 'tec', 'last-letter': 'h', 'last2-letters': 'ch', 'last3-letters': 'ech'},\n",
       "       {'first-letter': 's', 'first2-letters': 'sa', 'first3-letters': 'sas', 'last-letter': 'a', 'last2-letters': 'ra', 'last3-letters': 'tra'},\n",
       "       {'first-letter': 'v', 'first2-letters': 'va', 'first3-letters': 'vai', 'last-letter': 'a', 'last2-letters': 'ya', 'last3-letters': 'sya'},\n",
       "       {'first-letter': 'r', 'first2-letters': 'ra', 'first3-letters': 'rai', 'last-letter': 'i', 'last2-letters': 'ni', 'last3-letters': 'oni'},\n",
       "       {'first-letter': 'd', 'first2-letters': 'da', 'first3-letters': 'dai', 'last-letter': 'y', 'last2-letters': 'ly', 'last3-letters': 'ily'},\n",
       "       {'first-letter': 'g', 'first2-letters': 'ga', 'first3-letters': 'gau', 'last-letter': 'm', 'last2-letters': 'am', 'last3-letters': 'tam'},\n",
       "       {'first-letter': 'b', 'first2-letters': 'bh', 'first3-letters': 'bha', 'last-letter': 'i', 'last2-letters': 'ni', 'last3-letters': 'ani'},\n",
       "       {'first-letter': 'h', 'first2-letters': 'ho', 'first3-letters': 'hor', 'last-letter': 'n', 'last2-letters': 'on', 'last3-letters': 'zon'},\n",
       "       {'first-letter': 'a', 'first2-letters': 'ar', 'first3-letters': 'ary', 'last-letter': 'n', 'last2-letters': 'an', 'last3-letters': 'yan'},\n",
       "       {'first-letter': 's', 'first2-letters': 'sh', 'first3-letters': 'shy', 'last-letter': 'm', 'last2-letters': 'am', 'last3-letters': 'yam'},\n",
       "       {'first-letter': 'r', 'first2-letters': 'ra', 'first3-letters': 'rai', 'last-letter': 'i', 'last2-letters': 'ai', 'last3-letters': 'rai'},\n",
       "       {'first-letter': 'k', 'first2-letters': 'kr', 'first3-letters': 'kri', 'last-letter': 'a', 'last2-letters': 'na', 'last3-letters': 'hna'},\n",
       "       {'first-letter': 'y', 'first2-letters': 'ya', 'first3-letters': 'yam', 'last-letter': 'a', 'last2-letters': 'na', 'last3-letters': 'una'},\n",
       "       {'first-letter': 'b', 'first2-letters': 'ba', 'first3-letters': 'ban', 'last-letter': 'i', 'last2-letters': 'ri', 'last3-letters': 'ari'},\n",
       "       {'first-letter': 't', 'first2-letters': 'te', 'first3-letters': 'tec', 'last-letter': 'l', 'last2-letters': 'al', 'last3-letters': 'cal'},\n",
       "       {'first-letter': 'b', 'first2-letters': 'bv', 'first3-letters': 'bvc', 'last-letter': 'c', 'last2-letters': 'vc', 'last3-letters': 'bvc'},\n",
       "       {'first-letter': 'c', 'first2-letters': 'ch', 'first3-letters': 'cha', 'last-letter': 'i', 'last2-letters': 'hi', 'last3-letters': 'thi'},\n",
       "       {'first-letter': 'm', 'first2-letters': 'ma', 'first3-letters': 'man', 'last-letter': 'n', 'last2-letters': 'nn', 'last3-letters': 'ann'},\n",
       "       {'first-letter': 'c', 'first2-letters': 'ch', 'first3-letters': 'chr', 'last-letter': 'e', 'last2-letters': 'le', 'last3-letters': 'cle'},\n",
       "       {'first-letter': 'c', 'first2-letters': 'ca', 'first3-letters': 'can', 'last-letter': 's', 'last2-letters': 'es', 'last3-letters': 'tes'},\n",
       "       {'first-letter': 'a', 'first2-letters': 'ac', 'first3-letters': 'aca', 'last-letter': 'y', 'last2-letters': 'my', 'last3-letters': 'emy'},\n",
       "       {'first-letter': 'p', 'first2-letters': 'pr', 'first3-letters': 'pro', 'last-letter': 'f', 'last2-letters': 'of', 'last3-letters': 'rof'},\n",
       "       {'first-letter': 'q', 'first2-letters': 'qu', 'first3-letters': 'qua', 'last-letter': 'm', 'last2-letters': 'um', 'last3-letters': 'tum'},\n",
       "       {'first-letter': 'o', 'first2-letters': 'od', 'first3-letters': 'odi', 'last-letter': 'a', 'last2-letters': 'ha', 'last3-letters': 'sha'},\n",
       "       {'first-letter': 'k', 'first2-letters': 'ka', 'first3-letters': 'kak', 'last-letter': 'a', 'last2-letters': 'ya', 'last3-letters': 'iya'},\n",
       "       {'first-letter': 'b', 'first2-letters': 'bh', 'first3-letters': 'bha', 'last-letter': 'h', 'last2-letters': 'ch', 'last3-letters': 'uch'},\n",
       "       {'first-letter': 's', 'first2-letters': 'se', 'first3-letters': 'sec', 'last-letter': 'c', 'last2-letters': 'ec', 'last3-letters': 'sec'},\n",
       "       {'first-letter': 'j', 'first2-letters': 'ja', 'first3-letters': 'jay', 'last-letter': 'e', 'last2-letters': 'ee', 'last3-letters': 'pee'},\n",
       "       {'first-letter': 'f', 'first2-letters': 'fu', 'first3-letters': 'ful', 'last-letter': 'l', 'last2-letters': 'll', 'last3-letters': 'ull'},\n",
       "       {'first-letter': 'f', 'first2-letters': 'fa', 'first3-letters': 'far', 'last-letter': 'd', 'last2-letters': 'ad', 'last3-letters': 'bad'},\n",
       "       {'first-letter': 's', 'first2-letters': 'sa', 'first3-letters': 'sar', 'last-letter': 'r', 'last2-letters': 'ar', 'last3-letters': 'dar'},\n",
       "       {'first-letter': 'm', 'first2-letters': 'ma', 'first3-letters': 'mat', 'last-letter': 'a', 'last2-letters': 'ha', 'last3-letters': 'tha'},\n",
       "       {'first-letter': 'm', 'first2-letters': 'me', 'first3-letters': 'meg', 'last-letter': 'a', 'last2-letters': 'ya', 'last3-letters': 'aya'},\n",
       "       {'first-letter': 'b', 'first2-letters': 'ba', 'first3-letters': 'bap', 'last-letter': 'a', 'last2-letters': 'la', 'last3-letters': 'tla'},\n",
       "       {'first-letter': 's', 'first2-letters': 'sa', 'first3-letters': 'san', 'last-letter': 'a', 'last2-letters': 'da', 'last3-letters': 'nda'},\n",
       "       {'first-letter': 'n', 'first2-letters': 'na', 'first3-letters': 'nar', 'last-letter': 'a', 'last2-letters': 'da', 'last3-letters': 'uda'},\n",
       "       {'first-letter': 'k', 'first2-letters': 'ka', 'first3-letters': 'kay', 'last-letter': 's', 'last2-letters': 'es', 'last3-letters': 'yes'},\n",
       "       {'first-letter': 's', 'first2-letters': 'sa', 'first3-letters': 'sat', 'last-letter': 'a', 'last2-letters': 'ra', 'last3-letters': 'ara'},\n",
       "       {'first-letter': 'd', 'first2-letters': 'de', 'first3-letters': 'det', 'last-letter': 'l', 'last2-letters': 'il', 'last3-letters': 'ail'},\n",
       "       {'first-letter': 's', 'first2-letters': 'sh', 'first3-letters': 'sha', 'last-letter': 'a', 'last2-letters': 'ra', 'last3-letters': 'ara'},\n",
       "       {'first-letter': 's', 'first2-letters': 'su', 'first3-letters': 'sur', 'last-letter': 't', 'last2-letters': 'at', 'last3-letters': 'rat'},\n",
       "       {'first-letter': 'c', 'first2-letters': 'ce', 'first3-letters': 'cen', 'last-letter': 'e', 'last2-letters': 're', 'last3-letters': 'tre'},\n",
       "       {'first-letter': 'k', 'first2-letters': 'ka', 'first3-letters': 'kat', 'last-letter': 'r', 'last2-letters': 'ur', 'last3-letters': 'hur'},\n",
       "       {'first-letter': 'y', 'first2-letters': 'ye', 'first3-letters': 'yea', 'last-letter': 'r', 'last2-letters': 'ar', 'last3-letters': 'ear'},\n",
       "       {'first-letter': 't', 'first2-letters': 'tr', 'first3-letters': 'tre', 'last-letter': 's', 'last2-letters': 'ds', 'last3-letters': 'nds'},\n",
       "       {'first-letter': 'a', 'first2-letters': 'as', 'first3-letters': 'ass', 'last-letter': 'm', 'last2-letters': 'am', 'last3-letters': 'sam'},\n",
       "       {'first-letter': 'l', 'first2-letters': 'la', 'first3-letters': 'lal', 'last-letter': 'a', 'last2-letters': 'la', 'last3-letters': 'ala'},\n",
       "       {'first-letter': 't', 'first2-letters': 'tr', 'first3-letters': 'tri', 'last-letter': 'a', 'last2-letters': 'ra', 'last3-letters': 'ura'},\n",
       "       {'first-letter': 'g', 'first2-letters': 'ge', 'first3-letters': 'gen', 'last-letter': 'n', 'last2-letters': 'on', 'last3-letters': 'ion'},\n",
       "       {'first-letter': 'b', 'first2-letters': 'be', 'first3-letters': 'ben', 'last-letter': 'u', 'last2-letters': 'ru', 'last3-letters': 'uru'},\n",
       "       {'first-letter': 'k', 'first2-letters': 'ka', 'first3-letters': 'kak', 'last-letter': 'd', 'last2-letters': 'ad', 'last3-letters': 'nad'},\n",
       "       {'first-letter': 'm', 'first2-letters': 'mv', 'first3-letters': 'mvj', 'last-letter': 'j', 'last2-letters': 'vj', 'last3-letters': 'mvj'},\n",
       "       {'first-letter': 'a', 'first2-letters': 'ar', 'first3-letters': 'aru', 'last-letter': 'i', 'last2-letters': 'ai', 'last3-letters': 'tai'},\n",
       "       {'first-letter': 'p', 'first2-letters': 'pu', 'first3-letters': 'pur', 'last-letter': 'i', 'last2-letters': 'ri', 'last3-letters': 'uri'},\n",
       "       {'first-letter': 'j', 'first2-letters': 'ja', 'first3-letters': 'jac', 'last-letter': 'b', 'last2-letters': 'ob', 'last3-letters': 'cob'},\n",
       "       {'first-letter': 'd', 'first2-letters': 'de', 'first3-letters': 'det', 'last-letter': 's', 'last2-letters': 'ls', 'last3-letters': 'ils'},\n",
       "       {'first-letter': 'k', 'first2-letters': 'ka', 'first3-letters': 'kak', 'last-letter': 'a', 'last2-letters': 'da', 'last3-letters': 'ada'},\n",
       "       {'first-letter': 'g', 'first2-letters': 'gh', 'first3-letters': 'gha', 'last-letter': 'm', 'last2-letters': 'am', 'last3-letters': 'ram'},\n",
       "       {'first-letter': 'n', 'first2-letters': 'na', 'first3-letters': 'nai', 'last-letter': 'u', 'last2-letters': 'du', 'last3-letters': 'idu'},\n",
       "       {'first-letter': 'h', 'first2-letters': 'he', 'first3-letters': 'hea', 'last-letter': 'h', 'last2-letters': 'th', 'last3-letters': 'lth'},\n",
       "       {'first-letter': 't', 'first2-letters': 'th', 'first3-letters': 'thi', 'last-letter': 'm', 'last2-letters': 'am', 'last3-letters': 'ram'},\n",
       "       {'first-letter': 'n', 'first2-letters': 'ne', 'first3-letters': 'new', 'last-letter': 'w', 'last2-letters': 'ew', 'last3-letters': 'new'},\n",
       "       {'first-letter': 'n', 'first2-letters': 'na', 'first3-letters': 'nar', 'last-letter': 'a', 'last2-letters': 'ta', 'last3-letters': 'eta'},\n",
       "       {'first-letter': 'p', 'first2-letters': 'ph', 'first3-letters': 'pha', 'last-letter': 'l', 'last2-letters': 'al', 'last3-letters': 'cal'},\n",
       "       {'first-letter': 'm', 'first2-letters': 'ma', 'first3-letters': 'mat', 'last-letter': 'n', 'last2-letters': 'on', 'last3-letters': 'ion'},\n",
       "       {'first-letter': 'd', 'first2-letters': 'dh', 'first3-letters': 'dha', 'last-letter': 'a', 'last2-letters': 'la', 'last3-letters': 'ula'},\n",
       "       {'first-letter': 's', 'first2-letters': 'si', 'first3-letters': 'sik', 'last-letter': 'a', 'last2-letters': 'ha', 'last3-letters': 'sha'},\n",
       "       {'first-letter': 'r', 'first2-letters': 'ra', 'first3-letters': 'raj', 'last-letter': 'a', 'last2-letters': 'ra', 'last3-letters': 'ura'},\n",
       "       {'first-letter': 'w', 'first2-letters': 'wa', 'first3-letters': 'war', 'last-letter': 'a', 'last2-letters': 'ha', 'last3-letters': 'dha'},\n",
       "       {'first-letter': 'a', 'first2-letters': 'an', 'first3-letters': 'ana', 'last-letter': 'd', 'last2-letters': 'nd', 'last3-letters': 'and'},\n",
       "       {'first-letter': 'k', 'first2-letters': 'ka', 'first3-letters': 'kar', 'last-letter': 'i', 'last2-letters': 'hi', 'last3-letters': 'dhi'},\n",
       "       {'first-letter': 's', 'first2-letters': 'sr', 'first3-letters': 'sri', 'last-letter': 'a', 'last2-letters': 'sa', 'last3-letters': 'asa'},\n",
       "       {'first-letter': 'v', 'first2-letters': 've', 'first3-letters': 'vel', 'last-letter': 'y', 'last2-letters': 'my', 'last3-letters': 'amy'},\n",
       "       {'first-letter': 'v', 'first2-letters': 'vi', 'first3-letters': 'viv', 'last-letter': 'a', 'last2-letters': 'ha', 'last3-letters': 'dha'},\n",
       "       {'first-letter': 'd', 'first2-letters': 'da', 'first3-letters': 'dad', 'last-letter': 'a', 'last2-letters': 'ra', 'last3-letters': 'dra'},\n",
       "       {'first-letter': 'p', 'first2-letters': 'pa', 'first3-letters': 'pat', 'last-letter': 'l', 'last2-letters': 'al', 'last3-letters': 'mal'},\n",
       "       {'first-letter': 'p', 'first2-letters': 'pa', 'first3-letters': 'pap', 'last-letter': 'e', 'last2-letters': 'ge', 'last3-letters': 'pge'},\n",
       "       {'first-letter': 's', 'first2-letters': 'sa', 'first3-letters': 'san', 'last-letter': 'r', 'last2-letters': 'ar', 'last3-letters': 'kar'},\n",
       "       {'first-letter': 'e', 'first2-letters': 'ea', 'first3-letters': 'eas', 'last-letter': 'a', 'last2-letters': 'sa', 'last3-letters': 'asa'},\n",
       "       {'first-letter': 'a', 'first2-letters': 'ar', 'first3-letters': 'arj', 'last-letter': 'n', 'last2-letters': 'un', 'last3-letters': 'jun'},\n",
       "       {'first-letter': 't', 'first2-letters': 'ta', 'first3-letters': 'tat', 'last-letter': 'a', 'last2-letters': 'ta', 'last3-letters': 'ata'},\n",
       "       {'first-letter': 'n', 'first2-letters': 'na', 'first3-letters': 'nad', 'last-letter': 'u', 'last2-letters': 'du', 'last3-letters': 'adu'},\n",
       "       {'first-letter': 'i', 'first2-letters': 'in', 'first3-letters': 'ind', 'last-letter': 'a', 'last2-letters': 'ha', 'last3-letters': 'tha'},\n",
       "       {'first-letter': 'f', 'first2-letters': 'fo', 'first3-letters': 'for', 'last-letter': 'm', 'last2-letters': 'rm', 'last3-letters': 'orm'},\n",
       "       {'first-letter': 'm', 'first2-letters': 'me', 'first3-letters': 'mem', 'last-letter': 'l', 'last2-letters': 'al', 'last3-letters': 'ial'},\n",
       "       {'first-letter': 'n', 'first2-letters': 'na', 'first3-letters': 'nal', 'last-letter': 'a', 'last2-letters': 'la', 'last3-letters': 'lla'},\n",
       "       {'first-letter': 'b', 'first2-letters': 'bh', 'first3-letters': 'bhu', 'last-letter': 'r', 'last2-letters': 'ar', 'last3-letters': 'war'},\n",
       "       {'first-letter': 'd', 'first2-letters': 'di', 'first3-letters': 'diw', 'last-letter': 'n', 'last2-letters': 'an', 'last3-letters': 'wan'},\n",
       "       {'first-letter': 'm', 'first2-letters': 'mi', 'first3-letters': 'mis', 'last-letter': 's', 'last2-letters': 'ss', 'last3-letters': 'ess'},\n",
       "       {'first-letter': 's', 'first2-letters': 'sa', 'first3-letters': 'sav', 'last-letter': 'a', 'last2-letters': 'ha', 'last3-letters': 'tha'},\n",
       "       {'first-letter': 's', 'first2-letters': 'sa', 'first3-letters': 'sam', 'last-letter': 'm', 'last2-letters': 'am', 'last3-letters': 'sam'},\n",
       "       {'first-letter': 'a', 'first2-letters': 'ay', 'first3-letters': 'ayo', 'last-letter': 'a', 'last2-letters': 'ya', 'last3-letters': 'hya'},\n",
       "       {'first-letter': 'a', 'first2-letters': 'an', 'first3-letters': 'and', 'last-letter': 'a', 'last2-letters': 'ra', 'last3-letters': 'hra'},\n",
       "       {'first-letter': 'p', 'first2-letters': 'po', 'first3-letters': 'pos', 'last-letter': 's', 'last2-letters': 'ns', 'last3-letters': 'ons'},\n",
       "       {'first-letter': 'p', 'first2-letters': 'pr', 'first3-letters': 'pro', 'last-letter': 'r', 'last2-letters': 'er', 'last3-letters': 'der'},\n",
       "       {'first-letter': 'p', 'first2-letters': 'pr', 'first3-letters': 'pra', 'last-letter': 'm', 'last2-letters': 'am', 'last3-letters': 'sam'},\n",
       "       {'first-letter': 'p', 'first2-letters': 'pa', 'first3-letters': 'pan', 'last-letter': 'n', 'last2-letters': 'an', 'last3-letters': 'ian'},\n",
       "       {'first-letter': 'a', 'first2-letters': 'an', 'first3-letters': 'ang', 'last-letter': 'a', 'last2-letters': 'pa', 'last3-letters': 'ppa'},\n",
       "       {'first-letter': 'g', 'first2-letters': 'go', 'first3-letters': 'goe', 'last-letter': 'l', 'last2-letters': 'el', 'last3-letters': 'oel'},\n",
       "       {'first-letter': 't', 'first2-letters': 'te', 'first3-letters': 'tel', 'last-letter': 'a', 'last2-letters': 'na', 'last3-letters': 'ana'},\n",
       "       {'first-letter': 'b', 'first2-letters': 'by', 'first3-letters': 'byd', 'last-letter': 'a', 'last2-letters': 'la', 'last3-letters': 'ula'},\n",
       "       {'first-letter': 'd', 'first2-letters': 'de', 'first3-letters': 'del', 'last-letter': 'i', 'last2-letters': 'hi', 'last3-letters': 'lhi'},\n",
       "       {'first-letter': 'v', 'first2-letters': 'va', 'first3-letters': 'vac', 'last-letter': 'y', 'last2-letters': 'cy', 'last3-letters': 'ncy'},\n",
       "       {'first-letter': 's', 'first2-letters': 'sa', 'first3-letters': 'sak', 'last-letter': 'a', 'last2-letters': 'la', 'last3-letters': 'ala'},\n",
       "       {'first-letter': 't', 'first2-letters': 'te', 'first3-letters': 'tea', 'last-letter': 'r', 'last2-letters': 'er', 'last3-letters': 'her'},\n",
       "       {'first-letter': 'd', 'first2-letters': 'de', 'first3-letters': 'del', 'last-letter': 'r', 'last2-letters': 'or', 'last3-letters': 'for'},\n",
       "       {'first-letter': 'd', 'first2-letters': 'dh', 'first3-letters': 'dho', 'last-letter': 'e', 'last2-letters': 'le', 'last3-letters': 'ole'},\n",
       "       {'first-letter': 's', 'first2-letters': 'sr', 'first3-letters': 'srf', 'last-letter': 'f', 'last2-letters': 'rf', 'last3-letters': 'srf'},\n",
       "       {'first-letter': 'l', 'first2-letters': 'la', 'first3-letters': 'law', 'last-letter': 'w', 'last2-letters': 'aw', 'last3-letters': 'law'},\n",
       "       {'first-letter': 'm', 'first2-letters': 'ma', 'first3-letters': 'mac', 'last-letter': 'e', 'last2-letters': 'ne', 'last3-letters': 'ine'},\n",
       "       {'first-letter': 'v', 'first2-letters': 've', 'first3-letters': 'ven', 'last-letter': 'y', 'last2-letters': 'hy', 'last3-letters': 'thy'},\n",
       "       {'first-letter': 'g', 'first2-letters': 'gr', 'first3-letters': 'gre', 'last-letter': 'r', 'last2-letters': 'er', 'last3-letters': 'ter'},\n",
       "       {'first-letter': 'd', 'first2-letters': 'du', 'first3-letters': 'dub', 'last-letter': 'i', 'last2-letters': 'ai', 'last3-letters': 'bai'},\n",
       "       {'first-letter': 'b', 'first2-letters': 'ba', 'first3-letters': 'bad', 'last-letter': 'i', 'last2-letters': 'di', 'last3-letters': 'ddi'},\n",
       "       {'first-letter': 'j', 'first2-letters': 'ja', 'first3-letters': 'jan', 'last-letter': 'y', 'last2-letters': 'ry', 'last3-letters': 'ary'},\n",
       "       {'first-letter': 'm', 'first2-letters': 'mo', 'first3-letters': 'mod', 'last-letter': 'n', 'last2-letters': 'rn', 'last3-letters': 'ern'},\n",
       "       {'first-letter': 's', 'first2-letters': 'sa', 'first3-letters': 'sah', 'last-letter': 'r', 'last2-letters': 'ar', 'last3-letters': 'kar'},\n",
       "       {'first-letter': 'k', 'first2-letters': 'ko', 'first3-letters': 'kol', 'last-letter': 'm', 'last2-letters': 'am', 'last3-letters': 'lam'},\n",
       "       {'first-letter': 'g', 'first2-letters': 'gl', 'first3-letters': 'glo', 'last-letter': 'l', 'last2-letters': 'al', 'last3-letters': 'bal'},\n",
       "       {'first-letter': 'a', 'first2-letters': 'an', 'first3-letters': 'ann', 'last-letter': 'a', 'last2-letters': 'ya', 'last3-letters': 'rya'},\n",
       "       {'first-letter': 't', 'first2-letters': 'ta', 'first3-letters': 'tam', 'last-letter': 'u', 'last2-letters': 'du', 'last3-letters': 'adu'},\n",
       "       {'first-letter': 'p', 'first2-letters': 'pa', 'first3-letters': 'paa', 'last-letter': 'i', 'last2-letters': 'ai', 'last3-letters': 'vai'},\n",
       "       {'first-letter': 'p', 'first2-letters': 'pr', 'first3-letters': 'pra', 'last-letter': 'k', 'last2-letters': 'ak', 'last3-letters': 'rak'},\n",
       "       {'first-letter': 'p', 'first2-letters': 'pa', 'first3-letters': 'par', 'last-letter': 'i', 'last2-letters': 'di', 'last3-letters': 'udi'},\n",
       "       {'first-letter': 'd', 'first2-letters': 'da', 'first3-letters': 'dav', 'last-letter': 'v', 'last2-letters': 'av', 'last3-letters': 'dav'},\n",
       "       {'first-letter': 'i', 'first2-letters': 'ic', 'first3-letters': 'icf', 'last-letter': 'i', 'last2-letters': 'ai', 'last3-letters': 'fai'},\n",
       "       {'first-letter': 's', 'first2-letters': 'sh', 'first3-letters': 'shi', 'last-letter': 'g', 'last2-letters': 'ng', 'last3-letters': 'ong'},\n",
       "       {'first-letter': 'h', 'first2-letters': 'hi', 'first3-letters': 'hil', 'last-letter': 'l', 'last2-letters': 'll', 'last3-letters': 'ill'},\n",
       "       {'first-letter': 'n', 'first2-letters': 'ni', 'first3-letters': 'nil', 'last-letter': 'i', 'last2-letters': 'ri', 'last3-letters': 'iri'},\n",
       "       {'first-letter': 'c', 'first2-letters': 'cu', 'first3-letters': 'cud', 'last-letter': 'e', 'last2-letters': 're', 'last3-letters': 'ore'},\n",
       "       {'first-letter': 't', 'first2-letters': 'tu', 'first3-letters': 'tum', 'last-letter': 'u', 'last2-letters': 'ru', 'last3-letters': 'uru'},\n",
       "       {'first-letter': 'h', 'first2-letters': 'hi', 'first3-letters': 'hin', 'last-letter': 'u', 'last2-letters': 'du', 'last3-letters': 'ndu'},\n",
       "       {'first-letter': 's', 'first2-letters': 'so', 'first3-letters': 'sol', 'last-letter': 'n', 'last2-letters': 'an', 'last3-letters': 'lan'},\n",
       "       {'first-letter': 'f', 'first2-letters': 'fe', 'first3-letters': 'fel', 'last-letter': 'p', 'last2-letters': 'ip', 'last3-letters': 'hip'},\n",
       "       {'first-letter': 'h', 'first2-letters': 'ha', 'first3-letters': 'har', 'last-letter': 't', 'last2-letters': 'st', 'last3-letters': 'est'},\n",
       "       {'first-letter': 'b', 'first2-letters': 'bh', 'first3-letters': 'bha', 'last-letter': 't', 'last2-letters': 'at', 'last3-letters': 'rat'},\n",
       "       {'first-letter': 'a', 'first2-letters': 'au', 'first3-letters': 'aug', 'last-letter': 't', 'last2-letters': 'st', 'last3-letters': 'ust'},\n",
       "       {'first-letter': 'p', 'first2-letters': 'pa', 'first3-letters': 'pat', 'last-letter': 'a', 'last2-letters': 'na', 'last3-letters': 'tna'},\n",
       "       {'first-letter': 'l', 'first2-letters': 'le', 'first3-letters': 'lea', 'last-letter': 'd', 'last2-letters': 'ad', 'last3-letters': 'ead'},\n",
       "       {'first-letter': 'v', 'first2-letters': 'vi', 'first3-letters': 'vid', 'last-letter': 'm', 'last2-letters': 'am', 'last3-letters': 'ham'},\n",
       "       {'first-letter': 'g', 'first2-letters': 'gu', 'first3-letters': 'gur', 'last-letter': 'a', 'last2-letters': 'ia', 'last3-letters': 'ria'},\n",
       "       {'first-letter': 'k', 'first2-letters': 'ka', 'first3-letters': 'kan', 'last-letter': 'm', 'last2-letters': 'am', 'last3-letters': 'ram'},\n",
       "       {'first-letter': 't', 'first2-letters': 'th', 'first3-letters': 'the', 'last-letter': 'r', 'last2-letters': 'ir', 'last3-letters': 'eir'},\n",
       "       {'first-letter': 'r', 'first2-letters': 'ra', 'first3-letters': 'ram', 'last-letter': 'r', 'last2-letters': 'ar', 'last3-letters': 'har'},\n",
       "       {'first-letter': 'c', 'first2-letters': 'ch', 'first3-letters': 'che', 'last-letter': 'n', 'last2-letters': 'an', 'last3-letters': 'ran'},\n",
       "       {'first-letter': 's', 'first2-letters': 'sc', 'first3-letters': 'sch', 'last-letter': 'k', 'last2-letters': 'nk', 'last3-letters': 'enk'},\n",
       "       {'first-letter': 't', 'first2-letters': 'th', 'first3-letters': 'thi', 'last-letter': 'r', 'last2-letters': 'ur', 'last3-letters': 'rur'},\n",
       "       {'first-letter': 'l', 'first2-letters': 'li', 'first3-letters': 'lib', 'last-letter': 'n', 'last2-letters': 'an', 'last3-letters': 'ian'},\n",
       "       {'first-letter': 'k', 'first2-letters': 'ka', 'first3-letters': 'kay', 'last-letter': 'm', 'last2-letters': 'am', 'last3-letters': 'lam'},\n",
       "       {'first-letter': 'g', 'first2-letters': 'go', 'first3-letters': 'gop', 'last-letter': 'n', 'last2-letters': 'an', 'last3-letters': 'han'},\n",
       "       {'first-letter': 'l', 'first2-letters': 'la', 'first3-letters': 'lal', 'last-letter': 'l', 'last2-letters': 'al', 'last3-letters': 'lal'},\n",
       "       {'first-letter': 'a', 'first2-letters': 'ad', 'first3-letters': 'ada', 'last-letter': 's', 'last2-letters': 'as', 'last3-letters': 'mas'},\n",
       "       {'first-letter': 'm', 'first2-letters': 'ma', 'first3-letters': 'mar', 'last-letter': 'e', 'last2-letters': 'ne', 'last3-letters': 'ine'},\n",
       "       {'first-letter': 'r', 'first2-letters': 'ro', 'first3-letters': 'roo', 'last-letter': 'e', 'last2-letters': 'ee', 'last3-letters': 'kee'},\n",
       "       {'first-letter': 'v', 'first2-letters': 'vi', 'first3-letters': 'vid', 'last-letter': 'a', 'last2-letters': 'ya', 'last3-letters': 'dya'},\n",
       "       {'first-letter': 'l', 'first2-letters': 'lu', 'first3-letters': 'lud', 'last-letter': 'a', 'last2-letters': 'na', 'last3-letters': 'ana'},\n",
       "       {'first-letter': 'k', 'first2-letters': 'kh', 'first3-letters': 'kha', 'last-letter': 'a', 'last2-letters': 'sa', 'last3-letters': 'lsa'},\n",
       "       {'first-letter': 'p', 'first2-letters': 'pa', 'first3-letters': 'pas', 'last-letter': 'n', 'last2-letters': 'on', 'last3-letters': 'ion'},\n",
       "       {'first-letter': 'i', 'first2-letters': 'in', 'first3-letters': 'ind', 'last-letter': 'a', 'last2-letters': 'ia', 'last3-letters': 'dia'},\n",
       "       {'first-letter': 'p', 'first2-letters': 'po', 'first3-letters': 'pod', 'last-letter': 'r', 'last2-letters': 'ar', 'last3-letters': 'dar'},\n",
       "       {'first-letter': 'l', 'first2-letters': 'le', 'first3-letters': 'leo', 'last-letter': 'o', 'last2-letters': 'eo', 'last3-letters': 'leo'},\n",
       "       {'first-letter': 's', 'first2-letters': 'sa', 'first3-letters': 'sau', 'last-letter': 'a', 'last2-letters': 'ra', 'last3-letters': 'tra'},\n",
       "       {'first-letter': 'v', 'first2-letters': 'va', 'first3-letters': 'vas', 'last-letter': 'i', 'last2-letters': 'vi', 'last3-letters': 'avi'},\n",
       "       {'first-letter': 't', 'first2-letters': 'tr', 'first3-letters': 'tri', 'last-letter': 'e', 'last2-letters': 'ne', 'last3-letters': 'une'},\n",
       "       {'first-letter': 'a', 'first2-letters': 'av', 'first3-letters': 'avi', 'last-letter': 'm', 'last2-letters': 'am', 'last3-letters': 'gam'},\n",
       "       {'first-letter': 's', 'first2-letters': 'sa', 'first3-letters': 'sag', 'last-letter': 'a', 'last2-letters': 'la', 'last3-letters': 'ala'},\n",
       "       {'first-letter': 'v', 'first2-letters': 'vi', 'first3-letters': 'vis', 'last-letter': 'a', 'last2-letters': 'ya', 'last3-letters': 'aya'},\n",
       "       {'first-letter': 'j', 'first2-letters': 'ja', 'first3-letters': 'jan', 'last-letter': 'i', 'last2-letters': 'ki', 'last3-letters': 'nki'},\n",
       "       {'first-letter': 'b', 'first2-letters': 'be', 'first3-letters': 'bel', 'last-letter': 'i', 'last2-letters': 'vi', 'last3-letters': 'avi'},\n",
       "       {'first-letter': 'b', 'first2-letters': 'ba', 'first3-letters': 'bat', 'last-letter': 'a', 'last2-letters': 'da', 'last3-letters': 'nda'},\n",
       "       {'first-letter': 't', 'first2-letters': 'th', 'first3-letters': 'the', 'last-letter': 'n', 'last2-letters': 'en', 'last3-letters': 'hen'},\n",
       "       {'first-letter': 'm', 'first2-letters': 'ma', 'first3-letters': 'man', 'last-letter': 'i', 'last2-letters': 'di', 'last3-letters': 'ndi'},\n",
       "       {'first-letter': 'a', 'first2-letters': 'ap', 'first3-letters': 'apo', 'last-letter': 'o', 'last2-letters': 'lo', 'last3-letters': 'llo'},\n",
       "       {'first-letter': 'b', 'first2-letters': 'bo', 'first3-letters': 'bog', 'last-letter': 'r', 'last2-letters': 'ar', 'last3-letters': 'har'},\n",
       "       {'first-letter': 'p', 'first2-letters': 'pr', 'first3-letters': 'pre', 'last-letter': 'a', 'last2-letters': 'na', 'last3-letters': 'rna'},\n",
       "       {'first-letter': 'm', 'first2-letters': 'ma', 'first3-letters': 'mad', 'last-letter': 's', 'last2-letters': 'as', 'last3-letters': 'ras'},\n",
       "       {'first-letter': 'g', 'first2-letters': 'ga', 'first3-letters': 'gan', 'last-letter': 'n', 'last2-letters': 'an', 'last3-letters': 'san'},\n",
       "       {'first-letter': 'd', 'first2-letters': 'di', 'first3-letters': 'din', 'last-letter': 'i', 'last2-letters': 'hi', 'last3-letters': 'thi'},\n",
       "       {'first-letter': 'p', 'first2-letters': 'pe', 'first3-letters': 'pet', 'last-letter': 'm', 'last2-letters': 'um', 'last3-letters': 'eum'},\n",
       "       {'first-letter': 'b', 'first2-letters': 'bo', 'first3-letters': 'bod', 'last-letter': 'y', 'last2-letters': 'dy', 'last3-letters': 'ody'},\n",
       "       {'first-letter': 'i', 'first2-letters': 'in', 'first3-letters': 'ins', 'last-letter': 's', 'last2-letters': 'ns', 'last3-letters': 'ons'},\n",
       "       {'first-letter': 'r', 'first2-letters': 'ra', 'first3-letters': 'raj', 'last-letter': 'i', 'last2-letters': 'ni', 'last3-letters': 'ani'},\n",
       "       {'first-letter': 't', 'first2-letters': 'tr', 'first3-letters': 'tri', 'last-letter': 'm', 'last2-letters': 'um', 'last3-letters': 'rum'},\n",
       "       {'first-letter': 'o', 'first2-letters': 'of', 'first3-letters': 'off', 'last-letter': 'e', 'last2-letters': 'ce', 'last3-letters': 'ice'},\n",
       "       {'first-letter': 'b', 'first2-letters': 'be', 'first3-letters': 'bes', 'last-letter': 't', 'last2-letters': 'st', 'last3-letters': 'est'},\n",
       "       {'first-letter': 'm', 'first2-letters': 'ma', 'first3-letters': 'mad', 'last-letter': 'e', 'last2-letters': 'le', 'last3-letters': 'lle'},\n",
       "       {'first-letter': 'a', 'first2-letters': 'aj', 'first3-letters': 'ajm', 'last-letter': 'r', 'last2-letters': 'er', 'last3-letters': 'mer'},\n",
       "       {'first-letter': 's', 'first2-letters': 'sa', 'first3-letters': 'sar', 'last-letter': 'a', 'last2-letters': 'la', 'last3-letters': 'ala'},\n",
       "       {'first-letter': 'm', 'first2-letters': 'ma', 'first3-letters': 'mad', 'last-letter': 'a', 'last2-letters': 'ya', 'last3-letters': 'hya'},\n",
       "       {'first-letter': 'l', 'first2-letters': 'lo', 'first3-letters': 'lou', 'last-letter': 's', 'last2-letters': 'es', 'last3-letters': 'des'},\n",
       "       {'first-letter': 'e', 'first2-letters': 'ex', 'first3-letters': 'exc', 'last-letter': 'e', 'last2-letters': 'ce', 'last3-letters': 'nce'},\n",
       "       {'first-letter': 's', 'first2-letters': 'sr', 'first3-letters': 'sri', 'last-letter': 'i', 'last2-letters': 'ri', 'last3-letters': 'sri'},\n",
       "       {'first-letter': 'j', 'first2-letters': 'ja', 'first3-letters': 'jal', 'last-letter': 'r', 'last2-letters': 'ar', 'last3-letters': 'har'},\n",
       "       {'first-letter': 'k', 'first2-letters': 'ka', 'first3-letters': 'kar', 'last-letter': 'a', 'last2-letters': 'ka', 'last3-letters': 'aka'},\n",
       "       {'first-letter': 'j', 'first2-letters': 'ji', 'first3-letters': 'jis', 'last-letter': 's', 'last2-letters': 'is', 'last3-letters': 'jis'},\n",
       "       {'first-letter': 's', 'first2-letters': 'sh', 'first3-letters': 'shi', 'last-letter': 'a', 'last2-letters': 'la', 'last3-letters': 'mla'},\n",
       "       {'first-letter': 'v', 'first2-letters': 'vi', 'first3-letters': 'vij', 'last-letter': 'a', 'last2-letters': 'da', 'last3-letters': 'ada'},\n",
       "       {'first-letter': 'v', 'first2-letters': 'vi', 'first3-letters': 'vil', 'last-letter': 'r', 'last2-letters': 'ur', 'last3-letters': 'nur'},\n",
       "       {'first-letter': 'b', 'first2-letters': 'bi', 'first3-letters': 'bit', 'last-letter': 's', 'last2-letters': 'ts', 'last3-letters': 'its'},\n",
       "       {'first-letter': 'k', 'first2-letters': 'ka', 'first3-letters': 'kad', 'last-letter': 'a', 'last2-letters': 'pa', 'last3-letters': 'apa'},\n",
       "       {'first-letter': 'l', 'first2-letters': 'le', 'first3-letters': 'leg', 'last-letter': 'l', 'last2-letters': 'al', 'last3-letters': 'gal'},\n",
       "       {'first-letter': 'd', 'first2-letters': 'de', 'first3-letters': 'dee', 'last-letter': 'p', 'last2-letters': 'ep', 'last3-letters': 'eep'},\n",
       "       {'first-letter': 'i', 'first2-letters': 'in', 'first3-letters': 'inf', 'last-letter': 'n', 'last2-letters': 'on', 'last3-letters': 'ion'},\n",
       "       {'first-letter': 'k', 'first2-letters': 'kr', 'first3-letters': 'kri', 'last-letter': 'y', 'last2-letters': 'my', 'last3-letters': 'amy'},\n",
       "       {'first-letter': 'k', 'first2-letters': 'ku', 'first3-letters': 'kur', 'last-letter': 'l', 'last2-letters': 'ol', 'last3-letters': 'ool'},\n",
       "       {'first-letter': 's', 'first2-letters': 'sr', 'first3-letters': 'sri', 'last-letter': 'n', 'last2-letters': 'an', 'last3-letters': 'san'},\n",
       "       {'first-letter': 'g', 'first2-letters': 'go', 'first3-letters': 'goe', 'last-letter': 'a', 'last2-letters': 'ka', 'last3-letters': 'nka'},\n",
       "       {'first-letter': 's', 'first2-letters': 'sa', 'first3-letters': 'sar', 'last-letter': 'i', 'last2-letters': 'hi', 'last3-letters': 'thi'},\n",
       "       {'first-letter': 'm', 'first2-letters': 'ma', 'first3-letters': 'mar', 'last-letter': 'd', 'last2-letters': 'ld', 'last3-letters': 'old'},\n",
       "       {'first-letter': 'c', 'first2-letters': 'ca', 'first3-letters': 'cal', 'last-letter': 'x', 'last2-letters': 'rx', 'last3-letters': 'orx'},\n",
       "       {'first-letter': 'o', 'first2-letters': 'or', 'first3-letters': 'orc', 'last-letter': 'd', 'last2-letters': 'id', 'last3-letters': 'hid'},\n",
       "       {'first-letter': 'c', 'first2-letters': 'ch', 'first3-letters': 'che', 'last-letter': 'i', 'last2-letters': 'ai', 'last3-letters': 'nai'},\n",
       "       {'first-letter': 't', 'first2-letters': 'th', 'first3-letters': 'the', 'last-letter': 'e', 'last2-letters': 'he', 'last3-letters': 'the'},\n",
       "       {'first-letter': 'a', 'first2-letters': 'ay', 'first3-letters': 'ayi', 'last-letter': 'a', 'last2-letters': 'ra', 'last3-letters': 'ira'},\n",
       "       {'first-letter': 'a', 'first2-letters': 'an', 'first3-letters': 'ann', 'last-letter': 'i', 'last2-letters': 'ai', 'last3-letters': 'lai'},\n",
       "       {'first-letter': 'e', 'first2-letters': 'ec', 'first3-letters': 'ece', 'last-letter': 'e', 'last2-letters': 'ce', 'last3-letters': 'ece'},\n",
       "       {'first-letter': 'i', 'first2-letters': 'in', 'first3-letters': 'ind', 'last-letter': 't', 'last2-letters': 'nt', 'last3-letters': 'ent'},\n",
       "       {'first-letter': 'j', 'first2-letters': 'ja', 'first3-letters': 'jay', 'last-letter': 'a', 'last2-letters': 'aa', 'last3-letters': 'haa'},\n",
       "       {'first-letter': 'a', 'first2-letters': 'an', 'first3-letters': 'ann', 'last-letter': 'a', 'last2-letters': 'na', 'last3-letters': 'nna'},\n",
       "       {'first-letter': 'c', 'first2-letters': 'cb', 'first3-letters': 'cbs', 'last-letter': 'e', 'last2-letters': 'se', 'last3-letters': 'bse'},\n",
       "       {'first-letter': 'p', 'first2-letters': 'pa', 'first3-letters': 'pat', 'last-letter': 'a', 'last2-letters': 'ta', 'last3-letters': 'tta'},\n",
       "       {'first-letter': 'l', 'first2-letters': 'la', 'first3-letters': 'lad', 'last-letter': 'y', 'last2-letters': 'dy', 'last3-letters': 'ady'},\n",
       "       {'first-letter': 'g', 'first2-letters': 'ge', 'first3-letters': 'gee', 'last-letter': 'a', 'last2-letters': 'ta', 'last3-letters': 'eta'},\n",
       "       {'first-letter': 'e', 'first2-letters': 'es', 'first3-letters': 'esw', 'last-letter': 'r', 'last2-letters': 'ar', 'last3-letters': 'war'},\n",
       "       {'first-letter': 'j', 'first2-letters': 'jy', 'first3-letters': 'jyo', 'last-letter': 'i', 'last2-letters': 'hi', 'last3-letters': 'thi'},\n",
       "       {'first-letter': 'n', 'first2-letters': 'na', 'first3-letters': 'nat', 'last-letter': 's', 'last2-letters': 'ls', 'last3-letters': 'als'},\n",
       "       {'first-letter': 'p', 'first2-letters': 'pa', 'first3-letters': 'pay', 'last-letter': 'y', 'last2-letters': 'ay', 'last3-letters': 'pay'},\n",
       "       {'first-letter': 's', 'first2-letters': 'sa', 'first3-letters': 'sam', 'last-letter': 'i', 'last2-letters': 'ti', 'last3-letters': 'uti'},\n",
       "       {'first-letter': 'a', 'first2-letters': 'am', 'first3-letters': 'amm', 'last-letter': 'n', 'last2-letters': 'an', 'last3-letters': 'man'},\n",
       "       {'first-letter': 's', 'first2-letters': 'si', 'first3-letters': 'sir', 'last-letter': 'r', 'last2-letters': 'ur', 'last3-letters': 'aur'},\n",
       "       {'first-letter': 't', 'first2-letters': 'tg', 'first3-letters': 'tgt', 'last-letter': 't', 'last2-letters': 'gt', 'last3-letters': 'tgt'},\n",
       "       {'first-letter': 'j', 'first2-letters': 'jb', 'first3-letters': 'jb', 'last-letter': 'b', 'last2-letters': 'jb', 'last3-letters': 'jb'},\n",
       "       {'first-letter': 'u', 'first2-letters': 'ut', 'first3-letters': 'utt', 'last-letter': 'r', 'last2-letters': 'ar', 'last3-letters': 'tar'},\n",
       "       {'first-letter': 'k', 'first2-letters': 'ke', 'first3-letters': 'ker', 'last-letter': 'a', 'last2-letters': 'la', 'last3-letters': 'ala'},\n",
       "       {'first-letter': 's', 'first2-letters': 'sa', 'first3-letters': 'sav', 'last-letter': 'i', 'last2-letters': 'ai', 'last3-letters': 'bai'},\n",
       "       {'first-letter': 't', 'first2-letters': 'ti', 'first3-letters': 'tir', 'last-letter': 'i', 'last2-letters': 'ti', 'last3-letters': 'ati'},\n",
       "       {'first-letter': 'b', 'first2-letters': 'ba', 'first3-letters': 'bap', 'last-letter': 'i', 'last2-letters': 'ji', 'last3-letters': 'uji'},\n",
       "       {'first-letter': 'r', 'first2-letters': 'ra', 'first3-letters': 'ram', 'last-letter': 'u', 'last2-letters': 'mu', 'last3-letters': 'amu'},\n",
       "       {'first-letter': 'a', 'first2-letters': 'am', 'first3-letters': 'amb', 'last-letter': 'a', 'last2-letters': 'ga', 'last3-letters': 'iga'},\n",
       "       {'first-letter': 'l', 'first2-letters': 'le', 'first3-letters': 'lec', 'last-letter': 'r', 'last2-letters': 'er', 'last3-letters': 'rer'},\n",
       "       {'first-letter': 's', 'first2-letters': 'sc', 'first3-letters': 'scm', 'last-letter': 's', 'last2-letters': 'ms', 'last3-letters': 'cms'},\n",
       "       {'first-letter': 'a', 'first2-letters': 'as', 'first3-letters': 'as', 'last-letter': 's', 'last2-letters': 'as', 'last3-letters': 'as'},\n",
       "       {'first-letter': 'g', 'first2-letters': 'gu', 'first3-letters': 'gur', 'last-letter': 'u', 'last2-letters': 'ru', 'last3-letters': 'uru'},\n",
       "       {'first-letter': 'v', 'first2-letters': 'vi', 'first3-letters': 'vis', 'last-letter': 'l', 'last2-letters': 'al', 'last3-letters': 'hal'},\n",
       "       {'first-letter': 'b', 'first2-letters': 'ba', 'first3-letters': 'bal', 'last-letter': 'a', 'last2-letters': 'na', 'last3-letters': 'hna'},\n",
       "       {'first-letter': 'm', 'first2-letters': 'ma', 'first3-letters': 'man', 'last-letter': 'r', 'last2-letters': 'ur', 'last3-letters': 'pur'},\n",
       "       {'first-letter': 'a', 'first2-letters': 'au', 'first3-letters': 'aur', 'last-letter': 'd', 'last2-letters': 'ad', 'last3-letters': 'bad'},\n",
       "       {'first-letter': 'm', 'first2-letters': 'me', 'first3-letters': 'mer', 'last-letter': 'i', 'last2-letters': 'ri', 'last3-letters': 'eri'},\n",
       "       {'first-letter': 'k', 'first2-letters': 'ku', 'first3-letters': 'kum', 'last-letter': 'r', 'last2-letters': 'ar', 'last3-letters': 'mar'},\n",
       "       {'first-letter': 't', 'first2-letters': 'th', 'first3-letters': 'thi', 'last-letter': 'm', 'last2-letters': 'um', 'last3-letters': 'ium'},\n",
       "       {'first-letter': 'v', 'first2-letters': 'vi', 'first3-letters': 'vig', 'last-letter': 'a', 'last2-letters': 'na', 'last3-letters': 'ana'},\n",
       "       {'first-letter': 'b', 'first2-letters': 'ba', 'first3-letters': 'ban', 'last-letter': 'g', 'last2-letters': 'ng', 'last3-letters': 'ing'},\n",
       "       {'first-letter': 'd', 'first2-letters': 'dh', 'first3-letters': 'dha', 'last-letter': 'i', 'last2-letters': 'mi', 'last3-letters': 'hmi'},\n",
       "       {'first-letter': 'v', 'first2-letters': 'vi', 'first3-letters': 'vid', 'last-letter': 'a', 'last2-letters': 'ka', 'last3-letters': 'aka'},\n",
       "       {'first-letter': 'a', 'first2-letters': 'al', 'first3-letters': 'ala', 'last-letter': 'r', 'last2-letters': 'ar', 'last3-letters': 'gar'},\n",
       "       {'first-letter': 'a', 'first2-letters': 'as', 'first3-letters': 'ass', 'last-letter': 't', 'last2-letters': 'nt', 'last3-letters': 'ant'},\n",
       "       {'first-letter': 'v', 'first2-letters': 'vi', 'first3-letters': 'vis', 'last-letter': 'a', 'last2-letters': 'ya', 'last3-letters': 'aya'},\n",
       "       {'first-letter': 'i', 'first2-letters': 'in', 'first3-letters': 'ins', 'last-letter': 'e', 'last2-letters': 'te', 'last3-letters': 'ute'},\n",
       "       {'first-letter': 's', 'first2-letters': 'sa', 'first3-letters': 'sar', 'last-letter': 'a', 'last2-letters': 'ha', 'last3-letters': 'dha'},\n",
       "       {'first-letter': 'n', 'first2-letters': 'na', 'first3-letters': 'nai', 'last-letter': 'l', 'last2-letters': 'al', 'last3-letters': 'tal'},\n",
       "       {'first-letter': 'r', 'first2-letters': 'ra', 'first3-letters': 'rac', 'last-letter': 'a', 'last2-letters': 'na', 'last3-letters': 'hna'},\n",
       "       {'first-letter': 'w', 'first2-letters': 'we', 'first3-letters': 'wel', 'last-letter': 'm', 'last2-letters': 'am', 'last3-letters': 'ham'},\n",
       "       {'first-letter': 'u', 'first2-letters': 'uk', 'first3-letters': 'uka', 'last-letter': 'a', 'last2-letters': 'ka', 'last3-letters': 'uka'},\n",
       "       {'first-letter': 't', 'first2-letters': 'to', 'first3-letters': 'to', 'last-letter': 'o', 'last2-letters': 'to', 'last3-letters': 'to'},\n",
       "       {'first-letter': 'n', 'first2-letters': 'no', 'first3-letters': 'non', 'last-letter': 'n', 'last2-letters': 'on', 'last3-letters': 'non'},\n",
       "       {'first-letter': 'g', 'first2-letters': 'ga', 'first3-letters': 'gan', 'last-letter': 'i', 'last2-letters': 'hi', 'last3-letters': 'dhi'},\n",
       "       {'first-letter': 'l', 'first2-letters': 'lo', 'first3-letters': 'lok', 'last-letter': 'a', 'last2-letters': 'ta', 'last3-letters': 'tta'},\n",
       "       {'first-letter': 't', 'first2-letters': 'ti', 'first3-letters': 'til', 'last-letter': 'k', 'last2-letters': 'ak', 'last3-letters': 'lak'},\n",
       "       {'first-letter': 'e', 'first2-letters': 'ed', 'first3-letters': 'edi', 'last-letter': 'n', 'last2-letters': 'on', 'last3-letters': 'ion'},\n",
       "       {'first-letter': 'g', 'first2-letters': 'go', 'first3-letters': 'gor', 'last-letter': 'r', 'last2-letters': 'ur', 'last3-letters': 'pur'},\n",
       "       {'first-letter': 'n', 'first2-letters': 'na', 'first3-letters': 'nag', 'last-letter': 'n', 'last2-letters': 'on', 'last3-letters': 'aon'},\n",
       "       {'first-letter': 'i', 'first2-letters': 'in', 'first3-letters': 'int', 'last-letter': 'l', 'last2-letters': 'al', 'last3-letters': 'nal'},\n",
       "       {'first-letter': 'd', 'first2-letters': 'da', 'first3-letters': 'dat', 'last-letter': 'a', 'last2-letters': 'ha', 'last3-letters': 'tha'},\n",
       "       {'first-letter': 'p', 'first2-letters': 'pr', 'first3-letters': 'pra', 'last-letter': 'a', 'last2-letters': 'ha', 'last3-letters': 'sha'},\n",
       "       {'first-letter': 'w', 'first2-letters': 'we', 'first3-letters': 'wee', 'last-letter': 's', 'last2-letters': 'ks', 'last3-letters': 'eks'},\n",
       "       {'first-letter': 'd', 'first2-letters': 'di', 'first3-letters': 'din', 'last-letter': 'l', 'last2-letters': 'ul', 'last3-letters': 'gul'},\n",
       "       {'first-letter': 'b', 'first2-letters': 'be', 'first3-letters': 'bel', 'last-letter': 'w', 'last2-letters': 'ow', 'last3-letters': 'low'},\n",
       "       {'first-letter': 'v', 'first2-letters': 've', 'first3-letters': 'ven', 'last-letter': 'a', 'last2-letters': 'ra', 'last3-letters': 'ara'},\n",
       "       {'first-letter': 'm', 'first2-letters': 'mu', 'first3-letters': 'mus', 'last-letter': 'm', 'last2-letters': 'im', 'last3-letters': 'lim'},\n",
       "       {'first-letter': 'd', 'first2-letters': 'de', 'first3-letters': 'den', 'last-letter': 'l', 'last2-letters': 'al', 'last3-letters': 'tal'},\n",
       "       {'first-letter': 'k', 'first2-letters': 'ko', 'first3-letters': 'kol', 'last-letter': 'a', 'last2-letters': 'ta', 'last3-letters': 'ata'},\n",
       "       {'first-letter': 'a', 'first2-letters': 'ad', 'first3-letters': 'add', 'last-letter': 's', 'last2-letters': 'ss', 'last3-letters': 'ess'},\n",
       "       {'first-letter': 'r', 'first2-letters': 'ra', 'first3-letters': 'raj', 'last-letter': 'y', 'last2-letters': 'ry', 'last3-letters': 'dry'},\n",
       "       {'first-letter': 'h', 'first2-letters': 'he', 'first3-letters': 'hea', 'last-letter': 'd', 'last2-letters': 'ad', 'last3-letters': 'ead'},\n",
       "       {'first-letter': 'p', 'first2-letters': 'pr', 'first3-letters': 'pri', 'last-letter': 'i', 'last2-letters': 'ni', 'last3-letters': 'ini'},\n",
       "       {'first-letter': 'p', 'first2-letters': 'pe', 'first3-letters': 'per', 'last-letter': 's', 'last2-letters': 'ns', 'last3-letters': 'ons'},\n",
       "       {'first-letter': 'a', 'first2-letters': 'al', 'first3-letters': 'alw', 'last-letter': 'n', 'last2-letters': 'in', 'last3-letters': 'win'},\n",
       "       {'first-letter': 'a', 'first2-letters': 'ac', 'first3-letters': 'acr', 'last-letter': 's', 'last2-letters': 'ss', 'last3-letters': 'oss'},\n",
       "       {'first-letter': 'd', 'first2-letters': 'de', 'first3-letters': 'dec', 'last-letter': 'n', 'last2-letters': 'an', 'last3-letters': 'can'},\n",
       "       {'first-letter': 'h', 'first2-letters': 'hy', 'first3-letters': 'hyd', 'last-letter': 'd', 'last2-letters': 'ad', 'last3-letters': 'bad'},\n",
       "       {'first-letter': 'd', 'first2-letters': 'dr', 'first3-letters': 'dri', 'last-letter': 'r', 'last2-letters': 'er', 'last3-letters': 'ver'},\n",
       "       {'first-letter': 'b', 'first2-letters': 'ba', 'first3-letters': 'ban', 'last-letter': 'e', 'last2-letters': 're', 'last3-letters': 'ore'},\n",
       "       {'first-letter': 'e', 'first2-letters': 'ed', 'first3-letters': 'edu', 'last-letter': 'n', 'last2-letters': 'on', 'last3-letters': 'ion'},\n",
       "       {'first-letter': 'c', 'first2-letters': 'ch', 'first3-letters': 'che', 'last-letter': 'u', 'last2-letters': 'tu', 'last3-letters': 'ttu'},\n",
       "       {'first-letter': 'a', 'first2-letters': 'aj', 'first3-letters': 'ajk', 'last-letter': 'm', 'last2-letters': 'im', 'last3-letters': 'kim'},\n",
       "       {'first-letter': 'a', 'first2-letters': 'ag', 'first3-letters': 'agr', 'last-letter': 'a', 'last2-letters': 'ra', 'last3-letters': 'gra'},\n",
       "       {'first-letter': 's', 'first2-letters': 'sh', 'first3-letters': 'shr', 'last-letter': 'i', 'last2-letters': 'vi', 'last3-letters': 'evi'},\n",
       "       {'first-letter': 'e', 'first2-letters': 'em', 'first3-letters': 'ema', 'last-letter': 'l', 'last2-letters': 'il', 'last3-letters': 'ail'},\n",
       "       {'first-letter': 'm', 'first2-letters': 'ma', 'first3-letters': 'mah', 'last-letter': 'i', 'last2-letters': 'hi', 'last3-letters': 'shi'},\n",
       "       {'first-letter': 'u', 'first2-letters': 'un', 'first3-letters': 'uni', 'last-letter': 'y', 'last2-letters': 'ty', 'last3-letters': 'ity'},\n",
       "       {'first-letter': 'i', 'first2-letters': 'in', 'first3-letters': 'ins', 'last-letter': 'r', 'last2-letters': 'or', 'last3-letters': 'tor'},\n",
       "       {'first-letter': 'p', 'first2-letters': 'po', 'first3-letters': 'pos', 'last-letter': 't', 'last2-letters': 'st', 'last3-letters': 'ost'},\n",
       "       {'first-letter': 'x', 'first2-letters': 'xa', 'first3-letters': 'xav', 'last-letter': 'r', 'last2-letters': 'er', 'last3-letters': 'ier'},\n",
       "       {'first-letter': 'm', 'first2-letters': 'ma', 'first3-letters': 'mat', 'last-letter': 's', 'last2-letters': 'ls', 'last3-letters': 'als'},\n",
       "       {'first-letter': 's', 'first2-letters': 'sh', 'first3-letters': 'shr', 'last-letter': 'f', 'last2-letters': 'ff', 'last3-letters': 'off'},\n",
       "       {'first-letter': 's', 'first2-letters': 'su', 'first3-letters': 'sub', 'last-letter': 'i', 'last2-letters': 'ti', 'last3-letters': 'rti'},\n",
       "       {'first-letter': 'a', 'first2-letters': 'an', 'first3-letters': 'and', 'last-letter': 'l', 'last2-letters': 'al', 'last3-letters': 'dal'},\n",
       "       {'first-letter': 'b', 'first2-letters': 'br', 'first3-letters': 'bra', 'last-letter': 'e', 'last2-letters': 're', 'last3-letters': 'are'},\n",
       "       {'first-letter': 'n', 'first2-letters': 'na', 'first3-letters': 'nag', 'last-letter': 'r', 'last2-letters': 'ur', 'last3-letters': 'pur'},\n",
       "       {'first-letter': 'm', 'first2-letters': 'ma', 'first3-letters': 'man', 'last-letter': 'e', 'last2-letters': 're', 'last3-letters': 'ore'},\n",
       "       {'first-letter': 'g', 'first2-letters': 'go', 'first3-letters': 'gob', 'last-letter': 'h', 'last2-letters': 'rh', 'last3-letters': 'arh'},\n",
       "       {'first-letter': 'j', 'first2-letters': 'ja', 'first3-letters': 'jay', 'last-letter': 'i', 'last2-letters': 'hi', 'last3-letters': 'thi'},\n",
       "       {'first-letter': 'a', 'first2-letters': 'am', 'first3-letters': 'amr', 'last-letter': 'a', 'last2-letters': 'ta', 'last3-letters': 'ita'},\n",
       "       {'first-letter': 'a', 'first2-letters': 'an', 'first3-letters': 'ana', 'last-letter': 'u', 'last2-letters': 'mu', 'last3-letters': 'amu'},\n",
       "       {'first-letter': 'c', 'first2-letters': 'ch', 'first3-letters': 'chh', 'last-letter': 'h', 'last2-letters': 'rh', 'last3-letters': 'arh'},\n",
       "       {'first-letter': 'm', 'first2-letters': 'ma', 'first3-letters': 'mal', 'last-letter': 'a', 'last2-letters': 'la', 'last3-letters': 'lla'},\n",
       "       {'first-letter': 'd', 'first2-letters': 'de', 'first3-letters': 'deh', 'last-letter': 'n', 'last2-letters': 'un', 'last3-letters': 'dun'},\n",
       "       {'first-letter': 't', 'first2-letters': 'ta', 'first3-letters': 'tar', 'last-letter': 'a', 'last2-letters': 'ia', 'last3-letters': 'dia'},\n",
       "       {'first-letter': 'v', 'first2-letters': 'vi', 'first3-letters': 'vid', 'last-letter': 'h', 'last2-letters': 'th', 'last3-letters': 'eth'},\n",
       "       {'first-letter': 'b', 'first2-letters': 'bi', 'first3-letters': 'bio', 'last-letter': 'y', 'last2-letters': 'gy', 'last3-letters': 'ogy'},\n",
       "       {'first-letter': 'm', 'first2-letters': 'ma', 'first3-letters': 'man', 'last-letter': 'u', 'last2-letters': 'ru', 'last3-letters': 'uru'},\n",
       "       {'first-letter': 'b', 'first2-letters': 'bu', 'first3-letters': 'bul', 'last-letter': 'a', 'last2-letters': 'na', 'last3-letters': 'ana'},\n",
       "       {'first-letter': 'h', 'first2-letters': 'ha', 'first3-letters': 'hav', 'last-letter': 'i', 'last2-letters': 'li', 'last3-letters': 'eli'},\n",
       "       {'first-letter': 'p', 'first2-letters': 'pe', 'first3-letters': 'pet', 'last-letter': 'r', 'last2-letters': 'er', 'last3-letters': 'ter'},\n",
       "       {'first-letter': 'v', 'first2-letters': 'va', 'first3-letters': 'var', 'last-letter': 'n', 'last2-letters': 'an', 'last3-letters': 'man'},\n",
       "       {'first-letter': 'p', 'first2-letters': 'pr', 'first3-letters': 'pre', 'last-letter': 'y', 'last2-letters': 'cy', 'last3-letters': 'ncy'},\n",
       "       {'first-letter': 'j', 'first2-letters': 'jn', 'first3-letters': 'jna', 'last-letter': 's', 'last2-letters': 'as', 'last3-letters': 'kas'},\n",
       "       {'first-letter': 's', 'first2-letters': 'sa', 'first3-letters': 'sas', 'last-letter': 'a', 'last2-letters': 'ha', 'last3-letters': 'tha'},\n",
       "       {'first-letter': 'f', 'first2-letters': 'fe', 'first3-letters': 'fel', 'last-letter': 'w', 'last2-letters': 'ow', 'last3-letters': 'low'},\n",
       "       {'first-letter': 's', 'first2-letters': 'sh', 'first3-letters': 'shr', 'last-letter': 'e', 'last2-letters': 'ne', 'last3-letters': 'ine'},\n",
       "       {'first-letter': 'j', 'first2-letters': 'jh', 'first3-letters': 'jha', 'last-letter': 'd', 'last2-letters': 'nd', 'last3-letters': 'and'},\n",
       "       {'first-letter': 'k', 'first2-letters': 'ka', 'first3-letters': 'kal', 'last-letter': 'i', 'last2-letters': 'li', 'last3-letters': 'oli'},\n",
       "       {'first-letter': 'r', 'first2-letters': 'ra', 'first3-letters': 'ram', 'last-letter': 'i', 'last2-letters': 'vi', 'last3-letters': 'evi'},\n",
       "       {'first-letter': 'u', 'first2-letters': 'ut', 'first3-letters': 'utt', 'last-letter': 'd', 'last2-letters': 'nd', 'last3-letters': 'and'},\n",
       "       {'first-letter': 'o', 'first2-letters': 'om', 'first3-letters': 'omd', 'last-letter': 'l', 'last2-letters': 'al', 'last3-letters': 'yal'},\n",
       "       {'first-letter': 'u', 'first2-letters': 'un', 'first3-letters': 'uni', 'last-letter': 'l', 'last2-letters': 'al', 'last3-letters': 'sal'},\n",
       "       {'first-letter': 'f', 'first2-letters': 'fa', 'first3-letters': 'fac', 'last-letter': 'y', 'last2-letters': 'ty', 'last3-letters': 'lty'},\n",
       "       {'first-letter': 'n', 'first2-letters': 'ni', 'first3-letters': 'nis', 'last-letter': 'e', 'last2-letters': 'se', 'last3-letters': 'ise'},\n",
       "       {'first-letter': 's', 'first2-letters': 'su', 'first3-letters': 'sun', 'last-letter': 'i', 'last2-letters': 'ri', 'last3-letters': 'dri'},\n",
       "       {'first-letter': 'b', 'first2-letters': 'be', 'first3-letters': 'bea', 'last-letter': 's', 'last2-letters': 'ys', 'last3-letters': 'rys'},\n",
       "       {'first-letter': 'n', 'first2-letters': 'na', 'first3-letters': 'nan', 'last-letter': 'm', 'last2-letters': 'am', 'last3-letters': 'nam'},\n",
       "       {'first-letter': 'r', 'first2-letters': 'ra', 'first3-letters': 'raj', 'last-letter': 'j', 'last2-letters': 'aj', 'last3-letters': 'raj'},\n",
       "       {'first-letter': 't', 'first2-letters': 'te', 'first3-letters': 'tea', 'last-letter': 's', 'last2-letters': 'rs', 'last3-letters': 'ers'},\n",
       "       {'first-letter': 'p', 'first2-letters': 'pi', 'first3-letters': 'pil', 'last-letter': 'i', 'last2-letters': 'ni', 'last3-letters': 'ani'},\n",
       "       {'first-letter': 'e', 'first2-letters': 'ev', 'first3-letters': 'eve', 'last-letter': 'g', 'last2-letters': 'ng', 'last3-letters': 'ing'},\n",
       "       {'first-letter': 'b', 'first2-letters': 'bh', 'first3-letters': 'bha', 'last-letter': 'n', 'last2-letters': 'an', 'last3-letters': 'san'},\n",
       "       {'first-letter': 'h', 'first2-letters': 'hd', 'first3-letters': 'hdf', 'last-letter': 'c', 'last2-letters': 'fc', 'last3-letters': 'dfc'},\n",
       "       {'first-letter': 'k', 'first2-letters': 'ku', 'first3-letters': 'kum', 'last-letter': 'y', 'last2-letters': 'my', 'last3-letters': 'amy'},\n",
       "       {'first-letter': 'n', 'first2-letters': 'na', 'first3-letters': 'nat', 'last-letter': 'l', 'last2-letters': 'al', 'last3-letters': 'nal'},\n",
       "       {'first-letter': 'm', 'first2-letters': 'ma', 'first3-letters': 'man', 'last-letter': 'l', 'last2-letters': 'al', 'last3-letters': 'pal'},\n",
       "       {'first-letter': 'c', 'first2-letters': 'ch', 'first3-letters': 'cha', 'last-letter': 'e', 'last2-letters': 'le', 'last3-letters': 'ble'},\n",
       "       {'first-letter': 't', 'first2-letters': 'th', 'first3-letters': 'tho', 'last-letter': 's', 'last2-letters': 'as', 'last3-letters': 'mas'},\n",
       "       {'first-letter': 's', 'first2-letters': 'sa', 'first3-letters': 'san', 'last-letter': 'd', 'last2-letters': 'nd', 'last3-letters': 'and'},\n",
       "       {'first-letter': 's', 'first2-letters': 'sa', 'first3-letters': 'sat', 'last-letter': 'a', 'last2-letters': 'ma', 'last3-letters': 'ama'},\n",
       "       {'first-letter': 'p', 'first2-letters': 'pe', 'first3-letters': 'per', 'last-letter': 'r', 'last2-letters': 'er', 'last3-letters': 'per'},\n",
       "       {'first-letter': 'p', 'first2-letters': 'pr', 'first3-letters': 'pri', 'last-letter': 't', 'last2-letters': 'st', 'last3-letters': 'ist'},\n",
       "       {'first-letter': 'b', 'first2-letters': 'bh', 'first3-letters': 'bha', 'last-letter': 'g', 'last2-letters': 'ag', 'last3-letters': 'hag'},\n",
       "       {'first-letter': 'n', 'first2-letters': 'no', 'first3-letters': 'now', 'last-letter': 'w', 'last2-letters': 'ow', 'last3-letters': 'now'},\n",
       "       {'first-letter': 'a', 'first2-letters': 'am', 'first3-letters': 'amb', 'last-letter': 'l', 'last2-letters': 'al', 'last3-letters': 'bal'},\n",
       "       {'first-letter': 'k', 'first2-letters': 'ko', 'first3-letters': 'kor', 'last-letter': 't', 'last2-letters': 'ut', 'last3-letters': 'put'},\n",
       "       {'first-letter': 'c', 'first2-letters': 'ca', 'first3-letters': 'cal', 'last-letter': 't', 'last2-letters': 'ut', 'last3-letters': 'cut'},\n",
       "       {'first-letter': 'm', 'first2-letters': 'ma', 'first3-letters': 'mad', 'last-letter': 'a', 'last2-letters': 'ha', 'last3-letters': 'dha'},\n",
       "       {'first-letter': 'w', 'first2-letters': 'wh', 'first3-letters': 'who', 'last-letter': 'o', 'last2-letters': 'ho', 'last3-letters': 'who'},\n",
       "       {'first-letter': 'm', 'first2-letters': 'mo', 'first3-letters': 'mon', 'last-letter': 'i', 'last2-letters': 'ri', 'last3-letters': 'ori'},\n",
       "       {'first-letter': 'h', 'first2-letters': 'hi', 'first3-letters': 'hit', 'last-letter': 'a', 'last2-letters': 'da', 'last3-letters': 'ada'},\n",
       "       {'first-letter': 't', 'first2-letters': 'th', 'first3-letters': 'tha', 'last-letter': 'r', 'last2-letters': 'ur', 'last3-letters': 'vur'},\n",
       "       {'first-letter': 'g', 'first2-letters': 'gr', 'first3-letters': 'gra', 'last-letter': 'e', 'last2-letters': 'de', 'last3-letters': 'ade'},\n",
       "       {'first-letter': 's', 'first2-letters': 'sa', 'first3-letters': 'san', 'last-letter': 'p', 'last2-letters': 'ip', 'last3-letters': 'dip'},\n",
       "       {'first-letter': 'r', 'first2-letters': 're', 'first3-letters': 'ree', 'last-letter': 'a', 'last2-letters': 'na', 'last3-letters': 'ena'},\n",
       "       {'first-letter': 'k', 'first2-letters': 'ka', 'first3-letters': 'kal', 'last-letter': 'm', 'last2-letters': 'am', 'last3-letters': 'gam'},\n",
       "       {'first-letter': 'h', 'first2-letters': 'ho', 'first3-letters': 'how', 'last-letter': 'h', 'last2-letters': 'ah', 'last3-letters': 'rah'},\n",
       "       {'first-letter': 'g', 'first2-letters': 'ge', 'first3-letters': 'gee', 'last-letter': 'i', 'last2-letters': 'li', 'last3-letters': 'ali'},\n",
       "       {'first-letter': 'b', 'first2-letters': 'be', 'first3-letters': 'ben', 'last-letter': 't', 'last2-letters': 'tt', 'last3-letters': 'ett'},\n",
       "       {'first-letter': 'm', 'first2-letters': 'ma', 'first3-letters': 'mat', 'last-letter': 'a', 'last2-letters': 'ta', 'last3-letters': 'ata'},\n",
       "       {'first-letter': 'd', 'first2-letters': 'da', 'first3-letters': 'day', 'last-letter': 'a', 'last2-letters': 'da', 'last3-letters': 'nda'},\n",
       "       {'first-letter': 'b', 'first2-letters': 'ba', 'first3-letters': 'bah', 'last-letter': 'i', 'last2-letters': 'li', 'last3-letters': 'ali'},\n",
       "       {'first-letter': 'c', 'first2-letters': 'ch', 'first3-letters': 'che', 'last-letter': 'l', 'last2-letters': 'al', 'last3-letters': 'cal'},\n",
       "       {'first-letter': 'i', 'first2-letters': 'in', 'first3-letters': 'ind', 'last-letter': 'a', 'last2-letters': 'ra', 'last3-letters': 'dra'},\n",
       "       {'first-letter': 'b', 'first2-letters': 'ba', 'first3-letters': 'ban', 'last-letter': 'i', 'last2-letters': 'ri', 'last3-letters': 'ari'},\n",
       "       {'first-letter': 'a', 'first2-letters': 'ak', 'first3-letters': 'aka', 'last-letter': 'l', 'last2-letters': 'al', 'last3-letters': 'kal'},\n",
       "       {'first-letter': 'a', 'first2-letters': 'ad', 'first3-letters': 'ada', 'last-letter': 'i', 'last2-letters': 'ni', 'last3-letters': 'ani'},\n",
       "       {'first-letter': 'j', 'first2-letters': 'ju', 'first3-letters': 'jun', 'last-letter': 'r', 'last2-letters': 'or', 'last3-letters': 'ior'},\n",
       "       {'first-letter': 'a', 'first2-letters': 'ar', 'first3-letters': 'art', 'last-letter': 's', 'last2-letters': 'ts', 'last3-letters': 'rts'},\n",
       "       {'first-letter': 'f', 'first2-letters': 'fi', 'first3-letters': 'fie', 'last-letter': 'd', 'last2-letters': 'ld', 'last3-letters': 'eld'},\n",
       "       {'first-letter': 'd', 'first2-letters': 'dh', 'first3-letters': 'dha', 'last-letter': 'd', 'last2-letters': 'ad', 'last3-letters': 'wad'},\n",
       "       {'first-letter': 'b', 'first2-letters': 'be', 'first3-letters': 'bef', 'last-letter': 'e', 'last2-letters': 're', 'last3-letters': 'ore'},\n",
       "       {'first-letter': 'c', 'first2-letters': 'ch', 'first3-letters': 'chr', 'last-letter': 'u', 'last2-letters': 'tu', 'last3-letters': 'stu'},\n",
       "       {'first-letter': 'j', 'first2-letters': 'jr', 'first3-letters': 'jrf', 'last-letter': 'f', 'last2-letters': 'rf', 'last3-letters': 'jrf'},\n",
       "       {'first-letter': 'o', 'first2-letters': 'of', 'first3-letters': 'of', 'last-letter': 'f', 'last2-letters': 'of', 'last3-letters': 'of'},\n",
       "       {'first-letter': 'r', 'first2-letters': 'ro', 'first3-letters': 'roe', 'last-letter': 'r', 'last2-letters': 'er', 'last3-letters': 'ver'},\n",
       "       {'first-letter': 'k', 'first2-letters': 'ka', 'first3-letters': 'kai', 'last-letter': 'l', 'last2-letters': 'al', 'last3-letters': 'hal'},\n",
       "       {'first-letter': 'n', 'first2-letters': 'ne', 'first3-letters': 'new', 'last-letter': 'n', 'last2-letters': 'on', 'last3-letters': 'ton'},\n",
       "       {'first-letter': 'p', 'first2-letters': 'pr', 'first3-letters': 'pra', 'last-letter': 'j', 'last2-letters': 'aj', 'last3-letters': 'raj'},\n",
       "       {'first-letter': 'v', 'first2-letters': 'vi', 'first3-letters': 'vid', 'last-letter': 'a', 'last2-letters': 'ya', 'last3-letters': 'aya'},\n",
       "       {'first-letter': 'a', 'first2-letters': 'ad', 'first3-letters': 'adm', 'last-letter': 'n', 'last2-letters': 'on', 'last3-letters': 'ion'},\n",
       "       {'first-letter': 'j', 'first2-letters': 'ju', 'first3-letters': 'jul', 'last-letter': 'y', 'last2-letters': 'ly', 'last3-letters': 'uly'},\n",
       "       {'first-letter': 'k', 'first2-letters': 'kr', 'first3-letters': 'kri', 'last-letter': 'i', 'last2-letters': 'hi', 'last3-letters': 'shi'},\n",
       "       {'first-letter': 'r', 'first2-letters': 'ro', 'first3-letters': 'roy', 'last-letter': 'l', 'last2-letters': 'al', 'last3-letters': 'yal'},\n",
       "       {'first-letter': 'r', 'first2-letters': 're', 'first3-letters': 'res', 'last-letter': 's', 'last2-letters': 'es', 'last3-letters': 'res'},\n",
       "       {'first-letter': 'a', 'first2-letters': 'an', 'first3-letters': 'anu', 'last-letter': 'g', 'last2-letters': 'ag', 'last3-letters': 'rag'},\n",
       "       {'first-letter': 'n', 'first2-letters': 'ne', 'first3-letters': 'neh', 'last-letter': 'u', 'last2-letters': 'ru', 'last3-letters': 'hru'},\n",
       "       {'first-letter': 'u', 'first2-letters': 'ud', 'first3-letters': 'udu', 'last-letter': 't', 'last2-letters': 'et', 'last3-letters': 'pet'},\n",
       "       {'first-letter': 'c', 'first2-letters': 'co', 'first3-letters': 'coi', 'last-letter': 'e', 'last2-letters': 're', 'last3-letters': 'ore'},\n",
       "       {'first-letter': 'n', 'first2-letters': 'ne', 'first3-letters': 'new', 'last-letter': 'r', 'last2-letters': 'er', 'last3-letters': 'per'},\n",
       "       {'first-letter': 'b', 'first2-letters': 'ba', 'first3-letters': 'bal', 'last-letter': 'e', 'last2-letters': 're', 'last3-letters': 'ore'},\n",
       "       {'first-letter': 'p', 'first2-letters': 'pa', 'first3-letters': 'pad', 'last-letter': 'i', 'last2-letters': 'hi', 'last3-letters': 'thi'},\n",
       "       {'first-letter': 's', 'first2-letters': 'sa', 'first3-letters': 'sag', 'last-letter': 'r', 'last2-letters': 'ar', 'last3-letters': 'gar'},\n",
       "       {'first-letter': 'a', 'first2-letters': 'an', 'first3-letters': 'anc', 'last-letter': 'r', 'last2-letters': 'or', 'last3-letters': 'hor'},\n",
       "       {'first-letter': 'b', 'first2-letters': 'ba', 'first3-letters': 'bac', 'last-letter': 'd', 'last2-letters': 'nd', 'last3-letters': 'und'},\n",
       "       {'first-letter': 'a', 'first2-letters': 'au', 'first3-letters': 'aut', 'last-letter': 's', 'last2-letters': 'us', 'last3-letters': 'ous'},\n",
       "       {'first-letter': 'j', 'first2-letters': 'ji', 'first3-letters': 'jin', 'last-letter': 'l', 'last2-letters': 'al', 'last3-letters': 'dal'},\n",
       "       {'first-letter': 'a', 'first2-letters': 'ab', 'first3-letters': 'abd', 'last-letter': 'l', 'last2-letters': 'ul', 'last3-letters': 'dul'},\n",
       "       {'first-letter': 'b', 'first2-letters': 'be', 'first3-letters': 'beh', 'last-letter': 'r', 'last2-letters': 'ar', 'last3-letters': 'har'},\n",
       "       {'first-letter': 't', 'first2-letters': 'ta', 'first3-letters': 'tam', 'last-letter': 'l', 'last2-letters': 'il', 'last3-letters': 'mil'},\n",
       "       {'first-letter': 'c', 'first2-letters': 'ce', 'first3-letters': 'cen', 'last-letter': 'l', 'last2-letters': 'al', 'last3-letters': 'ral'},\n",
       "       {'first-letter': 'd', 'first2-letters': 'dr', 'first3-letters': 'dr', 'last-letter': 'r', 'last2-letters': 'dr', 'last3-letters': 'dr'},\n",
       "       {'first-letter': 'r', 'first2-letters': 'ra', 'first3-letters': 'ran', 'last-letter': 'a', 'last2-letters': 'ga', 'last3-letters': 'nga'},\n",
       "       {'first-letter': 'r', 'first2-letters': 're', 'first3-letters': 'red', 'last-letter': 'y', 'last2-letters': 'dy', 'last3-letters': 'ddy'},\n",
       "       {'first-letter': 'h', 'first2-letters': 'ho', 'first3-letters': 'hot', 'last-letter': 'l', 'last2-letters': 'el', 'last3-letters': 'tel'},\n",
       "       {'first-letter': 'p', 'first2-letters': 'pr', 'first3-letters': 'pri', 'last-letter': 'n', 'last2-letters': 'on', 'last3-letters': 'ton'},\n",
       "       {'first-letter': 'd', 'first2-letters': 'di', 'first3-letters': 'dir', 'last-letter': 'e', 'last2-letters': 'te', 'last3-letters': 'ate'},\n",
       "       {'first-letter': 't', 'first2-letters': 'tr', 'first3-letters': 'tru', 'last-letter': 't', 'last2-letters': 'st', 'last3-letters': 'ust'},\n",
       "       {'first-letter': 'v', 'first2-letters': 'vi', 'first3-letters': 'vir', 'last-letter': 'r', 'last2-letters': 'ar', 'last3-letters': 'gar'}],\n",
       "      dtype=object)"
      ]
     },
     "execution_count": 223,
     "metadata": {},
     "output_type": "execute_result"
    }
   ],
   "source": [
    "dfX_train"
   ]
  },
  {
   "cell_type": "code",
   "execution_count": 224,
   "metadata": {},
   "outputs": [
    {
     "data": {
      "text/plain": [
       "<677x1205 sparse matrix of type '<class 'numpy.float64'>'\n",
       "\twith 4062 stored elements in Compressed Sparse Row format>"
      ]
     },
     "execution_count": 224,
     "metadata": {},
     "output_type": "execute_result"
    }
   ],
   "source": [
    "dv = DictVectorizer()\n",
    "dv.fit_transform(dfX_train)\n"
   ]
  },
  {
   "cell_type": "code",
   "execution_count": 225,
   "metadata": {},
   "outputs": [
    {
     "data": {
      "text/plain": [
       "DecisionTreeClassifier(class_weight=None, criterion='gini', max_depth=None,\n",
       "                       max_features=None, max_leaf_nodes=None,\n",
       "                       min_impurity_decrease=0.0, min_impurity_split=None,\n",
       "                       min_samples_leaf=1, min_samples_split=2,\n",
       "                       min_weight_fraction_leaf=0.0, presort=False,\n",
       "                       random_state=None, splitter='best')"
      ]
     },
     "execution_count": 225,
     "metadata": {},
     "output_type": "execute_result"
    }
   ],
   "source": [
    "from sklearn.tree import DecisionTreeClassifier\n",
    "dclf = DecisionTreeClassifier()\n",
    "my_xfeatures =dv.transform(dfX_train)\n",
    "dclf.fit(my_xfeatures, dfy_train)\n"
   ]
  },
  {
   "cell_type": "code",
   "execution_count": 226,
   "metadata": {},
   "outputs": [],
   "source": [
    "sample_name_eg = [\"Alka\"]\n",
    "transform_dv =dv.transform(features(sample_name_eg))\n"
   ]
  },
  {
   "cell_type": "code",
   "execution_count": 227,
   "metadata": {},
   "outputs": [
    {
     "data": {
      "text/plain": [
       "array([0], dtype=int64)"
      ]
     },
     "execution_count": 227,
     "metadata": {},
     "output_type": "execute_result"
    }
   ],
   "source": [
    "vect3 = transform_dv.toarray()\n",
    "dclf.predict(vect3)"
   ]
  },
  {
   "cell_type": "code",
   "execution_count": 228,
   "metadata": {},
   "outputs": [
    {
     "name": "stdout",
     "output_type": "stream",
     "text": [
      "Female\n"
     ]
    }
   ],
   "source": [
    "if dclf.predict(vect3) == 0:\n",
    "    print(\"Female\")\n",
    "else:\n",
    "    print(\"Male\")"
   ]
  },
  {
   "cell_type": "code",
   "execution_count": 229,
   "metadata": {},
   "outputs": [
    {
     "name": "stdout",
     "output_type": "stream",
     "text": [
      "1.0\n",
      "1.0\n"
     ]
    }
   ],
   "source": [
    "print(dclf.score(dv.transform(dfX_train), dfy_train)) \n",
    "print(dclf.score(dv.transform(dfX_test), dfy_test))"
   ]
  },
  {
   "cell_type": "code",
   "execution_count": 230,
   "metadata": {},
   "outputs": [],
   "source": [
    "from sklearn.externals import joblib"
   ]
  },
  {
   "cell_type": "code",
   "execution_count": 231,
   "metadata": {},
   "outputs": [],
   "source": [
    "decisiontreModel = open(\"decisiontreemodel.pkl\",\"wb\")"
   ]
  },
  {
   "cell_type": "code",
   "execution_count": 232,
   "metadata": {},
   "outputs": [],
   "source": [
    "joblib.dump(dclf,decisiontreModel)"
   ]
  },
  {
   "cell_type": "code",
   "execution_count": 233,
   "metadata": {},
   "outputs": [],
   "source": [
    "decisiontreModel.close()"
   ]
  },
  {
   "cell_type": "code",
   "execution_count": 234,
   "metadata": {},
   "outputs": [],
   "source": [
    "import pickle\n",
    "dctreeModel = open(\"namesdetectormodel.pkl\",\"wb\")"
   ]
  },
  {
   "cell_type": "code",
   "execution_count": 235,
   "metadata": {},
   "outputs": [],
   "source": [
    "pickle.dump(dclf,dctreeModel)"
   ]
  },
  {
   "cell_type": "code",
   "execution_count": 236,
   "metadata": {},
   "outputs": [],
   "source": [
    "dctreeModel.close()"
   ]
  },
  {
   "cell_type": "code",
   "execution_count": 237,
   "metadata": {},
   "outputs": [],
   "source": [
    "NaiveBayesModel = open(\"naivebayesgendermodel.pkl\",\"wb\")"
   ]
  },
  {
   "cell_type": "code",
   "execution_count": 238,
   "metadata": {},
   "outputs": [],
   "source": [
    "joblib.dump(clf,NaiveBayesModel)"
   ]
  },
  {
   "cell_type": "code",
   "execution_count": 239,
   "metadata": {},
   "outputs": [],
   "source": [
    "NaiveBayesModel.close()"
   ]
  },
  {
   "cell_type": "code",
   "execution_count": 240,
   "metadata": {},
   "outputs": [],
   "source": [
    "import pandas as pd\n",
    "import numpy as np\n",
    "from sklearn.feature_extraction.text import CountVectorizer\n",
    "from sklearn.feature_extraction import DictVectorizer\n"
   ]
  },
  {
   "cell_type": "code",
   "execution_count": 241,
   "metadata": {},
   "outputs": [],
   "source": [
    "df = pd.read_csv('names_dataset.csv')"
   ]
  },
  {
   "cell_type": "code",
   "execution_count": 242,
   "metadata": {},
   "outputs": [
    {
     "data": {
      "text/html": [
       "<div>\n",
       "<style scoped>\n",
       "    .dataframe tbody tr th:only-of-type {\n",
       "        vertical-align: middle;\n",
       "    }\n",
       "\n",
       "    .dataframe tbody tr th {\n",
       "        vertical-align: top;\n",
       "    }\n",
       "\n",
       "    .dataframe thead th {\n",
       "        text-align: right;\n",
       "    }\n",
       "</style>\n",
       "<table border=\"1\" class=\"dataframe\">\n",
       "  <thead>\n",
       "    <tr style=\"text-align: right;\">\n",
       "      <th></th>\n",
       "      <th>index</th>\n",
       "      <th>name</th>\n",
       "      <th>sex</th>\n",
       "    </tr>\n",
       "  </thead>\n",
       "  <tbody>\n",
       "    <tr>\n",
       "      <th>0</th>\n",
       "      <td>0</td>\n",
       "      <td>Mary</td>\n",
       "      <td>F</td>\n",
       "    </tr>\n",
       "    <tr>\n",
       "      <th>1</th>\n",
       "      <td>1</td>\n",
       "      <td>Anna</td>\n",
       "      <td>F</td>\n",
       "    </tr>\n",
       "    <tr>\n",
       "      <th>2</th>\n",
       "      <td>2</td>\n",
       "      <td>Emma</td>\n",
       "      <td>F</td>\n",
       "    </tr>\n",
       "    <tr>\n",
       "      <th>3</th>\n",
       "      <td>3</td>\n",
       "      <td>Elizabeth</td>\n",
       "      <td>F</td>\n",
       "    </tr>\n",
       "    <tr>\n",
       "      <th>4</th>\n",
       "      <td>4</td>\n",
       "      <td>Minnie</td>\n",
       "      <td>F</td>\n",
       "    </tr>\n",
       "  </tbody>\n",
       "</table>\n",
       "</div>"
      ],
      "text/plain": [
       "   index       name sex\n",
       "0      0       Mary   F\n",
       "1      1       Anna   F\n",
       "2      2       Emma   F\n",
       "3      3  Elizabeth   F\n",
       "4      4     Minnie   F"
      ]
     },
     "execution_count": 242,
     "metadata": {},
     "output_type": "execute_result"
    }
   ],
   "source": [
    "df.head()"
   ]
  },
  {
   "cell_type": "code",
   "execution_count": 243,
   "metadata": {},
   "outputs": [
    {
     "data": {
      "text/plain": [
       "285075"
      ]
     },
     "execution_count": 243,
     "metadata": {},
     "output_type": "execute_result"
    }
   ],
   "source": [
    "df.size"
   ]
  },
  {
   "cell_type": "code",
   "execution_count": 244,
   "metadata": {},
   "outputs": [
    {
     "data": {
      "text/plain": [
       "Index(['index', 'name', 'sex'], dtype='object')"
      ]
     },
     "execution_count": 244,
     "metadata": {},
     "output_type": "execute_result"
    }
   ],
   "source": [
    "df.columns"
   ]
  },
  {
   "cell_type": "code",
   "execution_count": 245,
   "metadata": {},
   "outputs": [
    {
     "data": {
      "text/plain": [
       "index     int64\n",
       "name     object\n",
       "sex      object\n",
       "dtype: object"
      ]
     },
     "execution_count": 245,
     "metadata": {},
     "output_type": "execute_result"
    }
   ],
   "source": [
    "df.dtypes"
   ]
  },
  {
   "cell_type": "code",
   "execution_count": 246,
   "metadata": {},
   "outputs": [
    {
     "data": {
      "text/plain": [
       "index    0\n",
       "name     0\n",
       "sex      0\n",
       "dtype: int64"
      ]
     },
     "execution_count": 246,
     "metadata": {},
     "output_type": "execute_result"
    }
   ],
   "source": [
    "df.isnull().isnull().sum()"
   ]
  },
  {
   "cell_type": "code",
   "execution_count": 247,
   "metadata": {},
   "outputs": [
    {
     "data": {
      "text/plain": [
       "181800"
      ]
     },
     "execution_count": 247,
     "metadata": {},
     "output_type": "execute_result"
    }
   ],
   "source": [
    "df[df.sex == 'F'].size"
   ]
  },
  {
   "cell_type": "code",
   "execution_count": 248,
   "metadata": {},
   "outputs": [
    {
     "data": {
      "text/plain": [
       "103275"
      ]
     },
     "execution_count": 248,
     "metadata": {},
     "output_type": "execute_result"
    }
   ],
   "source": [
    "df[df.sex == 'M'].size"
   ]
  },
  {
   "cell_type": "code",
   "execution_count": 249,
   "metadata": {},
   "outputs": [],
   "source": [
    "df_name = df"
   ]
  },
  {
   "cell_type": "code",
   "execution_count": 250,
   "metadata": {
    "scrolled": true
   },
   "outputs": [],
   "source": [
    "df_name.sex.replace({'F':0,'M':1},inplace=True)"
   ]
  },
  {
   "cell_type": "code",
   "execution_count": 251,
   "metadata": {},
   "outputs": [
    {
     "data": {
      "text/plain": [
       "array([0, 1], dtype=int64)"
      ]
     },
     "execution_count": 251,
     "metadata": {},
     "output_type": "execute_result"
    }
   ],
   "source": [
    "df_name.sex.unique()"
   ]
  },
  {
   "cell_type": "code",
   "execution_count": 252,
   "metadata": {},
   "outputs": [
    {
     "data": {
      "text/plain": [
       "index     int64\n",
       "name     object\n",
       "sex       int64\n",
       "dtype: object"
      ]
     },
     "execution_count": 252,
     "metadata": {},
     "output_type": "execute_result"
    }
   ],
   "source": [
    "df_name.dtypes"
   ]
  },
  {
   "cell_type": "code",
   "execution_count": 253,
   "metadata": {},
   "outputs": [],
   "source": [
    "Xfeature =df_name['name']"
   ]
  },
  {
   "cell_type": "code",
   "execution_count": 254,
   "metadata": {},
   "outputs": [],
   "source": [
    "cv = CountVectorizer()\n",
    "X = cv.fit_transform(Xfeature)"
   ]
  },
  {
   "cell_type": "code",
   "execution_count": 255,
   "metadata": {},
   "outputs": [],
   "source": [
    "from sklearn.externals import joblib"
   ]
  },
  {
   "cell_type": "code",
   "execution_count": 256,
   "metadata": {},
   "outputs": [],
   "source": [
    "gender_vector = open(\"gender_vector.pkl\",\"wb\")\n",
    "joblib.dump(cv,gender_vector)"
   ]
  },
  {
   "cell_type": "code",
   "execution_count": 257,
   "metadata": {},
   "outputs": [],
   "source": [
    "gender_vector.close()"
   ]
  },
  {
   "cell_type": "code",
   "execution_count": 258,
   "metadata": {},
   "outputs": [
    {
     "data": {
      "text/plain": [
       "['aaban',\n",
       " 'aabha',\n",
       " 'aabid',\n",
       " 'aabriella',\n",
       " 'aada',\n",
       " 'aadam',\n",
       " 'aadan',\n",
       " 'aadarsh',\n",
       " 'aaden',\n",
       " 'aadesh',\n",
       " 'aadhav',\n",
       " 'aadhavan',\n",
       " 'aadhi',\n",
       " 'aadhira',\n",
       " 'aadhvik',\n",
       " 'aadhya',\n",
       " 'aadhyan',\n",
       " 'aadi',\n",
       " 'aadian',\n",
       " 'aadil',\n",
       " 'aadin',\n",
       " 'aadish',\n",
       " 'aadison',\n",
       " 'aadit',\n",
       " 'aadith',\n",
       " 'aadithya',\n",
       " 'aaditri',\n",
       " 'aaditya',\n",
       " 'aadiv',\n",
       " 'aadon',\n",
       " 'aadrian',\n",
       " 'aadrika',\n",
       " 'aadrit',\n",
       " 'aadvik',\n",
       " 'aadvika',\n",
       " 'aadya',\n",
       " 'aadyn',\n",
       " 'aafia',\n",
       " 'aafreen',\n",
       " 'aagam',\n",
       " 'aage',\n",
       " 'aagot',\n",
       " 'aahaan',\n",
       " 'aahan',\n",
       " 'aahana',\n",
       " 'aahil',\n",
       " 'aahir',\n",
       " 'aahliyah',\n",
       " 'aahna',\n",
       " 'aahron',\n",
       " 'aaidan',\n",
       " 'aaiden',\n",
       " 'aaidyn',\n",
       " 'aaila',\n",
       " 'aailiyah',\n",
       " 'aailyah',\n",
       " 'aaima',\n",
       " 'aaira',\n",
       " 'aairah',\n",
       " 'aaisha',\n",
       " 'aaishah',\n",
       " 'aaiyana',\n",
       " 'aaiza',\n",
       " 'aaja',\n",
       " 'aajah',\n",
       " 'aajaylah',\n",
       " 'aajon',\n",
       " 'aakanksha',\n",
       " 'aakarsh',\n",
       " 'aakash',\n",
       " 'aakeem',\n",
       " 'aakilah',\n",
       " 'aakira',\n",
       " 'aakiyah',\n",
       " 'aakriti',\n",
       " 'aala',\n",
       " 'aalaiya',\n",
       " 'aalaiyah',\n",
       " 'aalana',\n",
       " 'aalanah',\n",
       " 'aalani',\n",
       " 'aalap',\n",
       " 'aalaya',\n",
       " 'aalayah',\n",
       " 'aalayiah',\n",
       " 'aalayjah',\n",
       " 'aalayna',\n",
       " 'aalaysha',\n",
       " 'aalaysia',\n",
       " 'aalea',\n",
       " 'aaleah',\n",
       " 'aaleahya',\n",
       " 'aaleena',\n",
       " 'aaleeya',\n",
       " 'aaleeyah',\n",
       " 'aaleiah',\n",
       " 'aaleigha',\n",
       " 'aaleiyah',\n",
       " 'aalena',\n",
       " 'aalexis',\n",
       " 'aalexus',\n",
       " 'aaleya',\n",
       " 'aaleyah',\n",
       " 'aali',\n",
       " 'aalia',\n",
       " 'aaliah',\n",
       " 'aaliana',\n",
       " 'aalias',\n",
       " 'aaliayah',\n",
       " 'aaliayh',\n",
       " 'aalicia',\n",
       " 'aaliha',\n",
       " 'aalijah',\n",
       " 'aalim',\n",
       " 'aalimah',\n",
       " 'aalina',\n",
       " 'aalinah',\n",
       " 'aalisa',\n",
       " 'aalisha',\n",
       " 'aalivia',\n",
       " 'aaliya',\n",
       " 'aaliyaa',\n",
       " 'aaliyah',\n",
       " 'aaliyaha',\n",
       " 'aaliyahmarie',\n",
       " 'aaliyahrose',\n",
       " 'aaliyan',\n",
       " 'aaliyana',\n",
       " 'aaliyanna',\n",
       " 'aaliyha',\n",
       " 'aaliyiah',\n",
       " 'aalliyah',\n",
       " 'aallyah',\n",
       " 'aalok',\n",
       " 'aalon',\n",
       " 'aalya',\n",
       " 'aalyah',\n",
       " 'aalycia',\n",
       " 'aalyha',\n",
       " 'aalyia',\n",
       " 'aalyiah',\n",
       " 'aalyna',\n",
       " 'aalysia',\n",
       " 'aalyssa',\n",
       " 'aalyvia',\n",
       " 'aamanda',\n",
       " 'aamanee',\n",
       " 'aamani',\n",
       " 'aamar',\n",
       " 'aamari',\n",
       " 'aamarion',\n",
       " 'aamaya',\n",
       " 'aamber',\n",
       " 'aamena',\n",
       " 'aamer',\n",
       " 'aamia',\n",
       " 'aamil',\n",
       " 'aamilah',\n",
       " 'aamina',\n",
       " 'aaminah',\n",
       " 'aamir',\n",
       " 'aamira',\n",
       " 'aamirah',\n",
       " 'aamiya',\n",
       " 'aamiyah',\n",
       " 'aamna',\n",
       " 'aamoni',\n",
       " 'aamori',\n",
       " 'aamya',\n",
       " 'aamyah',\n",
       " 'aana',\n",
       " 'aanand',\n",
       " 'aanav',\n",
       " 'aanaya',\n",
       " 'aanchal',\n",
       " 'aania',\n",
       " 'aaniah',\n",
       " 'aanijah',\n",
       " 'aanika',\n",
       " 'aanisah',\n",
       " 'aaniya',\n",
       " 'aaniyah',\n",
       " 'aaniylah',\n",
       " 'aansh',\n",
       " 'aanshi',\n",
       " 'aanvi',\n",
       " 'aanya',\n",
       " 'aanyah',\n",
       " 'aanyla',\n",
       " 'aapri',\n",
       " 'aaqib',\n",
       " 'aaqil',\n",
       " 'aara',\n",
       " 'aarabella',\n",
       " 'aarabhi',\n",
       " 'aaradhana',\n",
       " 'aaradhy',\n",
       " 'aaradhya',\n",
       " 'aaraiz',\n",
       " 'aaralyn',\n",
       " 'aaralynn',\n",
       " 'aaran',\n",
       " 'aaraon',\n",
       " 'aaratrika',\n",
       " 'aarav',\n",
       " 'aaravi',\n",
       " 'aaraya',\n",
       " 'aaren',\n",
       " 'aareon',\n",
       " 'aareona',\n",
       " 'aari',\n",
       " 'aaria',\n",
       " 'aariah',\n",
       " 'aarian',\n",
       " 'aariana',\n",
       " 'aarianna',\n",
       " 'aarib',\n",
       " 'aaric',\n",
       " 'aarica',\n",
       " 'aarick',\n",
       " 'aarie',\n",
       " 'aariel',\n",
       " 'aarielle',\n",
       " 'aarien',\n",
       " 'aarik',\n",
       " 'aarika',\n",
       " 'aariketh',\n",
       " 'aarilyn',\n",
       " 'aarilynn',\n",
       " 'aarin',\n",
       " 'aarini',\n",
       " 'aarion',\n",
       " 'aariona',\n",
       " 'aarionna',\n",
       " 'aaris',\n",
       " 'aarish',\n",
       " 'aarit',\n",
       " 'aariv',\n",
       " 'aariya',\n",
       " 'aariyah',\n",
       " 'aariyan',\n",
       " 'aariyana',\n",
       " 'aariyanna',\n",
       " 'aariyona',\n",
       " 'aariyonna',\n",
       " 'aariz',\n",
       " 'aarjav',\n",
       " 'aarn',\n",
       " 'aarna',\n",
       " 'aarnav',\n",
       " 'aarnavi',\n",
       " 'aarne',\n",
       " 'aaro',\n",
       " 'aaroh',\n",
       " 'aarohan',\n",
       " 'aarohi',\n",
       " 'aarolyn',\n",
       " 'aaron',\n",
       " 'aarona',\n",
       " 'aaronae',\n",
       " 'aaronda',\n",
       " 'aaronette',\n",
       " 'aaronisha',\n",
       " 'aaronjacob',\n",
       " 'aaronjames',\n",
       " 'aaronjohn',\n",
       " 'aaronjoseph',\n",
       " 'aaronjosh',\n",
       " 'aaronjoshua',\n",
       " 'aaronlee',\n",
       " 'aaronmichael',\n",
       " 'aaronn',\n",
       " 'aaroosh',\n",
       " 'aarren',\n",
       " 'aarron',\n",
       " 'aarsh',\n",
       " 'aarshi',\n",
       " 'aarshiya',\n",
       " 'aarthi',\n",
       " 'aarti',\n",
       " 'aaruhi',\n",
       " 'aarush',\n",
       " 'aarushi',\n",
       " 'aarvi',\n",
       " 'aarvin',\n",
       " 'aarya',\n",
       " 'aaryah',\n",
       " 'aaryahi',\n",
       " 'aaryan',\n",
       " 'aaryana',\n",
       " 'aaryanna',\n",
       " 'aaryash',\n",
       " 'aaryav',\n",
       " 'aaryn',\n",
       " 'aaryon',\n",
       " 'aaryona',\n",
       " 'aarza',\n",
       " 'aaser',\n",
       " 'aasha',\n",
       " 'aashana',\n",
       " 'aashay',\n",
       " 'aashi',\n",
       " 'aashia',\n",
       " 'aashika',\n",
       " 'aashini',\n",
       " 'aashir',\n",
       " 'aashirya',\n",
       " 'aashish',\n",
       " 'aashita',\n",
       " 'aashiyana',\n",
       " 'aashka',\n",
       " 'aashman',\n",
       " 'aashna',\n",
       " 'aashni',\n",
       " 'aashray',\n",
       " 'aashrita',\n",
       " 'aashrith',\n",
       " 'aashritha',\n",
       " 'aashvi',\n",
       " 'aasia',\n",
       " 'aasim',\n",
       " 'aasin',\n",
       " 'aasir',\n",
       " 'aasiya',\n",
       " 'aasiyah',\n",
       " 'aason',\n",
       " 'aastha',\n",
       " 'aathan',\n",
       " 'aatif',\n",
       " 'aatish',\n",
       " 'aava',\n",
       " 'aavah',\n",
       " 'aavash',\n",
       " 'aaven',\n",
       " 'aavi',\n",
       " 'aavin',\n",
       " 'aavion',\n",
       " 'aavya',\n",
       " 'aavyan',\n",
       " 'aavyn',\n",
       " 'aaya',\n",
       " 'aayaan',\n",
       " 'aayah',\n",
       " 'aayam',\n",
       " 'aayan',\n",
       " 'aayana',\n",
       " 'aayanah',\n",
       " 'aayanna',\n",
       " 'aayansh',\n",
       " 'aayat',\n",
       " 'aaydan',\n",
       " 'aayden',\n",
       " 'aayla',\n",
       " 'aaylah',\n",
       " 'aayliah',\n",
       " 'aayra',\n",
       " 'aayu',\n",
       " 'aayush',\n",
       " 'aayusha',\n",
       " 'aayushi',\n",
       " 'aazan',\n",
       " 'aazim',\n",
       " 'aaziyah',\n",
       " 'ab',\n",
       " 'aba',\n",
       " 'abaan',\n",
       " 'abad',\n",
       " 'abagael',\n",
       " 'abagail',\n",
       " 'abagaile',\n",
       " 'abagale',\n",
       " 'abagayle',\n",
       " 'abaigael',\n",
       " 'abaigail',\n",
       " 'abaigeal',\n",
       " 'aban',\n",
       " 'abanoub',\n",
       " 'abas',\n",
       " 'abasi',\n",
       " 'abass',\n",
       " 'abayomi',\n",
       " 'abb',\n",
       " 'abba',\n",
       " 'abbaas',\n",
       " 'abbagail',\n",
       " 'abbagale',\n",
       " 'abbagayle',\n",
       " 'abbas',\n",
       " 'abbe',\n",
       " 'abbee',\n",
       " 'abbegail',\n",
       " 'abbegale',\n",
       " 'abbegayle',\n",
       " 'abbey',\n",
       " 'abbeygail',\n",
       " 'abbeygale',\n",
       " 'abbi',\n",
       " 'abbie',\n",
       " 'abbiegail',\n",
       " 'abbiegale',\n",
       " 'abbiegayle',\n",
       " 'abbigael',\n",
       " 'abbigail',\n",
       " 'abbigaile',\n",
       " 'abbigal',\n",
       " 'abbigale',\n",
       " 'abbigayl',\n",
       " 'abbigayle',\n",
       " 'abbilyn',\n",
       " 'abbot',\n",
       " 'abbott',\n",
       " 'abbra',\n",
       " 'abbriella',\n",
       " 'abbrielle',\n",
       " 'abby',\n",
       " 'abbye',\n",
       " 'abbygael',\n",
       " 'abbygail',\n",
       " 'abbygaile',\n",
       " 'abbygale',\n",
       " 'abbygayl',\n",
       " 'abbygayle',\n",
       " 'abbylynn',\n",
       " 'abcde',\n",
       " 'abd',\n",
       " 'abdala',\n",
       " 'abdalah',\n",
       " 'abdalla',\n",
       " 'abdallah',\n",
       " 'abdalrahman',\n",
       " 'abdalrhman',\n",
       " 'abdel',\n",
       " 'abdelaziz',\n",
       " 'abdelhadi',\n",
       " 'abdelkareem',\n",
       " 'abdelkarim',\n",
       " 'abdellah',\n",
       " 'abdelrahman',\n",
       " 'abdelrhman',\n",
       " 'abderrahman',\n",
       " 'abdi',\n",
       " 'abdias',\n",
       " 'abdiasis',\n",
       " 'abdiaziz',\n",
       " 'abdiel',\n",
       " 'abdifatah',\n",
       " 'abdihafid',\n",
       " 'abdihakim',\n",
       " 'abdihamid',\n",
       " 'abdikadir',\n",
       " 'abdikarim',\n",
       " 'abdikhaliq',\n",
       " 'abdilahi',\n",
       " 'abdimalik',\n",
       " 'abdinajib',\n",
       " 'abdinasir',\n",
       " 'abdiqani',\n",
       " 'abdirahim',\n",
       " 'abdirahin',\n",
       " 'abdirahman',\n",
       " 'abdirashid',\n",
       " 'abdirisaq',\n",
       " 'abdirizak',\n",
       " 'abdisalam',\n",
       " 'abdisalan',\n",
       " 'abdisamad',\n",
       " 'abdishakur',\n",
       " 'abdiwahab',\n",
       " 'abdiwali',\n",
       " 'abdo',\n",
       " 'abdon',\n",
       " 'abdou',\n",
       " 'abdoul',\n",
       " 'abdoulaye',\n",
       " 'abdoulaziz',\n",
       " 'abdoulie',\n",
       " 'abdourahman',\n",
       " 'abdourahmane',\n",
       " 'abdrahman',\n",
       " 'abdrew',\n",
       " 'abdu',\n",
       " 'abdual',\n",
       " 'abduallah',\n",
       " 'abduel',\n",
       " 'abdul',\n",
       " 'abdula',\n",
       " 'abdulah',\n",
       " 'abdulahad',\n",
       " 'abdulahi',\n",
       " 'abdulai',\n",
       " 'abdulaye',\n",
       " 'abdulazeem',\n",
       " 'abdulazeez',\n",
       " 'abdulaziz',\n",
       " 'abdulbari',\n",
       " 'abdulbasit',\n",
       " 'abdule',\n",
       " 'abdulelah',\n",
       " 'abdulhadi',\n",
       " 'abdulhakeem',\n",
       " 'abdulhakim',\n",
       " 'abdulhalim',\n",
       " 'abdulhameed',\n",
       " 'abdulhamid',\n",
       " 'abduljabbar',\n",
       " 'abduljaleel',\n",
       " 'abduljalil',\n",
       " 'abdulkadir',\n",
       " 'abdulkareem',\n",
       " 'abdulkarim',\n",
       " 'abdulkhaliq',\n",
       " 'abdull',\n",
       " 'abdulla',\n",
       " 'abdullah',\n",
       " 'abdullahi',\n",
       " 'abdullatif',\n",
       " 'abdulloh',\n",
       " 'abdulmajeed',\n",
       " 'abdulmajid',\n",
       " 'abdulmalek',\n",
       " 'abdulmalik',\n",
       " 'abdulmohsen',\n",
       " 'abdulnasir',\n",
       " 'abdulqadir',\n",
       " 'abdulraheem',\n",
       " 'abdulrahim',\n",
       " 'abdulrahman',\n",
       " 'abdulrazaq',\n",
       " 'abdulrehman',\n",
       " 'abdulrhman',\n",
       " 'abdulsalam',\n",
       " 'abdulsamad',\n",
       " 'abdulwadud',\n",
       " 'abdulwahab',\n",
       " 'abdulwahid',\n",
       " 'abdur',\n",
       " 'abdurahman',\n",
       " 'abdurahmon',\n",
       " 'abdurraheem',\n",
       " 'abdurrahim',\n",
       " 'abdurrahmaan',\n",
       " 'abdurrahman',\n",
       " 'abdurrehman',\n",
       " 'abdussamad',\n",
       " 'abe',\n",
       " 'abeal',\n",
       " 'abed',\n",
       " 'abedallah',\n",
       " 'abedalrahman',\n",
       " 'abednego',\n",
       " 'abeeha',\n",
       " 'abeer',\n",
       " 'abeera',\n",
       " 'abegail',\n",
       " 'abegale',\n",
       " 'abegayle',\n",
       " 'abel',\n",
       " 'abela',\n",
       " 'abelardo',\n",
       " 'abelina',\n",
       " 'abelino',\n",
       " 'abell',\n",
       " 'abella',\n",
       " 'abem',\n",
       " 'aben',\n",
       " 'abena',\n",
       " 'abenezer',\n",
       " 'abeni',\n",
       " 'aber',\n",
       " 'aberdeen',\n",
       " 'aberham',\n",
       " 'abernathy',\n",
       " 'abert',\n",
       " 'abery',\n",
       " 'abey',\n",
       " 'abgail',\n",
       " 'abha',\n",
       " 'abhay',\n",
       " 'abheek',\n",
       " 'abhi',\n",
       " 'abhigna',\n",
       " 'abhijay',\n",
       " 'abhijeet',\n",
       " 'abhijit',\n",
       " 'abhijot',\n",
       " 'abhik',\n",
       " 'abhilash',\n",
       " 'abhimanyu',\n",
       " 'abhinav',\n",
       " 'abhinay',\n",
       " 'abhinaya',\n",
       " 'abhiraam',\n",
       " 'abhiraj',\n",
       " 'abhiram',\n",
       " 'abhirup',\n",
       " 'abhishek',\n",
       " 'abhyuday',\n",
       " 'abi',\n",
       " 'abia',\n",
       " 'abiageal',\n",
       " 'abiah',\n",
       " 'abian',\n",
       " 'abianna',\n",
       " 'abibail',\n",
       " 'abid',\n",
       " 'abida',\n",
       " 'abidah',\n",
       " 'abidan',\n",
       " 'abie',\n",
       " 'abiegail',\n",
       " 'abiel',\n",
       " 'abiela',\n",
       " 'abiella',\n",
       " 'abiezer',\n",
       " 'abigael',\n",
       " 'abigaelle',\n",
       " 'abigahil',\n",
       " 'abigai',\n",
       " 'abigail',\n",
       " 'abigaile',\n",
       " 'abigailgrace',\n",
       " 'abigaille',\n",
       " 'abigailmarie',\n",
       " 'abigailrose',\n",
       " 'abigal',\n",
       " 'abigale',\n",
       " 'abigayil',\n",
       " 'abigayl',\n",
       " 'abigayle',\n",
       " 'abigeal',\n",
       " 'abigel',\n",
       " 'abigial',\n",
       " 'abiha',\n",
       " 'abihail',\n",
       " 'abijah',\n",
       " 'abilene',\n",
       " 'abilgail',\n",
       " 'abilio',\n",
       " 'abilyn',\n",
       " 'abilynn',\n",
       " 'abimael',\n",
       " 'abimbola',\n",
       " 'abimelec',\n",
       " 'abin',\n",
       " 'abinadab',\n",
       " 'abinadi',\n",
       " 'abinav',\n",
       " 'abinaya',\n",
       " 'abiodun',\n",
       " 'abiola',\n",
       " 'abiona',\n",
       " 'abir',\n",
       " 'abira',\n",
       " 'abiram',\n",
       " 'abirami',\n",
       " 'abisag',\n",
       " 'abisai',\n",
       " 'abish',\n",
       " 'abisha',\n",
       " 'abishai',\n",
       " 'abishek',\n",
       " 'abisola',\n",
       " 'abiud',\n",
       " 'abiyah',\n",
       " 'abla',\n",
       " 'able',\n",
       " 'abnel',\n",
       " 'abner',\n",
       " 'abney',\n",
       " 'abony',\n",
       " 'abou',\n",
       " 'aboubacar',\n",
       " 'aboubakar',\n",
       " 'abra',\n",
       " 'abraam',\n",
       " 'abraar',\n",
       " 'abrah',\n",
       " 'abraham',\n",
       " 'abrahan',\n",
       " 'abraheem',\n",
       " 'abrahem',\n",
       " 'abrahim',\n",
       " 'abrahm',\n",
       " 'abram',\n",
       " 'abran',\n",
       " 'abranda',\n",
       " 'abrar',\n",
       " 'abraxas',\n",
       " 'abrea',\n",
       " 'abreana',\n",
       " 'abreanna',\n",
       " 'abree',\n",
       " 'abreia',\n",
       " 'abren',\n",
       " 'abreona',\n",
       " 'abreonna',\n",
       " 'abrey',\n",
       " 'abreya',\n",
       " 'abrham',\n",
       " 'abri',\n",
       " 'abria',\n",
       " 'abriah',\n",
       " 'abrial',\n",
       " 'abriam',\n",
       " 'abrian',\n",
       " 'abriana',\n",
       " 'abrianna',\n",
       " 'abriannah',\n",
       " 'abrianne',\n",
       " 'abrie',\n",
       " 'abriel',\n",
       " 'abriela',\n",
       " 'abriele',\n",
       " 'abriella',\n",
       " 'abrielle',\n",
       " 'abrien',\n",
       " 'abrienne',\n",
       " 'abrigail',\n",
       " 'abrihet',\n",
       " 'abril',\n",
       " 'abrille',\n",
       " 'abrina',\n",
       " 'abrion',\n",
       " 'abriona',\n",
       " 'abrionna',\n",
       " 'abrish',\n",
       " 'abriya',\n",
       " 'abriyah',\n",
       " 'abriyana',\n",
       " 'abrom',\n",
       " 'abron',\n",
       " 'abrum',\n",
       " 'abry',\n",
       " 'abryana',\n",
       " 'abryanna',\n",
       " 'abryella',\n",
       " 'abryelle',\n",
       " 'abryl',\n",
       " 'absalat',\n",
       " 'absalom',\n",
       " 'absalon',\n",
       " 'abshir',\n",
       " 'absidy',\n",
       " 'abtin',\n",
       " 'abu',\n",
       " 'abubacar',\n",
       " 'abubacarr',\n",
       " 'abubakar',\n",
       " 'abubakarr',\n",
       " 'abubakary',\n",
       " 'abubaker',\n",
       " 'abubakr',\n",
       " 'abuk',\n",
       " 'abukar',\n",
       " 'abundio',\n",
       " 'aby',\n",
       " 'abyade',\n",
       " 'abyan',\n",
       " 'abygael',\n",
       " 'abygail',\n",
       " 'abygaile',\n",
       " 'abygale',\n",
       " 'abygayle',\n",
       " 'abyssinia',\n",
       " 'ac',\n",
       " 'acacia',\n",
       " 'acacius',\n",
       " 'acadia',\n",
       " 'acamas',\n",
       " 'acari',\n",
       " 'acasia',\n",
       " 'accacia',\n",
       " 'accalia',\n",
       " 'access',\n",
       " 'accie',\n",
       " 'accursio',\n",
       " 'ace',\n",
       " 'acea',\n",
       " 'acein',\n",
       " 'acel',\n",
       " 'acelin',\n",
       " 'acelino',\n",
       " 'acelyn',\n",
       " 'acelynn',\n",
       " 'acen',\n",
       " 'acencion',\n",
       " 'aceon',\n",
       " 'acer',\n",
       " 'aceson',\n",
       " 'acesyn',\n",
       " 'aceton',\n",
       " 'acey',\n",
       " 'aceyn',\n",
       " 'achai',\n",
       " 'achaia',\n",
       " 'achan',\n",
       " 'achante',\n",
       " 'achanti',\n",
       " 'achary',\n",
       " 'achazia',\n",
       " 'achel',\n",
       " 'acheron',\n",
       " 'achille',\n",
       " 'achilles',\n",
       " 'achilleus',\n",
       " 'achillies',\n",
       " 'achintya',\n",
       " 'achol',\n",
       " 'achraf',\n",
       " 'achsa',\n",
       " 'achsah',\n",
       " 'achyut',\n",
       " 'achyuth',\n",
       " 'acia',\n",
       " 'aciano',\n",
       " 'acie',\n",
       " 'aciel',\n",
       " 'acil',\n",
       " 'acire',\n",
       " 'ackeem',\n",
       " 'ackley',\n",
       " 'acob',\n",
       " 'acquanetta',\n",
       " 'acquanette',\n",
       " 'acsa',\n",
       " 'acura',\n",
       " 'acxel',\n",
       " 'acy',\n",
       " 'ad',\n",
       " 'ada',\n",
       " 'adabel',\n",
       " 'adabella',\n",
       " 'adabelle',\n",
       " 'adacia',\n",
       " 'adae',\n",
       " 'adael',\n",
       " 'adaelyn',\n",
       " 'adaeze',\n",
       " 'adagio',\n",
       " 'adah',\n",
       " 'adahir',\n",
       " 'adahli',\n",
       " 'adahlia',\n",
       " 'adahy',\n",
       " 'adai',\n",
       " 'adaia',\n",
       " 'adaiah',\n",
       " 'adaija',\n",
       " 'adaijah',\n",
       " 'adailyn',\n",
       " 'adain',\n",
       " 'adair',\n",
       " 'adaira',\n",
       " 'adaire',\n",
       " 'adairis',\n",
       " 'adaisha',\n",
       " 'adaisia',\n",
       " 'adaja',\n",
       " 'adajah',\n",
       " 'adaku',\n",
       " 'adal',\n",
       " 'adala',\n",
       " 'adalade',\n",
       " 'adalae',\n",
       " 'adalai',\n",
       " 'adalaide',\n",
       " 'adalay',\n",
       " 'adalaya',\n",
       " 'adalayde',\n",
       " 'adalbert',\n",
       " 'adalberto',\n",
       " 'adale',\n",
       " 'adalea',\n",
       " 'adaleah',\n",
       " 'adalee',\n",
       " 'adaleen',\n",
       " 'adaleena',\n",
       " 'adalei',\n",
       " 'adaleia',\n",
       " 'adaleigh',\n",
       " 'adaleine',\n",
       " 'adalen',\n",
       " 'adalena',\n",
       " 'adalene',\n",
       " 'adaley',\n",
       " 'adaleya',\n",
       " 'adaleyza',\n",
       " 'adalhi',\n",
       " 'adali',\n",
       " 'adalia',\n",
       " 'adaliah',\n",
       " 'adalicia',\n",
       " 'adalid',\n",
       " 'adalida',\n",
       " 'adalie',\n",
       " 'adaliene',\n",
       " 'adalin',\n",
       " 'adalina',\n",
       " 'adalind',\n",
       " 'adalinda',\n",
       " 'adaline',\n",
       " 'adalinn',\n",
       " 'adalinne',\n",
       " 'adalis',\n",
       " 'adalisa',\n",
       " 'adalise',\n",
       " 'adalisse',\n",
       " 'adalius',\n",
       " 'adaliyah',\n",
       " 'adaliz',\n",
       " 'adalize',\n",
       " 'adallyn',\n",
       " 'adaly',\n",
       " 'adalya',\n",
       " 'adalye',\n",
       " 'adalyn',\n",
       " 'adalyna',\n",
       " 'adalynd',\n",
       " 'adalyne',\n",
       " 'adalynn',\n",
       " 'adalynne',\n",
       " 'adalys',\n",
       " 'adalyse',\n",
       " 'adam',\n",
       " 'adama',\n",
       " 'adamae',\n",
       " 'adamari',\n",
       " 'adamarie',\n",
       " 'adamaris',\n",
       " 'adamariz',\n",
       " 'adamary',\n",
       " 'adamarys',\n",
       " 'adamina',\n",
       " 'adamm',\n",
       " 'adamma',\n",
       " 'adammichael',\n",
       " 'adamo',\n",
       " 'adams',\n",
       " 'adan',\n",
       " 'adana',\n",
       " 'adaneli',\n",
       " 'adanelly',\n",
       " 'adanely',\n",
       " 'adanna',\n",
       " 'adannaya',\n",
       " 'adante',\n",
       " 'adanya',\n",
       " 'adaobi',\n",
       " 'adaora',\n",
       " 'adar',\n",
       " 'adara',\n",
       " 'adarah',\n",
       " 'adari',\n",
       " 'adaria',\n",
       " 'adarian',\n",
       " 'adarien',\n",
       " 'adarion',\n",
       " 'adarious',\n",
       " 'adarius',\n",
       " 'adarrius',\n",
       " 'adarryl',\n",
       " 'adarryll',\n",
       " 'adarsh',\n",
       " 'adaryl',\n",
       " 'adaryll',\n",
       " 'adasha',\n",
       " 'adashia',\n",
       " 'adasia',\n",
       " 'adason',\n",
       " 'adassa',\n",
       " 'adasyn',\n",
       " 'adaugo',\n",
       " 'adaure',\n",
       " 'adavia',\n",
       " 'adavion',\n",
       " 'adaya',\n",
       " 'adayah',\n",
       " 'adayla',\n",
       " 'adaysha',\n",
       " 'adayshia',\n",
       " 'adaysia',\n",
       " 'adbeel',\n",
       " 'adbiel',\n",
       " 'add',\n",
       " 'adda',\n",
       " 'addah',\n",
       " 'addai',\n",
       " 'addalee',\n",
       " 'addaleigh',\n",
       " 'addaley',\n",
       " 'addalie',\n",
       " 'addalin',\n",
       " 'addalina',\n",
       " 'addaline',\n",
       " 'addalyn',\n",
       " 'addalyne',\n",
       " 'addalynn',\n",
       " 'addalynne',\n",
       " 'addam',\n",
       " 'addan',\n",
       " ...]"
      ]
     },
     "execution_count": 258,
     "metadata": {},
     "output_type": "execute_result"
    }
   ],
   "source": [
    "cv.get_feature_names()"
   ]
  },
  {
   "cell_type": "code",
   "execution_count": 259,
   "metadata": {},
   "outputs": [],
   "source": [
    "from sklearn.model_selection import train_test_split"
   ]
  },
  {
   "cell_type": "code",
   "execution_count": 260,
   "metadata": {},
   "outputs": [],
   "source": [
    "X\n",
    "y = df_name.sex"
   ]
  },
  {
   "cell_type": "code",
   "execution_count": 261,
   "metadata": {},
   "outputs": [],
   "source": [
    "X_train, X_test, y_train, y_test = train_test_split(X, y, test_size=0.33, random_state=42)"
   ]
  },
  {
   "cell_type": "code",
   "execution_count": 262,
   "metadata": {},
   "outputs": [
    {
     "data": {
      "text/plain": [
       "0.6398163206734908"
      ]
     },
     "execution_count": 262,
     "metadata": {},
     "output_type": "execute_result"
    }
   ],
   "source": [
    "from sklearn.naive_bayes import MultinomialNB\n",
    "cl = MultinomialNB()\n",
    "cl.fit(X_train,y_train)\n",
    "cl.score(X_test,y_test)\n"
   ]
  },
  {
   "cell_type": "code",
   "execution_count": 263,
   "metadata": {},
   "outputs": [
    {
     "name": "stdout",
     "output_type": "stream",
     "text": [
      "Accuracy of Model 63.98163206734908 %\n",
      "Accuracy of Model 100.0 %\n"
     ]
    }
   ],
   "source": [
    "print(\"Accuracy of Model\",cl.score(X_test,y_test)*100,\"%\")\n",
    "print(\"Accuracy of Model\",cl.score(X_train,y_train)*100,\"%\")"
   ]
  },
  {
   "cell_type": "code",
   "execution_count": 264,
   "metadata": {},
   "outputs": [
    {
     "data": {
      "text/plain": [
       "array([[0, 0, 0, ..., 0, 0, 0]], dtype=int64)"
      ]
     },
     "execution_count": 264,
     "metadata": {},
     "output_type": "execute_result"
    }
   ],
   "source": [
    "sample_name = [\"savita\"]\n",
    "vect = cv.transform(sample_name).toarray()\n",
    "vect"
   ]
  },
  {
   "cell_type": "code",
   "execution_count": 265,
   "metadata": {},
   "outputs": [
    {
     "data": {
      "text/plain": [
       "array([0], dtype=int64)"
      ]
     },
     "execution_count": 265,
     "metadata": {},
     "output_type": "execute_result"
    }
   ],
   "source": [
    "cl.predict(vect)"
   ]
  },
  {
   "cell_type": "code",
   "execution_count": 266,
   "metadata": {},
   "outputs": [],
   "source": [
    "sample_name1 = [\"Mohit\"]\n",
    "vect1 = cv.transform(sample_name1).toarray()"
   ]
  },
  {
   "cell_type": "code",
   "execution_count": 267,
   "metadata": {},
   "outputs": [
    {
     "data": {
      "text/plain": [
       "array([1], dtype=int64)"
      ]
     },
     "execution_count": 267,
     "metadata": {},
     "output_type": "execute_result"
    }
   ],
   "source": [
    "cl.predict(vect1)"
   ]
  },
  {
   "cell_type": "code",
   "execution_count": 268,
   "metadata": {},
   "outputs": [],
   "source": [
    "sample_name2 = [\"Natasha\"]\n",
    "vect2 = cv.transform(sample_name2).toarray()"
   ]
  },
  {
   "cell_type": "code",
   "execution_count": 269,
   "metadata": {},
   "outputs": [
    {
     "data": {
      "text/plain": [
       "array([0], dtype=int64)"
      ]
     },
     "execution_count": 269,
     "metadata": {},
     "output_type": "execute_result"
    }
   ],
   "source": [
    "cl.predict(vect2)"
   ]
  },
  {
   "cell_type": "code",
   "execution_count": 270,
   "metadata": {},
   "outputs": [],
   "source": [
    "sample_name3 = [\"susha\",\"riya\",\"Ankur\",\"mohit\",\"savita\",\"shivani\",\"arun\",\"jatin\",\"karan\",\"rahul\"]\n",
    "vect3 = cv.transform(sample_name3).toarray()"
   ]
  },
  {
   "cell_type": "code",
   "execution_count": 271,
   "metadata": {},
   "outputs": [
    {
     "data": {
      "text/plain": [
       "array([0, 0, 1, 1, 0, 0, 1, 1, 0, 1], dtype=int64)"
      ]
     },
     "execution_count": 271,
     "metadata": {},
     "output_type": "execute_result"
    }
   ],
   "source": [
    "cl.predict(vect3)"
   ]
  },
  {
   "cell_type": "code",
   "execution_count": 272,
   "metadata": {},
   "outputs": [],
   "source": [
    "def genderpredictor(a):\n",
    "    test_name = [a]\n",
    "    vector = cv.transform(test_name).toarray()\n",
    "    if cl.predict(vector) == 0:\n",
    "        print(\"Female\")\n",
    "    else:\n",
    "        print(\"Male\")\n",
    "    "
   ]
  },
  {
   "cell_type": "code",
   "execution_count": 273,
   "metadata": {},
   "outputs": [
    {
     "name": "stdout",
     "output_type": "stream",
     "text": [
      "Female\n"
     ]
    }
   ],
   "source": [
    "genderpredictor(\"Maria\")"
   ]
  },
  {
   "cell_type": "code",
   "execution_count": 274,
   "metadata": {},
   "outputs": [
    {
     "name": "stdout",
     "output_type": "stream",
     "text": [
      "Female\n",
      "None\n",
      "Female\n",
      "None\n",
      "Female\n",
      "None\n",
      "Female\n",
      "None\n"
     ]
    }
   ],
   "source": [
    "namelist = [\"mahi\",\"sonu\",\"Femina\",\"Masha\"]\n",
    "for i in namelist:\n",
    "    print(genderpredictor(i))"
   ]
  },
  {
   "cell_type": "code",
   "execution_count": 275,
   "metadata": {},
   "outputs": [],
   "source": [
    "def feature(name):\n",
    "    name = name.lower()\n",
    "    return {\n",
    "        'first-letter': name[0], # First letter\n",
    "        'first2-letters': name[0:2], # First 2 letters\n",
    "        'first3-letters': name[0:3], # First 3 letters\n",
    "        'last-letter': name[-1],\n",
    "        'last2-letters': name[-2:],\n",
    "        'last3-letters': name[-3:],\n",
    "    }"
   ]
  },
  {
   "cell_type": "code",
   "execution_count": 276,
   "metadata": {},
   "outputs": [
    {
     "name": "stdout",
     "output_type": "stream",
     "text": [
      "[{'first-letter': 'a', 'first2-letters': 'an', 'first3-letters': 'ann', 'last-letter': 'a', 'last2-letters': 'na', 'last3-letters': 'nna'}\n",
      " {'first-letter': 'h', 'first2-letters': 'he', 'first3-letters': 'hen', 'last-letter': 'a', 'last2-letters': 'na', 'last3-letters': 'nna'}\n",
      " {'first-letter': 'p', 'first2-letters': 'pa', 'first3-letters': 'par', 'last-letter': 's', 'last2-letters': 'as', 'last3-letters': 'ras'}\n",
      " {'first-letter': 'r', 'first2-letters': 'ra', 'first3-letters': 'rah', 'last-letter': 'l', 'last2-letters': 'ul', 'last3-letters': 'hul'}\n",
      " {'first-letter': 's', 'first2-letters': 'sh', 'first3-letters': 'shi', 'last-letter': 'i', 'last2-letters': 'ni', 'last3-letters': 'ani'}\n",
      " {'first-letter': 'm', 'first2-letters': 'mo', 'first3-letters': 'moh', 'last-letter': 'd', 'last2-letters': 'ed', 'last3-letters': 'med'}]\n"
     ]
    }
   ],
   "source": [
    "feature = np.vectorize(feature)\n",
    "print(feature([\"Anna\", \"Henna\", \"Paras\",\"rahul\",\"shivani\",\"Mohammed\"]))"
   ]
  },
  {
   "cell_type": "code",
   "execution_count": 277,
   "metadata": {},
   "outputs": [],
   "source": [
    "df_X = feature(df_name['name'])"
   ]
  },
  {
   "cell_type": "code",
   "execution_count": 278,
   "metadata": {},
   "outputs": [],
   "source": [
    "df_y = df_name['sex']"
   ]
  },
  {
   "cell_type": "code",
   "execution_count": 279,
   "metadata": {},
   "outputs": [
    {
     "name": "stdout",
     "output_type": "stream",
     "text": [
      "  (0, 1)\t1.0\n",
      "  (0, 3)\t1.0\n",
      "  (0, 5)\t1.0\n",
      "  (0, 7)\t1.0\n",
      "  (0, 9)\t1.0\n",
      "  (0, 10)\t1.0\n",
      "  (1, 0)\t1.0\n",
      "  (1, 2)\t1.0\n",
      "  (1, 4)\t1.0\n",
      "  (1, 6)\t1.0\n",
      "  (1, 8)\t1.0\n",
      "  (1, 11)\t1.0\n"
     ]
    }
   ],
   "source": [
    "from sklearn.feature_extraction import DictVectorizer\n",
    " \n",
    "corpus = feature([\"Mike\", \"Julia\"])\n",
    "dv = DictVectorizer()\n",
    "dv.fit(corpus)\n",
    "transformed = dv.transform(corpus)\n",
    "print(transformed)\n",
    " "
   ]
  },
  {
   "cell_type": "code",
   "execution_count": 280,
   "metadata": {},
   "outputs": [
    {
     "data": {
      "text/plain": [
       "['first-letter=j',\n",
       " 'first-letter=m',\n",
       " 'first2-letters=ju',\n",
       " 'first2-letters=mi',\n",
       " 'first3-letters=jul',\n",
       " 'first3-letters=mik',\n",
       " 'last-letter=a',\n",
       " 'last-letter=e',\n",
       " 'last2-letters=ia',\n",
       " 'last2-letters=ke',\n",
       " 'last3-letters=ike',\n",
       " 'last3-letters=lia']"
      ]
     },
     "execution_count": 280,
     "metadata": {},
     "output_type": "execute_result"
    }
   ],
   "source": [
    "dv.get_feature_names()"
   ]
  },
  {
   "cell_type": "code",
   "execution_count": 281,
   "metadata": {},
   "outputs": [],
   "source": [
    "dfX_train, dfX_test, dfy_train, dfy_test = train_test_split(df_X, df_y, test_size=0.33, random_state=42)"
   ]
  },
  {
   "cell_type": "code",
   "execution_count": 282,
   "metadata": {},
   "outputs": [
    {
     "data": {
      "text/plain": [
       "array([{'first-letter': 'e', 'first2-letters': 'el', 'first3-letters': 'ele', 'last-letter': 'a', 'last2-letters': 'ia', 'last3-letters': 'nia'},\n",
       "       {'first-letter': 'a', 'first2-letters': 'ad', 'first3-letters': 'adi', 'last-letter': 'l', 'last2-letters': 'il', 'last3-letters': 'dil'},\n",
       "       {'first-letter': 'k', 'first2-letters': 'ka', 'first3-letters': 'kad', 'last-letter': 'e', 'last2-letters': 'ze', 'last3-letters': 'nze'},\n",
       "       ...,\n",
       "       {'first-letter': 'j', 'first2-letters': 'ja', 'first3-letters': 'jaz', 'last-letter': 'y', 'last2-letters': 'ly', 'last3-letters': 'zly'},\n",
       "       {'first-letter': 'e', 'first2-letters': 'el', 'first3-letters': 'elv', 'last-letter': 'a', 'last2-letters': 'na', 'last3-letters': 'ina'},\n",
       "       {'first-letter': 'l', 'first2-letters': 'le', 'first3-letters': 'led', 'last-letter': 'r', 'last2-letters': 'er', 'last3-letters': 'ger'}],\n",
       "      dtype=object)"
      ]
     },
     "execution_count": 282,
     "metadata": {},
     "output_type": "execute_result"
    }
   ],
   "source": [
    "dfX_train"
   ]
  },
  {
   "cell_type": "code",
   "execution_count": 283,
   "metadata": {},
   "outputs": [
    {
     "data": {
      "text/plain": [
       "<63666x8194 sparse matrix of type '<class 'numpy.float64'>'\n",
       "\twith 381996 stored elements in Compressed Sparse Row format>"
      ]
     },
     "execution_count": 283,
     "metadata": {},
     "output_type": "execute_result"
    }
   ],
   "source": [
    "dv = DictVectorizer()\n",
    "dv.fit_transform(dfX_train)\n"
   ]
  },
  {
   "cell_type": "code",
   "execution_count": 284,
   "metadata": {},
   "outputs": [
    {
     "data": {
      "text/plain": [
       "DecisionTreeClassifier(class_weight=None, criterion='gini', max_depth=None,\n",
       "                       max_features=None, max_leaf_nodes=None,\n",
       "                       min_impurity_decrease=0.0, min_impurity_split=None,\n",
       "                       min_samples_leaf=1, min_samples_split=2,\n",
       "                       min_weight_fraction_leaf=0.0, presort=False,\n",
       "                       random_state=None, splitter='best')"
      ]
     },
     "execution_count": 284,
     "metadata": {},
     "output_type": "execute_result"
    }
   ],
   "source": [
    "from sklearn.tree import DecisionTreeClassifier\n",
    "dcl = DecisionTreeClassifier()\n",
    "my_xfeatures =dv.transform(dfX_train)\n",
    "dcl.fit(my_xfeatures, dfy_train)\n"
   ]
  },
  {
   "cell_type": "code",
   "execution_count": 285,
   "metadata": {
    "scrolled": true
   },
   "outputs": [],
   "source": [
    "sample_name_eg = [\"Alka\"]\n",
    "transform_dv =dv.transform(features(sample_name_eg))\n"
   ]
  },
  {
   "cell_type": "code",
   "execution_count": 286,
   "metadata": {},
   "outputs": [],
   "source": [
    "vect3 = transform_dv.toarray()"
   ]
  },
  {
   "cell_type": "code",
   "execution_count": 288,
   "metadata": {},
   "outputs": [
    {
     "data": {
      "text/plain": [
       "array([0], dtype=int64)"
      ]
     },
     "execution_count": 288,
     "metadata": {},
     "output_type": "execute_result"
    }
   ],
   "source": [
    "dcl.predict(vect3)"
   ]
  },
  {
   "cell_type": "code",
   "execution_count": 289,
   "metadata": {},
   "outputs": [
    {
     "name": "stdout",
     "output_type": "stream",
     "text": [
      "Female\n"
     ]
    }
   ],
   "source": [
    "if dcl.predict(vect3) == 0:\n",
    "    print(\"Female\")\n",
    "else:\n",
    "    print(\"Male\")"
   ]
  },
  {
   "cell_type": "code",
   "execution_count": 290,
   "metadata": {},
   "outputs": [
    {
     "name": "stdout",
     "output_type": "stream",
     "text": [
      "Female\n"
     ]
    }
   ],
   "source": [
    "name_eg1 = [\"Charu\"]\n",
    "transform_dv =dv.transform(features(name_eg1))\n",
    "vect4 = transform_dv.toarray()\n",
    "if dcl.predict(vect4) == 0:\n",
    "    print(\"Female\")\n",
    "else:\n",
    "    print(\"Male\")"
   ]
  },
  {
   "cell_type": "code",
   "execution_count": 291,
   "metadata": {},
   "outputs": [],
   "source": [
    "def genderpredictor1(a):\n",
    "    test_name1 = [a]\n",
    "    transform_dv =dv.transform(features(test_name1))\n",
    "    vector = transform_dv.toarray()\n",
    "    if dcl.predict(vector) == 0:\n",
    "        print(\"Female\")\n",
    "    else:\n",
    "        print(\"Male\")\n",
    "    "
   ]
  },
  {
   "cell_type": "code",
   "execution_count": 292,
   "metadata": {},
   "outputs": [],
   "source": [
    "random_name_list = [\"Alok\",\"Aman\",\"rahul\",\"Varsha\",\"chandni\",\"kalki\"]"
   ]
  },
  {
   "cell_type": "code",
   "execution_count": 293,
   "metadata": {},
   "outputs": [
    {
     "name": "stdout",
     "output_type": "stream",
     "text": [
      "Male\n",
      "None\n",
      "Male\n",
      "None\n",
      "Male\n",
      "None\n",
      "Female\n",
      "None\n",
      "Female\n",
      "None\n",
      "Male\n",
      "None\n"
     ]
    }
   ],
   "source": [
    "for n in random_name_list:\n",
    "    print(genderpredictor1(n))"
   ]
  },
  {
   "cell_type": "code",
   "execution_count": 294,
   "metadata": {},
   "outputs": [
    {
     "name": "stdout",
     "output_type": "stream",
     "text": [
      "0.9888951716771903\n",
      "0.8671513760005102\n"
     ]
    }
   ],
   "source": [
    "print(dcl.score(dv.transform(dfX_train), dfy_train)) \n",
    "print(dcl.score(dv.transform(dfX_test), dfy_test))"
   ]
  },
  {
   "cell_type": "code",
   "execution_count": 295,
   "metadata": {},
   "outputs": [],
   "source": [
    "from sklearn.externals import joblib"
   ]
  },
  {
   "cell_type": "code",
   "execution_count": 296,
   "metadata": {},
   "outputs": [],
   "source": [
    "decisiontreeModel = open(\"decisiontreemodelnew.pkl\",\"wb\")"
   ]
  },
  {
   "cell_type": "code",
   "execution_count": 297,
   "metadata": {},
   "outputs": [],
   "source": [
    "joblib.dump(dcl,decisiontreeModel)"
   ]
  },
  {
   "cell_type": "code",
   "execution_count": 298,
   "metadata": {},
   "outputs": [],
   "source": [
    "decisiontreeModel.close()"
   ]
  },
  {
   "cell_type": "code",
   "execution_count": 299,
   "metadata": {},
   "outputs": [],
   "source": [
    "import pickle\n",
    "randomforestModel = open(\"randomforestmodel.pkl\",\"wb\")"
   ]
  },
  {
   "cell_type": "code",
   "execution_count": 300,
   "metadata": {},
   "outputs": [],
   "source": [
    "pickle.dump(dcl,randomforestModel)"
   ]
  },
  {
   "cell_type": "code",
   "execution_count": 301,
   "metadata": {},
   "outputs": [],
   "source": [
    "randomforestModel.close()"
   ]
  },
  {
   "cell_type": "code",
   "execution_count": 302,
   "metadata": {},
   "outputs": [],
   "source": [
    "NaiveBayesModel1 = open(\"naivebayesmodel.pkl\",\"wb\")"
   ]
  },
  {
   "cell_type": "code",
   "execution_count": 303,
   "metadata": {},
   "outputs": [],
   "source": [
    "joblib.dump(cl,NaiveBayesModel1)"
   ]
  },
  {
   "cell_type": "code",
   "execution_count": 304,
   "metadata": {},
   "outputs": [],
   "source": [
    "NaiveBayesModel.close()"
   ]
  },
  {
   "cell_type": "code",
   "execution_count": null,
   "metadata": {},
   "outputs": [],
   "source": []
  }
 ],
 "metadata": {
  "kernelspec": {
   "display_name": "Python 3",
   "language": "python",
   "name": "python3"
  },
  "language_info": {
   "codemirror_mode": {
    "name": "ipython",
    "version": 3
   },
   "file_extension": ".py",
   "mimetype": "text/x-python",
   "name": "python",
   "nbconvert_exporter": "python",
   "pygments_lexer": "ipython3",
   "version": "3.7.3"
  }
 },
 "nbformat": 4,
 "nbformat_minor": 2
}
